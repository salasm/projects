{
 "cells": [
  {
   "cell_type": "code",
   "execution_count": 1,
   "id": "d3606565",
   "metadata": {
    "_cell_guid": "b1076dfc-b9ad-4769-8c92-a6c4dae69d19",
    "_uuid": "8f2839f25d086af736a60e9eeb907d3b93b6e0e5",
    "execution": {
     "iopub.execute_input": "2023-01-25T15:36:52.802338Z",
     "iopub.status.busy": "2023-01-25T15:36:52.801336Z",
     "iopub.status.idle": "2023-01-25T15:36:52.821401Z",
     "shell.execute_reply": "2023-01-25T15:36:52.820032Z"
    },
    "papermill": {
     "duration": 0.041045,
     "end_time": "2023-01-25T15:36:52.824826",
     "exception": false,
     "start_time": "2023-01-25T15:36:52.783781",
     "status": "completed"
    },
    "tags": []
   },
   "outputs": [
    {
     "name": "stdout",
     "output_type": "stream",
     "text": [
      "/kaggle/input/turing-data-analytics-test/covid_data.csv\n",
      "/kaggle/input/turing-data-analytics-test/cardio_base.csv\n",
      "/kaggle/input/turing-data-analytics-test/cardio_alco.csv\n"
     ]
    }
   ],
   "source": [
    "# This Python 3 environment comes with many helpful analytics libraries installed\n",
    "# It is defined by the kaggle/python Docker image: https://github.com/kaggle/docker-python\n",
    "# For example, here's several helpful packages to load\n",
    "\n",
    "import numpy as np # linear algebra\n",
    "import pandas as pd # data processing, CSV file I/O (e.g. pd.read_csv)\n",
    "\n",
    "# Input data files are available in the read-only \"../input/\" directory\n",
    "# For example, running this (by clicking run or pressing Shift+Enter) will list all files under the input directory\n",
    "\n",
    "import os\n",
    "for dirname, _, filenames in os.walk('/kaggle/input'):\n",
    "    for filename in filenames:\n",
    "        print(os.path.join(dirname, filename))\n",
    "\n",
    "# You can write up to 20GB to the current directory (/kaggle/working/) that gets preserved as output when you create a version using \"Save & Run All\" \n",
    "# You can also write temporary files to /kaggle/temp/, but they won't be saved outside of the current session"
   ]
  },
  {
   "cell_type": "code",
   "execution_count": 2,
   "id": "deda1872",
   "metadata": {
    "execution": {
     "iopub.execute_input": "2023-01-25T15:36:52.848832Z",
     "iopub.status.busy": "2023-01-25T15:36:52.848218Z",
     "iopub.status.idle": "2023-01-25T15:36:52.889780Z",
     "shell.execute_reply": "2023-01-25T15:36:52.888543Z"
    },
    "papermill": {
     "duration": 0.056038,
     "end_time": "2023-01-25T15:36:52.892552",
     "exception": false,
     "start_time": "2023-01-25T15:36:52.836514",
     "status": "completed"
    },
    "tags": []
   },
   "outputs": [
    {
     "name": "stdout",
     "output_type": "stream",
     "text": [
      "(56903, 2)\n"
     ]
    },
    {
     "data": {
      "text/html": [
       "<div>\n",
       "<style scoped>\n",
       "    .dataframe tbody tr th:only-of-type {\n",
       "        vertical-align: middle;\n",
       "    }\n",
       "\n",
       "    .dataframe tbody tr th {\n",
       "        vertical-align: top;\n",
       "    }\n",
       "\n",
       "    .dataframe thead th {\n",
       "        text-align: right;\n",
       "    }\n",
       "</style>\n",
       "<table border=\"1\" class=\"dataframe\">\n",
       "  <thead>\n",
       "    <tr style=\"text-align: right;\">\n",
       "      <th></th>\n",
       "      <th>id</th>\n",
       "      <th>alco</th>\n",
       "    </tr>\n",
       "  </thead>\n",
       "  <tbody>\n",
       "    <tr>\n",
       "      <th>0</th>\n",
       "      <td>44</td>\n",
       "      <td>0</td>\n",
       "    </tr>\n",
       "    <tr>\n",
       "      <th>1</th>\n",
       "      <td>45</td>\n",
       "      <td>0</td>\n",
       "    </tr>\n",
       "    <tr>\n",
       "      <th>2</th>\n",
       "      <td>46</td>\n",
       "      <td>0</td>\n",
       "    </tr>\n",
       "    <tr>\n",
       "      <th>3</th>\n",
       "      <td>47</td>\n",
       "      <td>0</td>\n",
       "    </tr>\n",
       "    <tr>\n",
       "      <th>4</th>\n",
       "      <td>49</td>\n",
       "      <td>0</td>\n",
       "    </tr>\n",
       "  </tbody>\n",
       "</table>\n",
       "</div>"
      ],
      "text/plain": [
       "   id  alco\n",
       "0  44     0\n",
       "1  45     0\n",
       "2  46     0\n",
       "3  47     0\n",
       "4  49     0"
      ]
     },
     "execution_count": 2,
     "metadata": {},
     "output_type": "execute_result"
    }
   ],
   "source": [
    "alco_df = pd.read_csv(\"/kaggle/input/turing-data-analytics-test/cardio_alco.csv\", sep = \";\")\n",
    "print(alco_df.shape)\n",
    "alco_df.head()"
   ]
  },
  {
   "cell_type": "code",
   "execution_count": 3,
   "id": "09381ed8",
   "metadata": {
    "execution": {
     "iopub.execute_input": "2023-01-25T15:36:52.913712Z",
     "iopub.status.busy": "2023-01-25T15:36:52.913386Z",
     "iopub.status.idle": "2023-01-25T15:36:52.940866Z",
     "shell.execute_reply": "2023-01-25T15:36:52.939548Z"
    },
    "papermill": {
     "duration": 0.040855,
     "end_time": "2023-01-25T15:36:52.943279",
     "exception": false,
     "start_time": "2023-01-25T15:36:52.902424",
     "status": "completed"
    },
    "tags": []
   },
   "outputs": [
    {
     "name": "stdout",
     "output_type": "stream",
     "text": [
      "(56903, 2)\n",
      "[   44    45    46 ... 99951 99952 99954] 56903\n",
      "[0 1] 2\n"
     ]
    }
   ],
   "source": [
    "alco_df.drop_duplicates(inplace=True)\n",
    "print(alco_df.shape)\n",
    "print(alco_df.id.unique(), alco_df.id.nunique())\n",
    "print(alco_df.alco.unique(), alco_df.alco.nunique())"
   ]
  },
  {
   "cell_type": "code",
   "execution_count": 4,
   "id": "3d898179",
   "metadata": {
    "execution": {
     "iopub.execute_input": "2023-01-25T15:36:52.963890Z",
     "iopub.status.busy": "2023-01-25T15:36:52.963542Z",
     "iopub.status.idle": "2023-01-25T15:36:53.060457Z",
     "shell.execute_reply": "2023-01-25T15:36:53.059365Z"
    },
    "papermill": {
     "duration": 0.111448,
     "end_time": "2023-01-25T15:36:53.064356",
     "exception": false,
     "start_time": "2023-01-25T15:36:52.952908",
     "status": "completed"
    },
    "tags": []
   },
   "outputs": [
    {
     "name": "stdout",
     "output_type": "stream",
     "text": [
      "(70000, 9)\n"
     ]
    },
    {
     "data": {
      "text/html": [
       "<div>\n",
       "<style scoped>\n",
       "    .dataframe tbody tr th:only-of-type {\n",
       "        vertical-align: middle;\n",
       "    }\n",
       "\n",
       "    .dataframe tbody tr th {\n",
       "        vertical-align: top;\n",
       "    }\n",
       "\n",
       "    .dataframe thead th {\n",
       "        text-align: right;\n",
       "    }\n",
       "</style>\n",
       "<table border=\"1\" class=\"dataframe\">\n",
       "  <thead>\n",
       "    <tr style=\"text-align: right;\">\n",
       "      <th></th>\n",
       "      <th>id</th>\n",
       "      <th>age</th>\n",
       "      <th>gender</th>\n",
       "      <th>height</th>\n",
       "      <th>weight</th>\n",
       "      <th>ap_hi</th>\n",
       "      <th>ap_lo</th>\n",
       "      <th>cholesterol</th>\n",
       "      <th>smoke</th>\n",
       "    </tr>\n",
       "  </thead>\n",
       "  <tbody>\n",
       "    <tr>\n",
       "      <th>0</th>\n",
       "      <td>0</td>\n",
       "      <td>18393</td>\n",
       "      <td>2</td>\n",
       "      <td>168</td>\n",
       "      <td>62.0</td>\n",
       "      <td>110</td>\n",
       "      <td>80</td>\n",
       "      <td>1</td>\n",
       "      <td>0</td>\n",
       "    </tr>\n",
       "    <tr>\n",
       "      <th>1</th>\n",
       "      <td>1</td>\n",
       "      <td>20228</td>\n",
       "      <td>1</td>\n",
       "      <td>156</td>\n",
       "      <td>85.0</td>\n",
       "      <td>140</td>\n",
       "      <td>90</td>\n",
       "      <td>3</td>\n",
       "      <td>0</td>\n",
       "    </tr>\n",
       "    <tr>\n",
       "      <th>2</th>\n",
       "      <td>2</td>\n",
       "      <td>18857</td>\n",
       "      <td>1</td>\n",
       "      <td>165</td>\n",
       "      <td>64.0</td>\n",
       "      <td>130</td>\n",
       "      <td>70</td>\n",
       "      <td>3</td>\n",
       "      <td>0</td>\n",
       "    </tr>\n",
       "    <tr>\n",
       "      <th>3</th>\n",
       "      <td>3</td>\n",
       "      <td>17623</td>\n",
       "      <td>2</td>\n",
       "      <td>169</td>\n",
       "      <td>82.0</td>\n",
       "      <td>150</td>\n",
       "      <td>100</td>\n",
       "      <td>1</td>\n",
       "      <td>0</td>\n",
       "    </tr>\n",
       "    <tr>\n",
       "      <th>4</th>\n",
       "      <td>4</td>\n",
       "      <td>17474</td>\n",
       "      <td>1</td>\n",
       "      <td>156</td>\n",
       "      <td>56.0</td>\n",
       "      <td>100</td>\n",
       "      <td>60</td>\n",
       "      <td>1</td>\n",
       "      <td>0</td>\n",
       "    </tr>\n",
       "  </tbody>\n",
       "</table>\n",
       "</div>"
      ],
      "text/plain": [
       "   id    age  gender  height  weight  ap_hi  ap_lo  cholesterol  smoke\n",
       "0   0  18393       2     168    62.0    110     80            1      0\n",
       "1   1  20228       1     156    85.0    140     90            3      0\n",
       "2   2  18857       1     165    64.0    130     70            3      0\n",
       "3   3  17623       2     169    82.0    150    100            1      0\n",
       "4   4  17474       1     156    56.0    100     60            1      0"
      ]
     },
     "execution_count": 4,
     "metadata": {},
     "output_type": "execute_result"
    }
   ],
   "source": [
    "base_df = pd.read_csv(\"/kaggle/input/turing-data-analytics-test/cardio_base.csv\")\n",
    "print(base_df.shape)\n",
    "base_df.head()"
   ]
  },
  {
   "cell_type": "code",
   "execution_count": 5,
   "id": "0f7d976a",
   "metadata": {
    "execution": {
     "iopub.execute_input": "2023-01-25T15:36:53.087218Z",
     "iopub.status.busy": "2023-01-25T15:36:53.086856Z",
     "iopub.status.idle": "2023-01-25T15:36:53.131638Z",
     "shell.execute_reply": "2023-01-25T15:36:53.130557Z"
    },
    "papermill": {
     "duration": 0.059736,
     "end_time": "2023-01-25T15:36:53.134637",
     "exception": false,
     "start_time": "2023-01-25T15:36:53.074901",
     "status": "completed"
    },
    "tags": []
   },
   "outputs": [
    {
     "name": "stdout",
     "output_type": "stream",
     "text": [
      "(70000, 9)\n",
      "id [    0     1     2 ... 99996 99998 99999] 70000\n",
      "--------------------------------------------------------\n",
      "age [18393 20228 18857 ... 14925 17727 17926] 8076\n",
      "--------------------------------------------------------\n",
      "gender [2 1] 2\n",
      "--------------------------------------------------------\n",
      "height [168 156 165 169 151 157 178 158 164 173 181 172 170 154 162 163 153 159\n",
      " 166 155 160 175 171 152 187 148 179 180 188 185 167 183 174 176 161 184\n",
      " 177 182  76 149 142 150 144 147 186 146 141 195 140 198 145 143 196 138\n",
      " 194 190 134 136 100 120 189 137 192 122 250 191 117  70  97 119 130 110\n",
      " 193  75 132  71 135  67 125 139 133  74  98 112 207  68  55  81  80  64\n",
      "  91  60 109  72 197  65 128 105 108 200 104 111 113  96 131  59  66  99\n",
      "  57] 109\n",
      "--------------------------------------------------------\n",
      "weight [ 62.    85.    64.    82.    56.    67.    93.    95.    71.    68.\n",
      "  80.    60.    78.   112.    75.    52.    83.    69.    90.    45.\n",
      "  65.    59.    66.    74.   105.    73.    55.    70.    72.    63.\n",
      "  50.   107.    84.    77.    79.    76.    58.   115.    97.    53.\n",
      "  57.    49.   110.    94.    92.    87.   103.    88.    99.   100.\n",
      "  61.    48.    54.    51.    47.    91.   104.    81.    98.   108.\n",
      "  89.   101.    86.    65.5  142.    96.    44.    41.   169.   116.\n",
      " 200.    64.8  120.   117.   125.   106.   114.   113.   129.   124.\n",
      "  42.   123.   111.   102.   109.    46.   139.   150.   138.   131.\n",
      "  43.    83.6  134.   106.5  121.    40.   141.   119.   126.   177.\n",
      " 165.   122.    62.3  118.    89.5  132.   155.   130.   159.    84.6\n",
      " 140.    82.3   30.    67.9  127.    67.5   74.3  149.   180.   128.\n",
      "  60.2   64.5   58.7   90.5   37.    80.8  166.   161.    92.2   75.6\n",
      " 136.    82.9  154.    68.9  170.    84.5  135.    72.5  146.    70.5\n",
      "  74.2   84.3   38.    54.5  145.    68.5   79.5   72.8   73.2   96.5\n",
      "  53.2   39.    61.2  168.   133.    54.35  50.7   79.94  45.8  153.\n",
      "  34.    62.4  167.   156.    35.    70.3   31.    60.5   69.8   64.7\n",
      "  64.1  152.    59.5  163.    75.5   78.2  162.   121.3  178.    82.5\n",
      "  90.7   80.6   55.6   59.8   74.77  32.    70.8   57.4   73.8   56.2\n",
      "  69.5   71.5   89.1  158.    76.5   35.45  86.5   63.8   23.   144.\n",
      "  70.2   68.4  148.   164.    22.    66.5   54.9   59.2   65.3  137.\n",
      "  62.2   50.5   36.    61.5   80.5   81.1   53.6   11.    66.4   76.7\n",
      "  28.    68.3   60.6   76.8   58.8  181.    75.2   83.5   64.3  175.\n",
      "  84.9   80.7   84.7   60.1  105.5   85.5  121.8   51.5   53.9   42.2\n",
      "  74.5  114.6   73.5   71.3   33.    66.3   53.3   67.8   70.7   52.3\n",
      "  82.4   63.4   71.2   62.5   63.82  88.5   89.9   72.1  106.4  160.\n",
      "  68.2   53.67 171.    55.2   94.5  143.    62.7   53.5  109.5   10.\n",
      "  82.1   57.8   84.8   21.    29.   183.    58.5   57.6   78.5  172.\n",
      " 109.7   61.3   67.3   94.7  147.    55.4   99.9 ] 287\n",
      "--------------------------------------------------------\n",
      "ap_hi [  110   140   130   150   100   120   145   170   135   125    90   180\n",
      "   160   133   190    80   122   169   126   158   200    14   123    70\n",
      "   161   147   115   137   153    11   148   105   220   119   141   165\n",
      "   164    12   124   172   902   162   906   117   134   166   210   176\n",
      "   116    10   121    16   112   159   113   118   155   142   131   157\n",
      "   136   146   138  -100   909   109    85   106   129    93     7    95\n",
      "   179   156   168   132   104   103   178   175   128   151    15   139\n",
      " 11500   127    17   108   144   102     1  1420    13   143   701   107\n",
      "   184   149   167   114   101    60  1500   181   171   202  -115   111\n",
      "   907    20   188   185   163   173   154   177  -140   174  -120 14020\n",
      "  1400   240   191   197  1620   152    96   199  -150  1130   193    99\n",
      "   196   309   401 16020  1202   806  1300   230   207   215    97  1409\n",
      " 11020    24   960 13010  1110   195  1205   187  2000] 153\n",
      "--------------------------------------------------------\n",
      "ap_lo [   80    90    70   100    60    85    89   110    65    63    79  1100\n",
      "  1000   800   120    50    30   109    84  1033   150    91    40    73\n",
      "    78    75    86    87  1001    82    95    69    74    97    81  1200\n",
      "    83   119     0    93   105 10000    99    77    59  8044   140    92\n",
      "  1044   108   125   115    68    61   106   102    94    66    52   170\n",
      "    76   160    62    96   130   113    67  9100    10    88   902     8\n",
      "   112   104    71    72  1008    98  2088    20   802  8000  1022   850\n",
      "   708    57   101  9011  1011    64  1007  1177  7100    45   709  8500\n",
      "    58  1110  8099  1088   126  1077  1120     7   103  1125   180   121\n",
      "  8100   710  5700  8079  1111  1003     6  1900   809   114   801  1002\n",
      "    53   111     1   118    56   182   810     9  7099 11000  9800  8200\n",
      "  1139   107   820    55  1400   190   900   122  6800   135   700    15\n",
      "  1101   910  1140  1211   -70    54  8077   901   880   870   585    49\n",
      "   602] 157\n",
      "--------------------------------------------------------\n",
      "cholesterol [1 3 2] 3\n",
      "--------------------------------------------------------\n",
      "smoke [0 1] 2\n",
      "--------------------------------------------------------\n"
     ]
    }
   ],
   "source": [
    "base_df.drop_duplicates(inplace=True)\n",
    "print(base_df.shape)\n",
    "for col in base_df.columns :\n",
    "    print(col, base_df[col].unique(), base_df[col].nunique())\n",
    "    print(\"--------------------------------------------------------\")"
   ]
  },
  {
   "cell_type": "code",
   "execution_count": 6,
   "id": "4dc8a8bb",
   "metadata": {
    "execution": {
     "iopub.execute_input": "2023-01-25T15:36:53.156785Z",
     "iopub.status.busy": "2023-01-25T15:36:53.155987Z",
     "iopub.status.idle": "2023-01-25T15:36:53.164516Z",
     "shell.execute_reply": "2023-01-25T15:36:53.163588Z"
    },
    "papermill": {
     "duration": 0.021383,
     "end_time": "2023-01-25T15:36:53.166640",
     "exception": false,
     "start_time": "2023-01-25T15:36:53.145257",
     "status": "completed"
    },
    "tags": []
   },
   "outputs": [
    {
     "data": {
      "text/plain": [
       "id               int64\n",
       "age              int64\n",
       "gender           int64\n",
       "height           int64\n",
       "weight         float64\n",
       "ap_hi            int64\n",
       "ap_lo            int64\n",
       "cholesterol      int64\n",
       "smoke            int64\n",
       "dtype: object"
      ]
     },
     "execution_count": 6,
     "metadata": {},
     "output_type": "execute_result"
    }
   ],
   "source": [
    "base_df.dtypes"
   ]
  },
  {
   "cell_type": "code",
   "execution_count": 7,
   "id": "4f119b48",
   "metadata": {
    "execution": {
     "iopub.execute_input": "2023-01-25T15:36:53.188596Z",
     "iopub.status.busy": "2023-01-25T15:36:53.187857Z",
     "iopub.status.idle": "2023-01-25T15:36:53.194320Z",
     "shell.execute_reply": "2023-01-25T15:36:53.193275Z"
    },
    "papermill": {
     "duration": 0.019663,
     "end_time": "2023-01-25T15:36:53.196539",
     "exception": false,
     "start_time": "2023-01-25T15:36:53.176876",
     "status": "completed"
    },
    "tags": []
   },
   "outputs": [],
   "source": [
    "base_df['age'] = (base_df.age/365).astype('int')"
   ]
  },
  {
   "cell_type": "code",
   "execution_count": 8,
   "id": "7c942a4d",
   "metadata": {
    "execution": {
     "iopub.execute_input": "2023-01-25T15:36:53.217149Z",
     "iopub.status.busy": "2023-01-25T15:36:53.216818Z",
     "iopub.status.idle": "2023-01-25T15:36:53.229162Z",
     "shell.execute_reply": "2023-01-25T15:36:53.228114Z"
    },
    "papermill": {
     "duration": 0.025289,
     "end_time": "2023-01-25T15:36:53.231340",
     "exception": false,
     "start_time": "2023-01-25T15:36:53.206051",
     "status": "completed"
    },
    "tags": []
   },
   "outputs": [
    {
     "data": {
      "text/html": [
       "<div>\n",
       "<style scoped>\n",
       "    .dataframe tbody tr th:only-of-type {\n",
       "        vertical-align: middle;\n",
       "    }\n",
       "\n",
       "    .dataframe tbody tr th {\n",
       "        vertical-align: top;\n",
       "    }\n",
       "\n",
       "    .dataframe thead th {\n",
       "        text-align: right;\n",
       "    }\n",
       "</style>\n",
       "<table border=\"1\" class=\"dataframe\">\n",
       "  <thead>\n",
       "    <tr style=\"text-align: right;\">\n",
       "      <th></th>\n",
       "      <th>id</th>\n",
       "      <th>age</th>\n",
       "      <th>gender</th>\n",
       "      <th>height</th>\n",
       "      <th>weight</th>\n",
       "      <th>ap_hi</th>\n",
       "      <th>ap_lo</th>\n",
       "      <th>cholesterol</th>\n",
       "      <th>smoke</th>\n",
       "    </tr>\n",
       "  </thead>\n",
       "  <tbody>\n",
       "    <tr>\n",
       "      <th>0</th>\n",
       "      <td>0</td>\n",
       "      <td>50</td>\n",
       "      <td>2</td>\n",
       "      <td>168</td>\n",
       "      <td>62.0</td>\n",
       "      <td>110</td>\n",
       "      <td>80</td>\n",
       "      <td>1</td>\n",
       "      <td>0</td>\n",
       "    </tr>\n",
       "    <tr>\n",
       "      <th>1</th>\n",
       "      <td>1</td>\n",
       "      <td>55</td>\n",
       "      <td>1</td>\n",
       "      <td>156</td>\n",
       "      <td>85.0</td>\n",
       "      <td>140</td>\n",
       "      <td>90</td>\n",
       "      <td>3</td>\n",
       "      <td>0</td>\n",
       "    </tr>\n",
       "    <tr>\n",
       "      <th>2</th>\n",
       "      <td>2</td>\n",
       "      <td>51</td>\n",
       "      <td>1</td>\n",
       "      <td>165</td>\n",
       "      <td>64.0</td>\n",
       "      <td>130</td>\n",
       "      <td>70</td>\n",
       "      <td>3</td>\n",
       "      <td>0</td>\n",
       "    </tr>\n",
       "    <tr>\n",
       "      <th>3</th>\n",
       "      <td>3</td>\n",
       "      <td>48</td>\n",
       "      <td>2</td>\n",
       "      <td>169</td>\n",
       "      <td>82.0</td>\n",
       "      <td>150</td>\n",
       "      <td>100</td>\n",
       "      <td>1</td>\n",
       "      <td>0</td>\n",
       "    </tr>\n",
       "    <tr>\n",
       "      <th>4</th>\n",
       "      <td>4</td>\n",
       "      <td>47</td>\n",
       "      <td>1</td>\n",
       "      <td>156</td>\n",
       "      <td>56.0</td>\n",
       "      <td>100</td>\n",
       "      <td>60</td>\n",
       "      <td>1</td>\n",
       "      <td>0</td>\n",
       "    </tr>\n",
       "  </tbody>\n",
       "</table>\n",
       "</div>"
      ],
      "text/plain": [
       "   id  age  gender  height  weight  ap_hi  ap_lo  cholesterol  smoke\n",
       "0   0   50       2     168    62.0    110     80            1      0\n",
       "1   1   55       1     156    85.0    140     90            3      0\n",
       "2   2   51       1     165    64.0    130     70            3      0\n",
       "3   3   48       2     169    82.0    150    100            1      0\n",
       "4   4   47       1     156    56.0    100     60            1      0"
      ]
     },
     "execution_count": 8,
     "metadata": {},
     "output_type": "execute_result"
    }
   ],
   "source": [
    "base_df.head()"
   ]
  },
  {
   "cell_type": "code",
   "execution_count": 9,
   "id": "fcec1319",
   "metadata": {
    "execution": {
     "iopub.execute_input": "2023-01-25T15:36:53.253648Z",
     "iopub.status.busy": "2023-01-25T15:36:53.253090Z",
     "iopub.status.idle": "2023-01-25T15:36:53.300225Z",
     "shell.execute_reply": "2023-01-25T15:36:53.299131Z"
    },
    "papermill": {
     "duration": 0.060741,
     "end_time": "2023-01-25T15:36:53.302399",
     "exception": false,
     "start_time": "2023-01-25T15:36:53.241658",
     "status": "completed"
    },
    "tags": []
   },
   "outputs": [
    {
     "data": {
      "text/html": [
       "<div>\n",
       "<style scoped>\n",
       "    .dataframe tbody tr th:only-of-type {\n",
       "        vertical-align: middle;\n",
       "    }\n",
       "\n",
       "    .dataframe tbody tr th {\n",
       "        vertical-align: top;\n",
       "    }\n",
       "\n",
       "    .dataframe thead th {\n",
       "        text-align: right;\n",
       "    }\n",
       "</style>\n",
       "<table border=\"1\" class=\"dataframe\">\n",
       "  <thead>\n",
       "    <tr style=\"text-align: right;\">\n",
       "      <th></th>\n",
       "      <th>id</th>\n",
       "      <th>age</th>\n",
       "      <th>gender</th>\n",
       "      <th>height</th>\n",
       "      <th>weight</th>\n",
       "      <th>ap_hi</th>\n",
       "      <th>ap_lo</th>\n",
       "      <th>cholesterol</th>\n",
       "      <th>smoke</th>\n",
       "      <th>alco</th>\n",
       "    </tr>\n",
       "  </thead>\n",
       "  <tbody>\n",
       "    <tr>\n",
       "      <th>0</th>\n",
       "      <td>0</td>\n",
       "      <td>50</td>\n",
       "      <td>2</td>\n",
       "      <td>168</td>\n",
       "      <td>62.0</td>\n",
       "      <td>110</td>\n",
       "      <td>80</td>\n",
       "      <td>1</td>\n",
       "      <td>0</td>\n",
       "      <td>NaN</td>\n",
       "    </tr>\n",
       "    <tr>\n",
       "      <th>1</th>\n",
       "      <td>1</td>\n",
       "      <td>55</td>\n",
       "      <td>1</td>\n",
       "      <td>156</td>\n",
       "      <td>85.0</td>\n",
       "      <td>140</td>\n",
       "      <td>90</td>\n",
       "      <td>3</td>\n",
       "      <td>0</td>\n",
       "      <td>NaN</td>\n",
       "    </tr>\n",
       "    <tr>\n",
       "      <th>2</th>\n",
       "      <td>2</td>\n",
       "      <td>51</td>\n",
       "      <td>1</td>\n",
       "      <td>165</td>\n",
       "      <td>64.0</td>\n",
       "      <td>130</td>\n",
       "      <td>70</td>\n",
       "      <td>3</td>\n",
       "      <td>0</td>\n",
       "      <td>NaN</td>\n",
       "    </tr>\n",
       "    <tr>\n",
       "      <th>3</th>\n",
       "      <td>3</td>\n",
       "      <td>48</td>\n",
       "      <td>2</td>\n",
       "      <td>169</td>\n",
       "      <td>82.0</td>\n",
       "      <td>150</td>\n",
       "      <td>100</td>\n",
       "      <td>1</td>\n",
       "      <td>0</td>\n",
       "      <td>NaN</td>\n",
       "    </tr>\n",
       "    <tr>\n",
       "      <th>4</th>\n",
       "      <td>4</td>\n",
       "      <td>47</td>\n",
       "      <td>1</td>\n",
       "      <td>156</td>\n",
       "      <td>56.0</td>\n",
       "      <td>100</td>\n",
       "      <td>60</td>\n",
       "      <td>1</td>\n",
       "      <td>0</td>\n",
       "      <td>NaN</td>\n",
       "    </tr>\n",
       "  </tbody>\n",
       "</table>\n",
       "</div>"
      ],
      "text/plain": [
       "   id  age  gender  height  weight  ap_hi  ap_lo  cholesterol  smoke  alco\n",
       "0   0   50       2     168    62.0    110     80            1      0   NaN\n",
       "1   1   55       1     156    85.0    140     90            3      0   NaN\n",
       "2   2   51       1     165    64.0    130     70            3      0   NaN\n",
       "3   3   48       2     169    82.0    150    100            1      0   NaN\n",
       "4   4   47       1     156    56.0    100     60            1      0   NaN"
      ]
     },
     "execution_count": 9,
     "metadata": {},
     "output_type": "execute_result"
    }
   ],
   "source": [
    "mrg_base_df = pd.merge(base_df, alco_df, on = \"id\", how=\"left\")\n",
    "mrg_base_df.head()"
   ]
  },
  {
   "cell_type": "code",
   "execution_count": 10,
   "id": "e0bfe695",
   "metadata": {
    "execution": {
     "iopub.execute_input": "2023-01-25T15:36:53.325387Z",
     "iopub.status.busy": "2023-01-25T15:36:53.324519Z",
     "iopub.status.idle": "2023-01-25T15:36:53.334788Z",
     "shell.execute_reply": "2023-01-25T15:36:53.333903Z"
    },
    "papermill": {
     "duration": 0.023834,
     "end_time": "2023-01-25T15:36:53.336885",
     "exception": false,
     "start_time": "2023-01-25T15:36:53.313051",
     "status": "completed"
    },
    "tags": []
   },
   "outputs": [
    {
     "data": {
      "text/plain": [
       "id                 0\n",
       "age                0\n",
       "gender             0\n",
       "height             0\n",
       "weight             0\n",
       "ap_hi              0\n",
       "ap_lo              0\n",
       "cholesterol        0\n",
       "smoke              0\n",
       "alco           13097\n",
       "dtype: int64"
      ]
     },
     "execution_count": 10,
     "metadata": {},
     "output_type": "execute_result"
    }
   ],
   "source": [
    "mrg_base_df.isna().sum()"
   ]
  },
  {
   "cell_type": "code",
   "execution_count": 11,
   "id": "04c8fb97",
   "metadata": {
    "execution": {
     "iopub.execute_input": "2023-01-25T15:36:53.359165Z",
     "iopub.status.busy": "2023-01-25T15:36:53.358850Z",
     "iopub.status.idle": "2023-01-25T15:36:53.366522Z",
     "shell.execute_reply": "2023-01-25T15:36:53.365719Z"
    },
    "papermill": {
     "duration": 0.02111,
     "end_time": "2023-01-25T15:36:53.368473",
     "exception": false,
     "start_time": "2023-01-25T15:36:53.347363",
     "status": "completed"
    },
    "tags": []
   },
   "outputs": [],
   "source": [
    "mrg_base_df.alco.fillna(method = 'bfill', inplace=True)\n",
    "mrg_base_df.alco.fillna(method = 'ffill', inplace=True)"
   ]
  },
  {
   "cell_type": "code",
   "execution_count": 12,
   "id": "7778834b",
   "metadata": {
    "execution": {
     "iopub.execute_input": "2023-01-25T15:36:53.391036Z",
     "iopub.status.busy": "2023-01-25T15:36:53.390703Z",
     "iopub.status.idle": "2023-01-25T15:36:53.400230Z",
     "shell.execute_reply": "2023-01-25T15:36:53.399137Z"
    },
    "papermill": {
     "duration": 0.023242,
     "end_time": "2023-01-25T15:36:53.402338",
     "exception": false,
     "start_time": "2023-01-25T15:36:53.379096",
     "status": "completed"
    },
    "tags": []
   },
   "outputs": [
    {
     "data": {
      "text/plain": [
       "id             0\n",
       "age            0\n",
       "gender         0\n",
       "height         0\n",
       "weight         0\n",
       "ap_hi          0\n",
       "ap_lo          0\n",
       "cholesterol    0\n",
       "smoke          0\n",
       "alco           0\n",
       "dtype: int64"
      ]
     },
     "execution_count": 12,
     "metadata": {},
     "output_type": "execute_result"
    }
   ],
   "source": [
    "mrg_base_df.isna().sum()"
   ]
  },
  {
   "cell_type": "code",
   "execution_count": 13,
   "id": "95334367",
   "metadata": {
    "execution": {
     "iopub.execute_input": "2023-01-25T15:36:53.425008Z",
     "iopub.status.busy": "2023-01-25T15:36:53.424261Z",
     "iopub.status.idle": "2023-01-25T15:36:53.437099Z",
     "shell.execute_reply": "2023-01-25T15:36:53.435951Z"
    },
    "papermill": {
     "duration": 0.02638,
     "end_time": "2023-01-25T15:36:53.439361",
     "exception": false,
     "start_time": "2023-01-25T15:36:53.412981",
     "status": "completed"
    },
    "tags": []
   },
   "outputs": [
    {
     "data": {
      "text/plain": [
       "0.2859952671226089"
      ]
     },
     "execution_count": 13,
     "metadata": {},
     "output_type": "execute_result"
    }
   ],
   "source": [
    "max_avg_weight = mrg_base_df.groupby('age').weight.mean().max()\n",
    "min_avg_weight = mrg_base_df.groupby('age').weight.mean().min()\n",
    "(max_avg_weight / min_avg_weight) - 1 "
   ]
  },
  {
   "cell_type": "code",
   "execution_count": 14,
   "id": "7c694d93",
   "metadata": {
    "execution": {
     "iopub.execute_input": "2023-01-25T15:36:53.463017Z",
     "iopub.status.busy": "2023-01-25T15:36:53.462422Z",
     "iopub.status.idle": "2023-01-25T15:36:53.482525Z",
     "shell.execute_reply": "2023-01-25T15:36:53.481453Z"
    },
    "papermill": {
     "duration": 0.034159,
     "end_time": "2023-01-25T15:36:53.484577",
     "exception": false,
     "start_time": "2023-01-25T15:36:53.450418",
     "status": "completed"
    },
    "tags": []
   },
   "outputs": [
    {
     "data": {
      "text/plain": [
       "1.192326742513159"
      ]
     },
     "execution_count": 14,
     "metadata": {},
     "output_type": "execute_result"
    }
   ],
   "source": [
    "h_col_avg = mrg_base_df[mrg_base_df.age >= 50].groupby('age').cholesterol.mean().mean()\n",
    "l_col_avg = mrg_base_df[mrg_base_df.age < 50].groupby('age').cholesterol.mean().mean()\n",
    "h_col_avg / l_col_avg"
   ]
  },
  {
   "cell_type": "code",
   "execution_count": 15,
   "id": "33f509ff",
   "metadata": {
    "execution": {
     "iopub.execute_input": "2023-01-25T15:36:53.507307Z",
     "iopub.status.busy": "2023-01-25T15:36:53.506735Z",
     "iopub.status.idle": "2023-01-25T15:36:53.518143Z",
     "shell.execute_reply": "2023-01-25T15:36:53.516553Z"
    },
    "papermill": {
     "duration": 0.025627,
     "end_time": "2023-01-25T15:36:53.520467",
     "exception": false,
     "start_time": "2023-01-25T15:36:53.494840",
     "status": "completed"
    },
    "tags": []
   },
   "outputs": [
    {
     "name": "stdout",
     "output_type": "stream",
     "text": [
      "gender\n",
      "1    161.355612\n",
      "2    169.947895\n",
      "Name: height, dtype: float64\n",
      "gender\n",
      "1    72.565605\n",
      "2    77.257307\n",
      "Name: weight, dtype: float64\n"
     ]
    }
   ],
   "source": [
    "print(mrg_base_df.groupby('gender').height.mean())\n",
    "print(mrg_base_df.groupby('gender').weight.mean())\n",
    "# Men generally are taller and heavier. So, gender 2 is men and gender 1 is women"
   ]
  },
  {
   "cell_type": "code",
   "execution_count": 16,
   "id": "aa20e7ca",
   "metadata": {
    "execution": {
     "iopub.execute_input": "2023-01-25T15:36:53.544060Z",
     "iopub.status.busy": "2023-01-25T15:36:53.543466Z",
     "iopub.status.idle": "2023-01-25T15:36:53.556345Z",
     "shell.execute_reply": "2023-01-25T15:36:53.555404Z"
    },
    "papermill": {
     "duration": 0.026842,
     "end_time": "2023-01-25T15:36:53.558382",
     "exception": false,
     "start_time": "2023-01-25T15:36:53.531540",
     "status": "completed"
    },
    "tags": []
   },
   "outputs": [
    {
     "data": {
      "text/plain": [
       "12.257833097333833"
      ]
     },
     "execution_count": 16,
     "metadata": {},
     "output_type": "execute_result"
    }
   ],
   "source": [
    "men_smoke = mrg_base_df[mrg_base_df.gender == 2].smoke.mean()\n",
    "women_smoke = mrg_base_df[mrg_base_df.gender == 1].smoke.mean()\n",
    "men_smoke/women_smoke"
   ]
  },
  {
   "cell_type": "code",
   "execution_count": 17,
   "id": "39cc8436",
   "metadata": {
    "execution": {
     "iopub.execute_input": "2023-01-25T15:36:53.581090Z",
     "iopub.status.busy": "2023-01-25T15:36:53.580684Z",
     "iopub.status.idle": "2023-01-25T15:36:53.590543Z",
     "shell.execute_reply": "2023-01-25T15:36:53.589641Z"
    },
    "papermill": {
     "duration": 0.023707,
     "end_time": "2023-01-25T15:36:53.592610",
     "exception": false,
     "start_time": "2023-01-25T15:36:53.568903",
     "status": "completed"
    },
    "tags": []
   },
   "outputs": [
    {
     "data": {
      "text/plain": [
       "184.0"
      ]
     },
     "execution_count": 17,
     "metadata": {},
     "output_type": "execute_result"
    }
   ],
   "source": [
    "mrg_base_df.height.quantile(0.99)"
   ]
  },
  {
   "cell_type": "code",
   "execution_count": 18,
   "id": "92023a73",
   "metadata": {
    "execution": {
     "iopub.execute_input": "2023-01-25T15:36:53.617319Z",
     "iopub.status.busy": "2023-01-25T15:36:53.616405Z",
     "iopub.status.idle": "2023-01-25T15:36:55.352641Z",
     "shell.execute_reply": "2023-01-25T15:36:55.351440Z"
    },
    "papermill": {
     "duration": 1.75161,
     "end_time": "2023-01-25T15:36:55.355624",
     "exception": false,
     "start_time": "2023-01-25T15:36:53.604014",
     "status": "completed"
    },
    "tags": []
   },
   "outputs": [
    {
     "data": {
      "image/png": "[encoded data removed]",
      "text/plain": [
       "<Figure size 1440x720 with 2 Axes>"
      ]
     },
     "metadata": {
      "needs_background": "light"
     },
     "output_type": "display_data"
    }
   ],
   "source": [
    "import seaborn as sns\n",
    "import matplotlib.pyplot as plt\n",
    "plt.figure(figsize=(20,10))\n",
    "corr = mrg_base_df.corr(method = 'spearman')\n",
    "sns.heatmap(corr, annot = True)\n",
    "plt.show()"
   ]
  },
  {
   "cell_type": "code",
   "execution_count": 19,
   "id": "a24e555f",
   "metadata": {
    "execution": {
     "iopub.execute_input": "2023-01-25T15:36:55.380660Z",
     "iopub.status.busy": "2023-01-25T15:36:55.379994Z",
     "iopub.status.idle": "2023-01-25T15:36:55.391940Z",
     "shell.execute_reply": "2023-01-25T15:36:55.391008Z"
    },
    "papermill": {
     "duration": 0.026449,
     "end_time": "2023-01-25T15:36:55.394026",
     "exception": false,
     "start_time": "2023-01-25T15:36:55.367577",
     "status": "completed"
    },
    "tags": []
   },
   "outputs": [
    {
     "data": {
      "text/plain": [
       "0.020557142857142857"
      ]
     },
     "execution_count": 19,
     "metadata": {},
     "output_type": "execute_result"
    }
   ],
   "source": [
    "height_avg = mrg_base_df.height.mean()\n",
    "height_std = mrg_base_df.height.std()\n",
    "len(mrg_base_df[mrg_base_df.height > height_avg + 2*height_std])/len(mrg_base_df.height)"
   ]
  },
  {
   "cell_type": "code",
   "execution_count": 20,
   "id": "bade2b6f",
   "metadata": {
    "execution": {
     "iopub.execute_input": "2023-01-25T15:36:55.418919Z",
     "iopub.status.busy": "2023-01-25T15:36:55.418023Z",
     "iopub.status.idle": "2023-01-25T15:36:55.445669Z",
     "shell.execute_reply": "2023-01-25T15:36:55.444867Z"
    },
    "papermill": {
     "duration": 0.042475,
     "end_time": "2023-01-25T15:36:55.448110",
     "exception": false,
     "start_time": "2023-01-25T15:36:55.405635",
     "status": "completed"
    },
    "tags": []
   },
   "outputs": [],
   "source": [
    "mrg_base_df2 = pd.merge(base_df, alco_df, on = \"id\")"
   ]
  },
  {
   "cell_type": "code",
   "execution_count": 21,
   "id": "8513f5e1",
   "metadata": {
    "execution": {
     "iopub.execute_input": "2023-01-25T15:36:55.474922Z",
     "iopub.status.busy": "2023-01-25T15:36:55.474268Z",
     "iopub.status.idle": "2023-01-25T15:36:55.486385Z",
     "shell.execute_reply": "2023-01-25T15:36:55.485427Z"
    },
    "papermill": {
     "duration": 0.027685,
     "end_time": "2023-01-25T15:36:55.488756",
     "exception": false,
     "start_time": "2023-01-25T15:36:55.461071",
     "status": "completed"
    },
    "tags": []
   },
   "outputs": [
    {
     "data": {
      "text/html": [
       "<div>\n",
       "<style scoped>\n",
       "    .dataframe tbody tr th:only-of-type {\n",
       "        vertical-align: middle;\n",
       "    }\n",
       "\n",
       "    .dataframe tbody tr th {\n",
       "        vertical-align: top;\n",
       "    }\n",
       "\n",
       "    .dataframe thead th {\n",
       "        text-align: right;\n",
       "    }\n",
       "</style>\n",
       "<table border=\"1\" class=\"dataframe\">\n",
       "  <thead>\n",
       "    <tr style=\"text-align: right;\">\n",
       "      <th></th>\n",
       "      <th>id</th>\n",
       "      <th>age</th>\n",
       "      <th>gender</th>\n",
       "      <th>height</th>\n",
       "      <th>weight</th>\n",
       "      <th>ap_hi</th>\n",
       "      <th>ap_lo</th>\n",
       "      <th>cholesterol</th>\n",
       "      <th>smoke</th>\n",
       "      <th>alco</th>\n",
       "    </tr>\n",
       "  </thead>\n",
       "  <tbody>\n",
       "    <tr>\n",
       "      <th>0</th>\n",
       "      <td>44</td>\n",
       "      <td>40</td>\n",
       "      <td>1</td>\n",
       "      <td>159</td>\n",
       "      <td>60.0</td>\n",
       "      <td>110</td>\n",
       "      <td>70</td>\n",
       "      <td>1</td>\n",
       "      <td>0</td>\n",
       "      <td>0</td>\n",
       "    </tr>\n",
       "    <tr>\n",
       "      <th>1</th>\n",
       "      <td>45</td>\n",
       "      <td>56</td>\n",
       "      <td>1</td>\n",
       "      <td>160</td>\n",
       "      <td>73.0</td>\n",
       "      <td>130</td>\n",
       "      <td>85</td>\n",
       "      <td>1</td>\n",
       "      <td>0</td>\n",
       "      <td>0</td>\n",
       "    </tr>\n",
       "    <tr>\n",
       "      <th>2</th>\n",
       "      <td>46</td>\n",
       "      <td>60</td>\n",
       "      <td>2</td>\n",
       "      <td>173</td>\n",
       "      <td>82.0</td>\n",
       "      <td>140</td>\n",
       "      <td>90</td>\n",
       "      <td>3</td>\n",
       "      <td>0</td>\n",
       "      <td>0</td>\n",
       "    </tr>\n",
       "    <tr>\n",
       "      <th>3</th>\n",
       "      <td>47</td>\n",
       "      <td>55</td>\n",
       "      <td>1</td>\n",
       "      <td>163</td>\n",
       "      <td>55.0</td>\n",
       "      <td>120</td>\n",
       "      <td>80</td>\n",
       "      <td>1</td>\n",
       "      <td>0</td>\n",
       "      <td>0</td>\n",
       "    </tr>\n",
       "    <tr>\n",
       "      <th>4</th>\n",
       "      <td>49</td>\n",
       "      <td>50</td>\n",
       "      <td>2</td>\n",
       "      <td>175</td>\n",
       "      <td>95.0</td>\n",
       "      <td>120</td>\n",
       "      <td>80</td>\n",
       "      <td>1</td>\n",
       "      <td>0</td>\n",
       "      <td>0</td>\n",
       "    </tr>\n",
       "  </tbody>\n",
       "</table>\n",
       "</div>"
      ],
      "text/plain": [
       "   id  age  gender  height  weight  ap_hi  ap_lo  cholesterol  smoke  alco\n",
       "0  44   40       1     159    60.0    110     70            1      0     0\n",
       "1  45   56       1     160    73.0    130     85            1      0     0\n",
       "2  46   60       2     173    82.0    140     90            3      0     0\n",
       "3  47   55       1     163    55.0    120     80            1      0     0\n",
       "4  49   50       2     175    95.0    120     80            1      0     0"
      ]
     },
     "execution_count": 21,
     "metadata": {},
     "output_type": "execute_result"
    }
   ],
   "source": [
    "mrg_base_df2.head()"
   ]
  },
  {
   "cell_type": "code",
   "execution_count": 22,
   "id": "c5fad5c4",
   "metadata": {
    "execution": {
     "iopub.execute_input": "2023-01-25T15:36:55.514589Z",
     "iopub.status.busy": "2023-01-25T15:36:55.514204Z",
     "iopub.status.idle": "2023-01-25T15:36:55.531978Z",
     "shell.execute_reply": "2023-01-25T15:36:55.531078Z"
    },
    "papermill": {
     "duration": 0.033343,
     "end_time": "2023-01-25T15:36:55.534213",
     "exception": false,
     "start_time": "2023-01-25T15:36:55.500870",
     "status": "completed"
    },
    "tags": []
   },
   "outputs": [
    {
     "data": {
      "text/plain": [
       "0.049086076910560286"
      ]
     },
     "execution_count": 22,
     "metadata": {},
     "output_type": "execute_result"
    }
   ],
   "source": [
    "smoke_old = mrg_base_df2[(mrg_base_df2.age > 50) & (mrg_base_df2.alco == 1)]\n",
    "len(smoke_old)/len(mrg_base_df2[mrg_base_df2.age > 50])"
   ]
  },
  {
   "cell_type": "code",
   "execution_count": 23,
   "id": "8e2d84a2",
   "metadata": {
    "execution": {
     "iopub.execute_input": "2023-01-25T15:36:55.561386Z",
     "iopub.status.busy": "2023-01-25T15:36:55.560730Z",
     "iopub.status.idle": "2023-01-25T15:36:55.583564Z",
     "shell.execute_reply": "2023-01-25T15:36:55.582807Z"
    },
    "papermill": {
     "duration": 0.038512,
     "end_time": "2023-01-25T15:36:55.585544",
     "exception": false,
     "start_time": "2023-01-25T15:36:55.547032",
     "status": "completed"
    },
    "tags": []
   },
   "outputs": [
    {
     "data": {
      "text/html": [
       "<div>\n",
       "<style scoped>\n",
       "    .dataframe tbody tr th:only-of-type {\n",
       "        vertical-align: middle;\n",
       "    }\n",
       "\n",
       "    .dataframe tbody tr th {\n",
       "        vertical-align: top;\n",
       "    }\n",
       "\n",
       "    .dataframe thead th {\n",
       "        text-align: right;\n",
       "    }\n",
       "</style>\n",
       "<table border=\"1\" class=\"dataframe\">\n",
       "  <thead>\n",
       "    <tr style=\"text-align: right;\">\n",
       "      <th></th>\n",
       "      <th>id</th>\n",
       "      <th>age</th>\n",
       "      <th>gender</th>\n",
       "      <th>height</th>\n",
       "      <th>weight</th>\n",
       "      <th>ap_hi</th>\n",
       "      <th>ap_lo</th>\n",
       "      <th>cholesterol</th>\n",
       "      <th>alco</th>\n",
       "    </tr>\n",
       "    <tr>\n",
       "      <th>smoke</th>\n",
       "      <th></th>\n",
       "      <th></th>\n",
       "      <th></th>\n",
       "      <th></th>\n",
       "      <th></th>\n",
       "      <th></th>\n",
       "      <th></th>\n",
       "      <th></th>\n",
       "      <th></th>\n",
       "    </tr>\n",
       "  </thead>\n",
       "  <tbody>\n",
       "    <tr>\n",
       "      <th>0</th>\n",
       "      <td>50005.59844</td>\n",
       "      <td>52.940906</td>\n",
       "      <td>1.299447</td>\n",
       "      <td>163.879416</td>\n",
       "      <td>73.902352</td>\n",
       "      <td>128.861431</td>\n",
       "      <td>96.326550</td>\n",
       "      <td>1.364682</td>\n",
       "      <td>0.024205</td>\n",
       "    </tr>\n",
       "    <tr>\n",
       "      <th>1</th>\n",
       "      <td>49629.11963</td>\n",
       "      <td>51.803534</td>\n",
       "      <td>1.868212</td>\n",
       "      <td>169.323877</td>\n",
       "      <td>77.344351</td>\n",
       "      <td>128.360512</td>\n",
       "      <td>99.774518</td>\n",
       "      <td>1.389528</td>\n",
       "      <td>0.242503</td>\n",
       "    </tr>\n",
       "  </tbody>\n",
       "</table>\n",
       "</div>"
      ],
      "text/plain": [
       "                id        age    gender      height     weight       ap_hi  \\\n",
       "smoke                                                                        \n",
       "0      50005.59844  52.940906  1.299447  163.879416  73.902352  128.861431   \n",
       "1      49629.11963  51.803534  1.868212  169.323877  77.344351  128.360512   \n",
       "\n",
       "           ap_lo  cholesterol      alco  \n",
       "smoke                                    \n",
       "0      96.326550     1.364682  0.024205  \n",
       "1      99.774518     1.389528  0.242503  "
      ]
     },
     "execution_count": 23,
     "metadata": {},
     "output_type": "execute_result"
    }
   ],
   "source": [
    "mrg_base_df.groupby('smoke').mean()"
   ]
  },
  {
   "cell_type": "code",
   "execution_count": 24,
   "id": "2d981265",
   "metadata": {
    "execution": {
     "iopub.execute_input": "2023-01-25T15:36:55.612938Z",
     "iopub.status.busy": "2023-01-25T15:36:55.612577Z",
     "iopub.status.idle": "2023-01-25T15:36:55.631921Z",
     "shell.execute_reply": "2023-01-25T15:36:55.630943Z"
    },
    "papermill": {
     "duration": 0.035395,
     "end_time": "2023-01-25T15:36:55.634359",
     "exception": false,
     "start_time": "2023-01-25T15:36:55.598964",
     "status": "completed"
    },
    "tags": []
   },
   "outputs": [
    {
     "data": {
      "text/html": [
       "<div>\n",
       "<style scoped>\n",
       "    .dataframe tbody tr th:only-of-type {\n",
       "        vertical-align: middle;\n",
       "    }\n",
       "\n",
       "    .dataframe tbody tr th {\n",
       "        vertical-align: top;\n",
       "    }\n",
       "\n",
       "    .dataframe thead th {\n",
       "        text-align: right;\n",
       "    }\n",
       "</style>\n",
       "<table border=\"1\" class=\"dataframe\">\n",
       "  <thead>\n",
       "    <tr style=\"text-align: right;\">\n",
       "      <th></th>\n",
       "      <th>id</th>\n",
       "      <th>age</th>\n",
       "      <th>height</th>\n",
       "      <th>weight</th>\n",
       "      <th>ap_hi</th>\n",
       "      <th>ap_lo</th>\n",
       "      <th>cholesterol</th>\n",
       "      <th>smoke</th>\n",
       "      <th>alco</th>\n",
       "    </tr>\n",
       "    <tr>\n",
       "      <th>gender</th>\n",
       "      <th></th>\n",
       "      <th></th>\n",
       "      <th></th>\n",
       "      <th></th>\n",
       "      <th></th>\n",
       "      <th></th>\n",
       "      <th></th>\n",
       "      <th></th>\n",
       "      <th></th>\n",
       "    </tr>\n",
       "  </thead>\n",
       "  <tbody>\n",
       "    <tr>\n",
       "      <th>1</th>\n",
       "      <td>49898.345267</td>\n",
       "      <td>52.954338</td>\n",
       "      <td>161.355612</td>\n",
       "      <td>72.565605</td>\n",
       "      <td>128.139249</td>\n",
       "      <td>94.522776</td>\n",
       "      <td>1.384735</td>\n",
       "      <td>0.017856</td>\n",
       "      <td>0.020668</td>\n",
       "    </tr>\n",
       "    <tr>\n",
       "      <th>2</th>\n",
       "      <td>50110.246547</td>\n",
       "      <td>52.629179</td>\n",
       "      <td>169.947895</td>\n",
       "      <td>77.257307</td>\n",
       "      <td>130.078872</td>\n",
       "      <td>100.551982</td>\n",
       "      <td>1.333633</td>\n",
       "      <td>0.218880</td>\n",
       "      <td>0.085819</td>\n",
       "    </tr>\n",
       "  </tbody>\n",
       "</table>\n",
       "</div>"
      ],
      "text/plain": [
       "                  id        age      height     weight       ap_hi  \\\n",
       "gender                                                               \n",
       "1       49898.345267  52.954338  161.355612  72.565605  128.139249   \n",
       "2       50110.246547  52.629179  169.947895  77.257307  130.078872   \n",
       "\n",
       "             ap_lo  cholesterol     smoke      alco  \n",
       "gender                                               \n",
       "1        94.522776     1.384735  0.017856  0.020668  \n",
       "2       100.551982     1.333633  0.218880  0.085819  "
      ]
     },
     "execution_count": 24,
     "metadata": {},
     "output_type": "execute_result"
    }
   ],
   "source": [
    "mrg_base_df.groupby('gender').mean()"
   ]
  },
  {
   "cell_type": "code",
   "execution_count": 25,
   "id": "db67160c",
   "metadata": {
    "execution": {
     "iopub.execute_input": "2023-01-25T15:36:55.662222Z",
     "iopub.status.busy": "2023-01-25T15:36:55.661450Z",
     "iopub.status.idle": "2023-01-25T15:36:55.709114Z",
     "shell.execute_reply": "2023-01-25T15:36:55.707897Z"
    },
    "papermill": {
     "duration": 0.064135,
     "end_time": "2023-01-25T15:36:55.711350",
     "exception": false,
     "start_time": "2023-01-25T15:36:55.647215",
     "status": "completed"
    },
    "tags": []
   },
   "outputs": [
    {
     "name": "stdout",
     "output_type": "stream",
     "text": [
      "(23082, 8)\n"
     ]
    },
    {
     "data": {
      "text/html": [
       "<div>\n",
       "<style scoped>\n",
       "    .dataframe tbody tr th:only-of-type {\n",
       "        vertical-align: middle;\n",
       "    }\n",
       "\n",
       "    .dataframe tbody tr th {\n",
       "        vertical-align: top;\n",
       "    }\n",
       "\n",
       "    .dataframe thead th {\n",
       "        text-align: right;\n",
       "    }\n",
       "</style>\n",
       "<table border=\"1\" class=\"dataframe\">\n",
       "  <thead>\n",
       "    <tr style=\"text-align: right;\">\n",
       "      <th></th>\n",
       "      <th>location</th>\n",
       "      <th>date</th>\n",
       "      <th>new_cases</th>\n",
       "      <th>new_deaths</th>\n",
       "      <th>population</th>\n",
       "      <th>aged_65_older_percent</th>\n",
       "      <th>gdp_per_capita</th>\n",
       "      <th>hospital_beds_per_thousand</th>\n",
       "    </tr>\n",
       "  </thead>\n",
       "  <tbody>\n",
       "    <tr>\n",
       "      <th>0</th>\n",
       "      <td>Afghanistan</td>\n",
       "      <td>2019-12-31</td>\n",
       "      <td>0</td>\n",
       "      <td>0</td>\n",
       "      <td>38928341.0</td>\n",
       "      <td>2.581</td>\n",
       "      <td>1803.987</td>\n",
       "      <td>0.5</td>\n",
       "    </tr>\n",
       "    <tr>\n",
       "      <th>1</th>\n",
       "      <td>Afghanistan</td>\n",
       "      <td>2020-01-01</td>\n",
       "      <td>0</td>\n",
       "      <td>0</td>\n",
       "      <td>38928341.0</td>\n",
       "      <td>2.581</td>\n",
       "      <td>1803.987</td>\n",
       "      <td>0.5</td>\n",
       "    </tr>\n",
       "    <tr>\n",
       "      <th>2</th>\n",
       "      <td>Afghanistan</td>\n",
       "      <td>2020-01-02</td>\n",
       "      <td>0</td>\n",
       "      <td>0</td>\n",
       "      <td>38928341.0</td>\n",
       "      <td>2.581</td>\n",
       "      <td>1803.987</td>\n",
       "      <td>0.5</td>\n",
       "    </tr>\n",
       "    <tr>\n",
       "      <th>3</th>\n",
       "      <td>Afghanistan</td>\n",
       "      <td>2020-01-03</td>\n",
       "      <td>0</td>\n",
       "      <td>0</td>\n",
       "      <td>38928341.0</td>\n",
       "      <td>2.581</td>\n",
       "      <td>1803.987</td>\n",
       "      <td>0.5</td>\n",
       "    </tr>\n",
       "    <tr>\n",
       "      <th>4</th>\n",
       "      <td>Afghanistan</td>\n",
       "      <td>2020-01-04</td>\n",
       "      <td>0</td>\n",
       "      <td>0</td>\n",
       "      <td>38928341.0</td>\n",
       "      <td>2.581</td>\n",
       "      <td>1803.987</td>\n",
       "      <td>0.5</td>\n",
       "    </tr>\n",
       "  </tbody>\n",
       "</table>\n",
       "</div>"
      ],
      "text/plain": [
       "      location        date  new_cases  new_deaths  population  \\\n",
       "0  Afghanistan  2019-12-31          0           0  38928341.0   \n",
       "1  Afghanistan  2020-01-01          0           0  38928341.0   \n",
       "2  Afghanistan  2020-01-02          0           0  38928341.0   \n",
       "3  Afghanistan  2020-01-03          0           0  38928341.0   \n",
       "4  Afghanistan  2020-01-04          0           0  38928341.0   \n",
       "\n",
       "   aged_65_older_percent  gdp_per_capita  hospital_beds_per_thousand  \n",
       "0                  2.581        1803.987                         0.5  \n",
       "1                  2.581        1803.987                         0.5  \n",
       "2                  2.581        1803.987                         0.5  \n",
       "3                  2.581        1803.987                         0.5  \n",
       "4                  2.581        1803.987                         0.5  "
      ]
     },
     "execution_count": 25,
     "metadata": {},
     "output_type": "execute_result"
    }
   ],
   "source": [
    "covid_df = pd.read_csv(\"/kaggle/input/turing-data-analytics-test/covid_data.csv\")\n",
    "print(covid_df.shape)\n",
    "covid_df.head()"
   ]
  },
  {
   "cell_type": "code",
   "execution_count": 26,
   "id": "bd3c907c",
   "metadata": {
    "execution": {
     "iopub.execute_input": "2023-01-25T15:36:55.739096Z",
     "iopub.status.busy": "2023-01-25T15:36:55.738204Z",
     "iopub.status.idle": "2023-01-25T15:36:55.745094Z",
     "shell.execute_reply": "2023-01-25T15:36:55.744423Z"
    },
    "papermill": {
     "duration": 0.022221,
     "end_time": "2023-01-25T15:36:55.746989",
     "exception": false,
     "start_time": "2023-01-25T15:36:55.724768",
     "status": "completed"
    },
    "tags": []
   },
   "outputs": [
    {
     "data": {
      "text/plain": [
       "location                       object\n",
       "date                           object\n",
       "new_cases                       int64\n",
       "new_deaths                      int64\n",
       "population                    float64\n",
       "aged_65_older_percent         float64\n",
       "gdp_per_capita                float64\n",
       "hospital_beds_per_thousand    float64\n",
       "dtype: object"
      ]
     },
     "execution_count": 26,
     "metadata": {},
     "output_type": "execute_result"
    }
   ],
   "source": [
    "covid_df.dtypes"
   ]
  },
  {
   "cell_type": "code",
   "execution_count": 27,
   "id": "20f9e0df",
   "metadata": {
    "execution": {
     "iopub.execute_input": "2023-01-25T15:36:55.775769Z",
     "iopub.status.busy": "2023-01-25T15:36:55.775083Z",
     "iopub.status.idle": "2023-01-25T15:36:55.812698Z",
     "shell.execute_reply": "2023-01-25T15:36:55.811533Z"
    },
    "papermill": {
     "duration": 0.056572,
     "end_time": "2023-01-25T15:36:55.816888",
     "exception": false,
     "start_time": "2023-01-25T15:36:55.760316",
     "status": "completed"
    },
    "tags": []
   },
   "outputs": [
    {
     "name": "stdout",
     "output_type": "stream",
     "text": [
      "(23082, 8)\n",
      "location ['Afghanistan' 'Albania' 'Algeria' 'Andorra' 'Angola' 'Anguilla'\n",
      " 'Antigua and Barbuda' 'Argentina' 'Armenia' 'Aruba' 'Australia' 'Austria'\n",
      " 'Azerbaijan' 'Bahamas' 'Bahrain' 'Bangladesh' 'Barbados' 'Belarus'\n",
      " 'Belgium' 'Belize' 'Benin' 'Bermuda' 'Bhutan' 'Bolivia'\n",
      " 'Bonaire Sint Eustatius and Saba' 'Bosnia and Herzegovina' 'Botswana'\n",
      " 'Brazil' 'British Virgin Islands' 'Brunei' 'Bulgaria' 'Burkina Faso'\n",
      " 'Burundi' 'Cambodia' 'Cameroon' 'Canada' 'Cape Verde' 'Cayman Islands'\n",
      " 'Central African Republic' 'Chad' 'Chile' 'China' 'Colombia' 'Comoros'\n",
      " 'Congo' 'Costa Rica' \"Cote d'Ivoire\" 'Croatia' 'Cuba' 'Curacao' 'Cyprus'\n",
      " 'Czech Republic' 'Democratic Republic of Congo' 'Denmark' 'Djibouti'\n",
      " 'Dominica' 'Dominican Republic' 'Ecuador' 'Egypt' 'El Salvador'\n",
      " 'Equatorial Guinea' 'Eritrea' 'Estonia' 'Ethiopia' 'Faeroe Islands'\n",
      " 'Falkland Islands' 'Fiji' 'Finland' 'France' 'French Polynesia' 'Gabon'\n",
      " 'Gambia' 'Georgia' 'Germany' 'Ghana' 'Gibraltar' 'Greece' 'Greenland'\n",
      " 'Grenada' 'Guam' 'Guatemala' 'Guernsey' 'Guinea' 'Guinea-Bissau' 'Guyana'\n",
      " 'Haiti' 'Honduras' 'Hong Kong' 'Hungary' 'Iceland' 'India' 'Indonesia'\n",
      " 'Iran' 'Iraq' 'Ireland' 'Isle of Man' 'Israel' 'Italy' 'Jamaica' 'Japan'\n",
      " 'Jersey' 'Jordan' 'Kazakhstan' 'Kenya' 'Kosovo' 'Kuwait' 'Kyrgyzstan'\n",
      " 'Laos' 'Latvia' 'Lebanon' 'Lesotho' 'Liberia' 'Libya' 'Liechtenstein'\n",
      " 'Lithuania' 'Luxembourg' 'Macedonia' 'Madagascar' 'Malawi' 'Malaysia'\n",
      " 'Maldives' 'Mali' 'Malta' 'Mauritania' 'Mauritius' 'Mexico' 'Moldova'\n",
      " 'Monaco' 'Mongolia' 'Montenegro' 'Montserrat' 'Morocco' 'Mozambique'\n",
      " 'Myanmar' 'Namibia' 'Nepal' 'Netherlands' 'New Caledonia' 'New Zealand'\n",
      " 'Nicaragua' 'Niger' 'Nigeria' 'Northern Mariana Islands' 'Norway' 'Oman'\n",
      " 'Pakistan' 'Palestine' 'Panama' 'Papua New Guinea' 'Paraguay' 'Peru'\n",
      " 'Philippines' 'Poland' 'Portugal' 'Puerto Rico' 'Qatar' 'Romania'\n",
      " 'Russia' 'Rwanda' 'Saint Kitts and Nevis' 'Saint Lucia'\n",
      " 'Saint Vincent and the Grenadines' 'San Marino' 'Sao Tome and Principe'\n",
      " 'Saudi Arabia' 'Senegal' 'Serbia' 'Seychelles' 'Sierra Leone' 'Singapore'\n",
      " 'Sint Maarten (Dutch part)' 'Slovakia' 'Slovenia' 'Somalia'\n",
      " 'South Africa' 'South Korea' 'South Sudan' 'Spain' 'Sri Lanka' 'Sudan'\n",
      " 'Suriname' 'Swaziland' 'Sweden' 'Switzerland' 'Syria' 'Taiwan'\n",
      " 'Tajikistan' 'Tanzania' 'Thailand' 'Timor' 'Togo' 'Trinidad and Tobago'\n",
      " 'Tunisia' 'Turkey' 'Turks and Caicos Islands' 'Uganda' 'Ukraine'\n",
      " 'United Arab Emirates' 'United Kingdom' 'United States'\n",
      " 'United States Virgin Islands' 'Uruguay' 'Uzbekistan' 'Vatican'\n",
      " 'Venezuela' 'Vietnam' 'Western Sahara' 'Yemen' 'Zambia' 'Zimbabwe'\n",
      " 'World' 'International'] 212\n",
      "--------------------------------------------------------\n",
      "date ['2019-12-31' '2020-01-01' '2020-01-02' '2020-01-03' '2020-01-04'\n",
      " '2020-01-05' '2020-01-06' '2020-01-07' '2020-01-08' '2020-01-09'\n",
      " '2020-01-10' '2020-01-11' '2020-01-12' '2020-01-13' '2020-01-14'\n",
      " '2020-01-15' '2020-01-16' '2020-01-17' '2020-01-18' '2020-01-19'\n",
      " '2020-01-20' '2020-01-21' '2020-01-22' '2020-01-23' '2020-01-24'\n",
      " '2020-01-25' '2020-01-26' '2020-01-27' '2020-01-28' '2020-01-29'\n",
      " '2020-01-30' '2020-01-31' '2020-02-01' '2020-02-02' '2020-02-03'\n",
      " '2020-02-04' '2020-02-05' '2020-02-06' '2020-02-07' '2020-02-08'\n",
      " '2020-02-09' '2020-02-10' '2020-02-11' '2020-02-12' '2020-02-13'\n",
      " '2020-02-14' '2020-02-15' '2020-02-16' '2020-02-17' '2020-02-18'\n",
      " '2020-02-19' '2020-02-20' '2020-02-21' '2020-02-22' '2020-02-23'\n",
      " '2020-02-24' '2020-02-25' '2020-02-26' '2020-02-27' '2020-02-28'\n",
      " '2020-02-29' '2020-03-01' '2020-03-02' '2020-03-08' '2020-03-11'\n",
      " '2020-03-15' '2020-03-16' '2020-03-17' '2020-03-18' '2020-03-19'\n",
      " '2020-03-20' '2020-03-21' '2020-03-22' '2020-03-23' '2020-03-24'\n",
      " '2020-03-25' '2020-03-26' '2020-03-27' '2020-03-28' '2020-03-29'\n",
      " '2020-03-30' '2020-03-31' '2020-04-01' '2020-04-02' '2020-04-03'\n",
      " '2020-04-04' '2020-04-05' '2020-04-06' '2020-04-07' '2020-04-08'\n",
      " '2020-04-09' '2020-04-10' '2020-04-11' '2020-04-12' '2020-04-13'\n",
      " '2020-04-14' '2020-04-15' '2020-04-16' '2020-04-17' '2020-04-18'\n",
      " '2020-04-19' '2020-04-20' '2020-04-21' '2020-04-22' '2020-04-23'\n",
      " '2020-04-24' '2020-04-25' '2020-04-26' '2020-04-27' '2020-04-28'\n",
      " '2020-04-29' '2020-04-30' '2020-05-01' '2020-05-02' '2020-05-03'\n",
      " '2020-05-04' '2020-05-05' '2020-05-06' '2020-05-07' '2020-05-08'\n",
      " '2020-05-09' '2020-05-10' '2020-05-11' '2020-05-12' '2020-05-13'\n",
      " '2020-05-14' '2020-05-15' '2020-05-16' '2020-05-17' '2020-05-18'\n",
      " '2020-05-19' '2020-05-20' '2020-05-21' '2020-05-22' '2020-05-23'\n",
      " '2020-05-24' '2020-05-25' '2020-05-26' '2020-05-27' '2020-05-28'\n",
      " '2020-05-29' '2020-05-30' '2020-05-31' '2020-06-01' '2020-06-02'\n",
      " '2020-06-03' '2020-06-04' '2020-06-05' '2020-06-06' '2020-06-07'\n",
      " '2020-06-08' '2020-06-09' '2020-06-10' '2020-03-09' '2020-03-10'\n",
      " '2020-03-12' '2020-03-13' '2020-03-14' '2020-03-04' '2020-03-05'\n",
      " '2020-03-06' '2020-03-03' '2020-03-07'] 163\n",
      "--------------------------------------------------------\n",
      "new_cases [     0      1      3 ... 116318 105851 125281] 2073\n",
      "--------------------------------------------------------\n",
      "new_deaths [    0     1     2     4     3    10    13     5     9     6    32    12\n",
      "    11     7     8    24    18    30    15    14    42    25    22    21\n",
      "    20    19    16    17    44    29    23    31    28    40    37    35\n",
      "    45    34    56    69    64    78    82   192   123   183   132   140\n",
      "   164   185   403   205   283   496   327   254   303   417   306   290\n",
      "   230   145   170   264   228   189   238   177   113   124    93   109\n",
      "    62    79    80    92   323    76   106    60    75    51    54    46\n",
      "    47    36    26    43    55    33    27    58    73    67   114   133\n",
      "   141   115    68    99   105   204   188   217   206   166   165   407\n",
      "   357   346   338   474   449   435   428   421   275   296   600   615\n",
      "   610   751   730   396   881   749   844   824   816   485   674  1179\n",
      "   888  1188  1001   965   653   807  1039  1086  1156  1124   956   480\n",
      "   623  1262  1349  1473  1005   904   525   679  1272    49    57    74\n",
      "    84    63   107   116   158   110   144   172   156   163    95   147\n",
      "   152   137   207   175   176   161   178   122   135   168    90   117\n",
      "   103    70   118    98   121    94   126   112   102   222   139    66\n",
      "    41    53    59    87    81   649    38    65    72    86    89    97\n",
      "   108   143   142   150    52  1290   208   308   193    50   410   182\n",
      "   256    48    39   128   186   240   231   365   299   319   292   418\n",
      "   499   509   471  2004  1053   518   833  1417   541  1341   987   635\n",
      "   561   574   762  1438   753   761   642   395   547   531   544   516\n",
      "   389   369   242   437   367   427   289   218   330   278   243   263\n",
      "   348    83   351   130    88   125   149   184   173   246   266   171\n",
      "   129   285   315   194   281   215   227   179   202   287   101    71\n",
      "   195   134   100   120   157   148   154   146   265   260   273   294\n",
      "   331   279    85   127   138   151   136   111    91    96    77   234\n",
      "   167   196   252   370   347   473   429   625   795   601   743   685\n",
      "   660   971   887   758   810   839   727   760   764   681   527   636\n",
      "   604   540   612   570   619   431   564   578   575   433   454   534\n",
      "   464   420   415   333   382   269   174   236   274   262   153   162\n",
      "   119   104   197   257   199   353   155   334   424   479   190   239\n",
      "   501   463   447   371   364   237   470  1091   817   341   354   596\n",
      "   181   -86   159   131   232   169   235   324   394   462   514   738\n",
      "   655   769   832   838   812   849   864   950   932   809   637   757\n",
      "   683   605   510   517   787   617   585   565   399   430   440   378\n",
      "   288   632   453   268   276   244   213   688 -1918    61   284   214\n",
      "   374   670   652   714   644   568  1038  1034  1103  1152   686   744\n",
      "  1044   842  1029   935  1115   498   559  1172   837   843   909   739\n",
      "   621   693   539   626   210   627   494   384   468   160   545   363\n",
      "   282   412   377   556   359   286   211   249   411   484   318   661\n",
      "  1059   915  1104  1344  1146  1342  1906  1922  1873  2087  1831  1500\n",
      "  1541  2408  4928  2299  3770  1856  1772  1857  2524  1721  3179  1054\n",
      "  2172  1687  1369  2110  2611  2040  2062  1317  1297  1252  2144  2353\n",
      "  2239  1510  1614   734  1703  1746  1773  1662  1186   808   791  1568\n",
      "  1518  1263  1305  1080   633   500   696  1526  1175  1219   945   602\n",
      "   994  1036   659   712   493   999   255   272   326   349   439   361\n",
      "   746   598   800   942  1043  1700  1641  1780  2264  2573  2749  3422\n",
      "  3493  3129  3894  4629  4907  4956  6631  6145  4675  5266  7663  6436\n",
      "  7445  7221  6026  5371  7604 10520  8709  8568  6493  5036  5336  7284\n",
      "  6103  7444  5432  6246  3928  4890  6518  6671  5534  5840  4765  3686\n",
      "  3999  5949  6386  5746  4440  3410  3570  5776  5187  5370  5171  4268\n",
      "  2973  3262  5228  4801  5442  4690  3989  3383  3936  5176  4701  4804\n",
      "  4050  2910  3577  4560  5189  4784  3822  3504  3230  4929] 634\n",
      "--------------------------------------------------------\n",
      "population [3.89283410e+07 2.87780000e+06 4.38510430e+07 7.72650000e+04\n",
      " 3.28662680e+07 1.50020000e+04 9.79280000e+04 4.51957770e+07\n",
      " 2.96323400e+06 1.06766000e+05 2.54998810e+07 9.00640000e+06\n",
      " 1.01391750e+07 3.93248000e+05 1.70158300e+06 1.64689383e+08\n",
      " 2.87371000e+05 9.44932100e+06 1.15896160e+07 3.97621000e+05\n",
      " 1.21231980e+07 6.22730000e+04 7.71612000e+05 1.16730290e+07\n",
      " 2.62210000e+04 3.28081500e+06 2.35162500e+06 2.12559409e+08\n",
      " 3.02370000e+04 4.37483000e+05 6.94844500e+06 2.09032780e+07\n",
      " 1.18907810e+07 1.67189710e+07 2.65458640e+07 3.77421570e+07\n",
      " 5.55988000e+05 6.57200000e+04 4.82976400e+06 1.64258590e+07\n",
      " 1.91162090e+07 1.43932377e+09 5.08828840e+07 8.69595000e+05\n",
      " 5.51809200e+06 5.09411400e+06 2.63782750e+07 4.10526800e+06\n",
      " 1.13266160e+07 1.64100000e+05 8.75899000e+05 1.07089820e+07\n",
      " 8.95614040e+07 5.79220300e+06 9.88002000e+05 7.19910000e+04\n",
      " 1.08479040e+07 1.76430600e+07 1.02334403e+08 6.48620100e+06\n",
      " 1.40298500e+06 3.54642700e+06 1.32653900e+06 1.14963583e+08\n",
      " 4.88650000e+04 3.48300000e+03 8.96444000e+05 5.54071800e+06\n",
      " 6.52735120e+07 2.80904000e+05 2.22572800e+06 2.41666400e+06\n",
      " 3.98917500e+06 8.37839450e+07 3.10729450e+07 3.36910000e+04\n",
      " 1.04230560e+07 5.67720000e+04 1.12519000e+05 1.68783000e+05\n",
      " 1.79155670e+07 6.70520000e+04 1.31327920e+07 1.96799800e+06\n",
      " 7.86559000e+05 1.14025330e+07 9.90460800e+06 7.49698800e+06\n",
      " 9.66035000e+06 3.41250000e+05 1.38000438e+09 2.73523621e+08\n",
      " 8.39929530e+07 4.02225030e+07 4.93779600e+06 8.50320000e+04\n",
      " 8.65554100e+06 6.04618280e+07 2.96116100e+06 1.26476458e+08\n",
      " 1.01073000e+05 1.02031400e+07 1.87767070e+07 5.37713000e+07\n",
      " 1.93277400e+06 4.27056300e+06 6.52419100e+06 7.27555600e+06\n",
      " 1.88620200e+06 6.82544200e+06 2.14225200e+06 5.05767700e+06\n",
      " 6.87128700e+06 3.81370000e+04 2.72229100e+06 6.25976000e+05\n",
      " 2.08338000e+06 2.76910190e+07 1.91299550e+07 3.23659980e+07\n",
      " 5.40542000e+05 2.02508340e+07 4.41539000e+05 4.64966000e+06\n",
      " 1.27176700e+06 1.28932753e+08 4.03396300e+06 3.92440000e+04\n",
      " 3.27829200e+06 6.28062000e+05 4.99900000e+03 3.69105580e+07\n",
      " 3.12554350e+07 5.44097940e+07 2.54091600e+06 2.91368080e+07\n",
      " 1.71348730e+07 2.85491000e+05 4.82223300e+06 6.62455400e+06\n",
      " 2.42066360e+07 2.06139587e+08 5.75570000e+04 5.42124200e+06\n",
      " 5.10662200e+06 2.20892331e+08 5.10141600e+06 4.31476800e+06\n",
      " 8.94702700e+06 7.13253000e+06 3.29718460e+07 1.09581085e+08\n",
      " 3.78466050e+07 1.01967070e+07 2.86084000e+06 2.88106000e+06\n",
      " 1.92376820e+07 1.45934460e+08 1.29522090e+07 5.31920000e+04\n",
      " 1.83629000e+05 1.10947000e+05 3.39380000e+04 2.19161000e+05\n",
      " 3.48138670e+07 1.67439300e+07 6.80459600e+06 9.83400000e+04\n",
      " 7.97698500e+06 5.85034300e+06 4.28820000e+04 5.45964300e+06\n",
      " 2.07893200e+06 1.58932190e+07 5.93086900e+07 5.12691830e+07\n",
      " 1.11937290e+07 4.67547830e+07 2.14132500e+07 4.38492690e+07\n",
      " 5.86634000e+05 1.16016400e+06 1.00992700e+07 8.65461800e+06\n",
      " 1.75006570e+07 2.38167750e+07 9.53764200e+06 5.97342130e+07\n",
      " 6.97999780e+07 1.31844200e+06 8.27873700e+06 1.39949100e+06\n",
      " 1.18186180e+07 8.43390670e+07 3.87180000e+04 4.57410000e+07\n",
      " 4.37337590e+07 9.89040000e+06 6.78860040e+07 3.31002647e+08\n",
      " 1.04423000e+05 3.47372700e+06 3.34691990e+07 8.09000000e+02\n",
      " 2.84359430e+07 9.73385830e+07 5.97330000e+05 2.98259680e+07\n",
      " 1.83839560e+07 1.48629270e+07 7.79479873e+09            nan] 211\n",
      "--------------------------------------------------------\n",
      "aged_65_older_percent [ 2.581 13.188  6.211    nan  2.405  6.933 11.198 11.232 13.085 15.504\n",
      " 19.202  6.018  8.996  2.372  5.098 14.952 14.799 18.571  3.853  3.244\n",
      "  4.885  6.704 16.569  3.941  8.552  4.591 20.801  2.409  2.562  4.412\n",
      "  3.165 16.984  4.46   3.655  2.486 11.087 10.641  7.646  2.963  3.402\n",
      "  9.468  2.933 19.724 14.738 16.367 13.416 19.027  3.02  19.677  4.213\n",
      "  6.981  7.104  5.159  8.273  2.846  3.607 19.452  3.526  6.224 21.228\n",
      " 19.718  7.775  4.45   2.339 14.864 21.453  3.385 20.396  7.304  9.551\n",
      "  4.694  3.135  3.002  5.305  4.8    4.652 16.303 18.577 14.431  5.989\n",
      "  5.319  5.44   3.186 13.928 11.733 23.021  9.684 27.049  3.81   6.991\n",
      "  2.686  2.345  4.489  4.029 19.754  8.514  4.506  3.057  4.424 19.002\n",
      " 14.312 13.26   2.929  2.979  6.293  4.12   2.519 19.426  3.138 10.945\n",
      "  6.857 10.864  4.031 14.762  6.769  3.158  5.732  3.552  5.809 18.779\n",
      "  9.954 15.322  5.445  2.553  2.751 16.821  2.355  4.495  3.043  7.918\n",
      "  3.808  6.378  7.151  4.803 16.763 21.502 15.168  1.307 17.85  14.178\n",
      "  2.974  9.721  7.724  2.886  3.295  3.008 17.366  8.606  2.538 12.922\n",
      " 15.07  19.062  2.731  5.344 13.914  3.441 19.436 10.069  3.548  3.163\n",
      " 19.985 18.436  3.466  3.108 11.373  3.556  2.839 10.014  8.001  8.153\n",
      "  2.168 16.462  1.144 18.517 15.413 18.601 14.655  4.469  6.614  7.15\n",
      "  2.922  2.48   2.822  8.696] 183\n",
      "--------------------------------------------------------\n",
      "gdp_per_capita [  1803.987  11803.431  13913.839        nan   5819.495  21490.943\n",
      "  18933.907   8787.58   35973.781  44648.71   45436.686  15847.419\n",
      "  27717.847  43290.705   3523.984  16978.068  17167.967  42658.576\n",
      "   7824.362   2064.236  50669.315   8708.597   6885.829  11713.895\n",
      "  15807.374  14103.452  71809.251  18563.307   1703.102    702.225\n",
      "   3645.07    3364.926  44017.591   6222.554  49903.029    661.24\n",
      "   1768.153  22767.037  15308.712  13254.949   1413.89    4881.406\n",
      "  15524.995   3601.006  22669.797  32415.132  32605.906    808.133\n",
      "  46682.515   2705.406   9673.367  14600.861  10581.936  10550.206\n",
      "   7292.458  22604.873   1510.459  29481.252   1729.927   8702.975\n",
      "  40585.721  38605.671  16562.413   1561.767   9745.079  45229.245\n",
      "   4227.63   24574.382  13593.877   7423.808   1998.926   1548.675\n",
      "   7435.047   1653.173   4541.795  56054.92   26777.561  46482.958\n",
      "   6426.674  11188.744  19082.62   15663.986  67335.293  33132.32\n",
      "  35220.084   8193.571  39002.223   8337.49   24055.588   2993.028\n",
      "   9795.834  65530.537   3393.474   6397.36   25063.846  13367.565\n",
      "   2851.153    752.788  17881.509  29524.265  94277.965  13111.214\n",
      "   1416.44    1095.042  26808.164  15183.616   2014.306  36513.323\n",
      "   3597.633  20292.745  17336.469   5189.972  11840.846  16409.288\n",
      "   7485.013   1136.103   5591.597   9541.808   2442.804  48472.545\n",
      "  36085.843   5321.444    926.      5338.454  64800.057  37960.709\n",
      "   5034.708   4449.898  22267.037   3823.194   8827.01   12236.706\n",
      "   7599.188  27216.445  27936.896  35044.67  116935.6    23313.199\n",
      "  24765.954   1854.211  24654.385  12951.839  10727.146  56861.47\n",
      "   3052.714  49045.411   2470.58   14048.881  26382.287   1390.3\n",
      "  85535.383  36327.232  30155.152  31400.84   12294.876  35938.374\n",
      "   1569.888  34272.36   11669.077   4466.507  13767.119   7738.975\n",
      "  46949.283  57410.166   2896.913   2683.304  16277.671   6570.102\n",
      "   1429.813  28763.071  10849.297  25129.341   1697.707   7894.393\n",
      "  67293.483  39753.244  54225.446  20551.409   6253.104  16745.022\n",
      "   6171.884   1479.147   3689.251   1899.775  15469.207] 184\n",
      "--------------------------------------------------------\n",
      "hospital_beds_per_thousand [ 0.5    2.89   1.9      nan  3.8    5.     4.2    3.84   7.37   4.7\n",
      "  2.9    2.     0.8    5.8   11.     5.64   1.3    1.7    1.1    3.5\n",
      "  1.8    2.2    2.7    7.454  0.4    2.5    2.1    1.     2.11   4.34\n",
      "  1.71   1.13   5.54   5.2    3.4    6.63   1.4    1.6    1.5    0.7\n",
      "  4.69   0.3    2.3    3.28   5.98   6.3    2.6    8.     0.9    4.21\n",
      "  3.7    0.6    7.02   2.91   0.53   1.04   2.96   2.99   3.18  13.05\n",
      "  6.7    4.5    5.57   2.397  6.56   4.51   4.28   0.2    0.1    4.485\n",
      "  1.38  13.8    7.     3.861  3.32   2.61   3.6    6.62   3.39   1.2\n",
      "  6.892  8.05   5.609  2.4    5.82   2.32  12.27   2.97   3.1    2.22\n",
      "  4.53   4.8    5.9    3.     2.81   8.8    2.54   2.77   2.8    4.\n",
      "  2.705] 100\n",
      "--------------------------------------------------------\n"
     ]
    }
   ],
   "source": [
    "covid_df.drop_duplicates(inplace=True)\n",
    "print(covid_df.shape)\n",
    "for col in covid_df.columns :\n",
    "    print(col, covid_df[col].unique(), covid_df[col].nunique())\n",
    "    print(\"--------------------------------------------------------\")"
   ]
  },
  {
   "cell_type": "code",
   "execution_count": 28,
   "id": "69f7aa48",
   "metadata": {
    "execution": {
     "iopub.execute_input": "2023-01-25T15:36:55.848015Z",
     "iopub.status.busy": "2023-01-25T15:36:55.846936Z",
     "iopub.status.idle": "2023-01-25T15:36:55.859706Z",
     "shell.execute_reply": "2023-01-25T15:36:55.858618Z"
    },
    "papermill": {
     "duration": 0.030559,
     "end_time": "2023-01-25T15:36:55.862327",
     "exception": false,
     "start_time": "2023-01-25T15:36:55.831768",
     "status": "completed"
    },
    "tags": []
   },
   "outputs": [
    {
     "data": {
      "text/plain": [
       "location                         0\n",
       "date                             0\n",
       "new_cases                        0\n",
       "new_deaths                       0\n",
       "population                      64\n",
       "aged_65_older_percent         2439\n",
       "gdp_per_capita                2371\n",
       "hospital_beds_per_thousand    3938\n",
       "dtype: int64"
      ]
     },
     "execution_count": 28,
     "metadata": {},
     "output_type": "execute_result"
    }
   ],
   "source": [
    "covid_df.isna().sum()"
   ]
  },
  {
   "cell_type": "code",
   "execution_count": 29,
   "id": "acf83f7f",
   "metadata": {
    "execution": {
     "iopub.execute_input": "2023-01-25T15:36:55.892619Z",
     "iopub.status.busy": "2023-01-25T15:36:55.892229Z",
     "iopub.status.idle": "2023-01-25T15:36:55.900013Z",
     "shell.execute_reply": "2023-01-25T15:36:55.898831Z"
    },
    "papermill": {
     "duration": 0.024959,
     "end_time": "2023-01-25T15:36:55.902144",
     "exception": false,
     "start_time": "2023-01-25T15:36:55.877185",
     "status": "completed"
    },
    "tags": []
   },
   "outputs": [],
   "source": [
    "null_cols = [\"population\", \"aged_65_older_percent\", \"gdp_per_capita\", \"hospital_beds_per_thousand\"]\n",
    "for col in null_cols :\n",
    "    covid_df[col].fillna(method='ffill', inplace=True)"
   ]
  },
  {
   "cell_type": "code",
   "execution_count": 30,
   "id": "01799a00",
   "metadata": {
    "execution": {
     "iopub.execute_input": "2023-01-25T15:36:55.933572Z",
     "iopub.status.busy": "2023-01-25T15:36:55.932930Z",
     "iopub.status.idle": "2023-01-25T15:36:55.944340Z",
     "shell.execute_reply": "2023-01-25T15:36:55.943262Z"
    },
    "papermill": {
     "duration": 0.028928,
     "end_time": "2023-01-25T15:36:55.946519",
     "exception": false,
     "start_time": "2023-01-25T15:36:55.917591",
     "status": "completed"
    },
    "tags": []
   },
   "outputs": [
    {
     "data": {
      "text/plain": [
       "location                      0\n",
       "date                          0\n",
       "new_cases                     0\n",
       "new_deaths                    0\n",
       "population                    0\n",
       "aged_65_older_percent         0\n",
       "gdp_per_capita                0\n",
       "hospital_beds_per_thousand    0\n",
       "dtype: int64"
      ]
     },
     "execution_count": 30,
     "metadata": {},
     "output_type": "execute_result"
    }
   ],
   "source": [
    "covid_df.isna().sum()"
   ]
  },
  {
   "cell_type": "code",
   "execution_count": 31,
   "id": "d7f9522a",
   "metadata": {
    "execution": {
     "iopub.execute_input": "2023-01-25T15:36:55.975953Z",
     "iopub.status.busy": "2023-01-25T15:36:55.975604Z",
     "iopub.status.idle": "2023-01-25T15:36:55.986679Z",
     "shell.execute_reply": "2023-01-25T15:36:55.985978Z"
    },
    "papermill": {
     "duration": 0.028062,
     "end_time": "2023-01-25T15:36:55.988833",
     "exception": false,
     "start_time": "2023-01-25T15:36:55.960771",
     "status": "completed"
    },
    "tags": []
   },
   "outputs": [],
   "source": [
    "covid_df['date'] = pd.to_datetime(covid_df.date)"
   ]
  },
  {
   "cell_type": "code",
   "execution_count": 32,
   "id": "49f18594",
   "metadata": {
    "execution": {
     "iopub.execute_input": "2023-01-25T15:36:56.018702Z",
     "iopub.status.busy": "2023-01-25T15:36:56.017788Z",
     "iopub.status.idle": "2023-01-25T15:36:56.034225Z",
     "shell.execute_reply": "2023-01-25T15:36:56.032776Z"
    },
    "papermill": {
     "duration": 0.034041,
     "end_time": "2023-01-25T15:36:56.037118",
     "exception": false,
     "start_time": "2023-01-25T15:36:56.003077",
     "status": "completed"
    },
    "tags": []
   },
   "outputs": [
    {
     "name": "stdout",
     "output_type": "stream",
     "text": [
      "<class 'pandas.core.frame.DataFrame'>\n",
      "Int64Index: 23082 entries, 0 to 23081\n",
      "Data columns (total 8 columns):\n",
      " #   Column                      Non-Null Count  Dtype         \n",
      "---  ------                      --------------  -----         \n",
      " 0   location                    23082 non-null  object        \n",
      " 1   date                        23082 non-null  datetime64[ns]\n",
      " 2   new_cases                   23082 non-null  int64         \n",
      " 3   new_deaths                  23082 non-null  int64         \n",
      " 4   population                  23082 non-null  float64       \n",
      " 5   aged_65_older_percent       23082 non-null  float64       \n",
      " 6   gdp_per_capita              23082 non-null  float64       \n",
      " 7   hospital_beds_per_thousand  23082 non-null  float64       \n",
      "dtypes: datetime64[ns](1), float64(4), int64(2), object(1)\n",
      "memory usage: 1.6+ MB\n"
     ]
    }
   ],
   "source": [
    "covid_df.info()"
   ]
  },
  {
   "cell_type": "code",
   "execution_count": 33,
   "id": "d5042dee",
   "metadata": {
    "execution": {
     "iopub.execute_input": "2023-01-25T15:36:56.067443Z",
     "iopub.status.busy": "2023-01-25T15:36:56.067051Z",
     "iopub.status.idle": "2023-01-25T15:36:56.087427Z",
     "shell.execute_reply": "2023-01-25T15:36:56.086509Z"
    },
    "papermill": {
     "duration": 0.037428,
     "end_time": "2023-01-25T15:36:56.089456",
     "exception": false,
     "start_time": "2023-01-25T15:36:56.052028",
     "status": "completed"
    },
    "tags": []
   },
   "outputs": [
    {
     "data": {
      "text/html": [
       "<div>\n",
       "<style scoped>\n",
       "    .dataframe tbody tr th:only-of-type {\n",
       "        vertical-align: middle;\n",
       "    }\n",
       "\n",
       "    .dataframe tbody tr th {\n",
       "        vertical-align: top;\n",
       "    }\n",
       "\n",
       "    .dataframe thead th {\n",
       "        text-align: right;\n",
       "    }\n",
       "</style>\n",
       "<table border=\"1\" class=\"dataframe\">\n",
       "  <thead>\n",
       "    <tr style=\"text-align: right;\">\n",
       "      <th></th>\n",
       "      <th>location</th>\n",
       "      <th>new_cases</th>\n",
       "      <th>new_deaths</th>\n",
       "      <th>population</th>\n",
       "      <th>aged_65_older_percent</th>\n",
       "      <th>gdp_per_capita</th>\n",
       "      <th>hospital_beds_per_thousand</th>\n",
       "    </tr>\n",
       "    <tr>\n",
       "      <th>date</th>\n",
       "      <th></th>\n",
       "      <th></th>\n",
       "      <th></th>\n",
       "      <th></th>\n",
       "      <th></th>\n",
       "      <th></th>\n",
       "      <th></th>\n",
       "    </tr>\n",
       "  </thead>\n",
       "  <tbody>\n",
       "    <tr>\n",
       "      <th>2019-12-31</th>\n",
       "      <td>Afghanistan</td>\n",
       "      <td>0</td>\n",
       "      <td>0</td>\n",
       "      <td>3.892834e+07</td>\n",
       "      <td>2.581</td>\n",
       "      <td>1803.987</td>\n",
       "      <td>0.500</td>\n",
       "    </tr>\n",
       "    <tr>\n",
       "      <th>2020-01-01</th>\n",
       "      <td>Afghanistan</td>\n",
       "      <td>0</td>\n",
       "      <td>0</td>\n",
       "      <td>3.892834e+07</td>\n",
       "      <td>2.581</td>\n",
       "      <td>1803.987</td>\n",
       "      <td>0.500</td>\n",
       "    </tr>\n",
       "    <tr>\n",
       "      <th>2020-01-02</th>\n",
       "      <td>Afghanistan</td>\n",
       "      <td>0</td>\n",
       "      <td>0</td>\n",
       "      <td>3.892834e+07</td>\n",
       "      <td>2.581</td>\n",
       "      <td>1803.987</td>\n",
       "      <td>0.500</td>\n",
       "    </tr>\n",
       "    <tr>\n",
       "      <th>2020-01-03</th>\n",
       "      <td>Afghanistan</td>\n",
       "      <td>0</td>\n",
       "      <td>0</td>\n",
       "      <td>3.892834e+07</td>\n",
       "      <td>2.581</td>\n",
       "      <td>1803.987</td>\n",
       "      <td>0.500</td>\n",
       "    </tr>\n",
       "    <tr>\n",
       "      <th>2020-01-04</th>\n",
       "      <td>Afghanistan</td>\n",
       "      <td>0</td>\n",
       "      <td>0</td>\n",
       "      <td>3.892834e+07</td>\n",
       "      <td>2.581</td>\n",
       "      <td>1803.987</td>\n",
       "      <td>0.500</td>\n",
       "    </tr>\n",
       "    <tr>\n",
       "      <th>...</th>\n",
       "      <td>...</td>\n",
       "      <td>...</td>\n",
       "      <td>...</td>\n",
       "      <td>...</td>\n",
       "      <td>...</td>\n",
       "      <td>...</td>\n",
       "      <td>...</td>\n",
       "    </tr>\n",
       "    <tr>\n",
       "      <th>2020-02-28</th>\n",
       "      <td>International</td>\n",
       "      <td>0</td>\n",
       "      <td>0</td>\n",
       "      <td>7.794799e+09</td>\n",
       "      <td>8.696</td>\n",
       "      <td>15469.207</td>\n",
       "      <td>2.705</td>\n",
       "    </tr>\n",
       "    <tr>\n",
       "      <th>2020-02-29</th>\n",
       "      <td>International</td>\n",
       "      <td>0</td>\n",
       "      <td>2</td>\n",
       "      <td>7.794799e+09</td>\n",
       "      <td>8.696</td>\n",
       "      <td>15469.207</td>\n",
       "      <td>2.705</td>\n",
       "    </tr>\n",
       "    <tr>\n",
       "      <th>2020-03-01</th>\n",
       "      <td>International</td>\n",
       "      <td>0</td>\n",
       "      <td>0</td>\n",
       "      <td>7.794799e+09</td>\n",
       "      <td>8.696</td>\n",
       "      <td>15469.207</td>\n",
       "      <td>2.705</td>\n",
       "    </tr>\n",
       "    <tr>\n",
       "      <th>2020-03-02</th>\n",
       "      <td>International</td>\n",
       "      <td>0</td>\n",
       "      <td>0</td>\n",
       "      <td>7.794799e+09</td>\n",
       "      <td>8.696</td>\n",
       "      <td>15469.207</td>\n",
       "      <td>2.705</td>\n",
       "    </tr>\n",
       "    <tr>\n",
       "      <th>2020-03-10</th>\n",
       "      <td>International</td>\n",
       "      <td>-9</td>\n",
       "      <td>1</td>\n",
       "      <td>7.794799e+09</td>\n",
       "      <td>8.696</td>\n",
       "      <td>15469.207</td>\n",
       "      <td>2.705</td>\n",
       "    </tr>\n",
       "  </tbody>\n",
       "</table>\n",
       "<p>23082 rows × 7 columns</p>\n",
       "</div>"
      ],
      "text/plain": [
       "                 location  new_cases  new_deaths    population  \\\n",
       "date                                                             \n",
       "2019-12-31    Afghanistan          0           0  3.892834e+07   \n",
       "2020-01-01    Afghanistan          0           0  3.892834e+07   \n",
       "2020-01-02    Afghanistan          0           0  3.892834e+07   \n",
       "2020-01-03    Afghanistan          0           0  3.892834e+07   \n",
       "2020-01-04    Afghanistan          0           0  3.892834e+07   \n",
       "...                   ...        ...         ...           ...   \n",
       "2020-02-28  International          0           0  7.794799e+09   \n",
       "2020-02-29  International          0           2  7.794799e+09   \n",
       "2020-03-01  International          0           0  7.794799e+09   \n",
       "2020-03-02  International          0           0  7.794799e+09   \n",
       "2020-03-10  International         -9           1  7.794799e+09   \n",
       "\n",
       "            aged_65_older_percent  gdp_per_capita  hospital_beds_per_thousand  \n",
       "date                                                                           \n",
       "2019-12-31                  2.581        1803.987                       0.500  \n",
       "2020-01-01                  2.581        1803.987                       0.500  \n",
       "2020-01-02                  2.581        1803.987                       0.500  \n",
       "2020-01-03                  2.581        1803.987                       0.500  \n",
       "2020-01-04                  2.581        1803.987                       0.500  \n",
       "...                           ...             ...                         ...  \n",
       "2020-02-28                  8.696       15469.207                       2.705  \n",
       "2020-02-29                  8.696       15469.207                       2.705  \n",
       "2020-03-01                  8.696       15469.207                       2.705  \n",
       "2020-03-02                  8.696       15469.207                       2.705  \n",
       "2020-03-10                  8.696       15469.207                       2.705  \n",
       "\n",
       "[23082 rows x 7 columns]"
      ]
     },
     "execution_count": 33,
     "metadata": {},
     "output_type": "execute_result"
    }
   ],
   "source": [
    "covid_df.set_index('date')"
   ]
  },
  {
   "cell_type": "code",
   "execution_count": 34,
   "id": "f84a0375",
   "metadata": {
    "execution": {
     "iopub.execute_input": "2023-01-25T15:36:56.123709Z",
     "iopub.status.busy": "2023-01-25T15:36:56.123085Z",
     "iopub.status.idle": "2023-01-25T15:36:56.132160Z",
     "shell.execute_reply": "2023-01-25T15:36:56.131301Z"
    },
    "papermill": {
     "duration": 0.028081,
     "end_time": "2023-01-25T15:36:56.134319",
     "exception": false,
     "start_time": "2023-01-25T15:36:56.106238",
     "status": "completed"
    },
    "tags": []
   },
   "outputs": [],
   "source": [
    "germany = covid_df[covid_df.location == \"Germany\"]\n",
    "italy = covid_df[covid_df.location == \"Italy\"]"
   ]
  },
  {
   "cell_type": "code",
   "execution_count": 35,
   "id": "a7d43817",
   "metadata": {
    "execution": {
     "iopub.execute_input": "2023-01-25T15:36:56.168496Z",
     "iopub.status.busy": "2023-01-25T15:36:56.167811Z",
     "iopub.status.idle": "2023-01-25T15:36:56.180233Z",
     "shell.execute_reply": "2023-01-25T15:36:56.178549Z"
    },
    "papermill": {
     "duration": 0.032656,
     "end_time": "2023-01-25T15:36:56.182597",
     "exception": false,
     "start_time": "2023-01-25T15:36:56.149941",
     "status": "completed"
    },
    "tags": []
   },
   "outputs": [
    {
     "name": "stderr",
     "output_type": "stream",
     "text": [
      "/opt/conda/lib/python3.7/site-packages/ipykernel_launcher.py:1: SettingWithCopyWarning: \n",
      "A value is trying to be set on a copy of a slice from a DataFrame.\n",
      "Try using .loc[row_indexer,col_indexer] = value instead\n",
      "\n",
      "See the caveats in the documentation: https://pandas.pydata.org/pandas-docs/stable/user_guide/indexing.html#returning-a-view-versus-a-copy\n",
      "  \"\"\"Entry point for launching an IPython kernel.\n",
      "/opt/conda/lib/python3.7/site-packages/ipykernel_launcher.py:2: SettingWithCopyWarning: \n",
      "A value is trying to be set on a copy of a slice from a DataFrame.\n",
      "Try using .loc[row_indexer,col_indexer] = value instead\n",
      "\n",
      "See the caveats in the documentation: https://pandas.pydata.org/pandas-docs/stable/user_guide/indexing.html#returning-a-view-versus-a-copy\n",
      "  \n"
     ]
    }
   ],
   "source": [
    "germany[\"cumsum\"] = germany.new_cases.cumsum()\n",
    "italy[\"cumsum\"] = italy.new_cases.cumsum()\n",
    "gr_it = pd.merge(germany, italy, on='date')"
   ]
  },
  {
   "cell_type": "code",
   "execution_count": 36,
   "id": "4f6958f5",
   "metadata": {
    "execution": {
     "iopub.execute_input": "2023-01-25T15:36:56.214514Z",
     "iopub.status.busy": "2023-01-25T15:36:56.214112Z",
     "iopub.status.idle": "2023-01-25T15:36:56.248865Z",
     "shell.execute_reply": "2023-01-25T15:36:56.247742Z"
    },
    "papermill": {
     "duration": 0.053552,
     "end_time": "2023-01-25T15:36:56.251259",
     "exception": false,
     "start_time": "2023-01-25T15:36:56.197707",
     "status": "completed"
    },
    "tags": []
   },
   "outputs": [
    {
     "data": {
      "text/html": [
       "<div>\n",
       "<style scoped>\n",
       "    .dataframe tbody tr th:only-of-type {\n",
       "        vertical-align: middle;\n",
       "    }\n",
       "\n",
       "    .dataframe tbody tr th {\n",
       "        vertical-align: top;\n",
       "    }\n",
       "\n",
       "    .dataframe thead th {\n",
       "        text-align: right;\n",
       "    }\n",
       "</style>\n",
       "<table border=\"1\" class=\"dataframe\">\n",
       "  <thead>\n",
       "    <tr style=\"text-align: right;\">\n",
       "      <th></th>\n",
       "      <th>location_x</th>\n",
       "      <th>date</th>\n",
       "      <th>new_cases_x</th>\n",
       "      <th>new_deaths_x</th>\n",
       "      <th>population_x</th>\n",
       "      <th>aged_65_older_percent_x</th>\n",
       "      <th>gdp_per_capita_x</th>\n",
       "      <th>hospital_beds_per_thousand_x</th>\n",
       "      <th>cumsum_x</th>\n",
       "      <th>location_y</th>\n",
       "      <th>new_cases_y</th>\n",
       "      <th>new_deaths_y</th>\n",
       "      <th>population_y</th>\n",
       "      <th>aged_65_older_percent_y</th>\n",
       "      <th>gdp_per_capita_y</th>\n",
       "      <th>hospital_beds_per_thousand_y</th>\n",
       "      <th>cumsum_y</th>\n",
       "    </tr>\n",
       "  </thead>\n",
       "  <tbody>\n",
       "    <tr>\n",
       "      <th>72</th>\n",
       "      <td>Germany</td>\n",
       "      <td>2020-03-12</td>\n",
       "      <td>271</td>\n",
       "      <td>1</td>\n",
       "      <td>83783945.0</td>\n",
       "      <td>21.453</td>\n",
       "      <td>45229.245</td>\n",
       "      <td>8.0</td>\n",
       "      <td>1567</td>\n",
       "      <td>Italy</td>\n",
       "      <td>2313</td>\n",
       "      <td>196</td>\n",
       "      <td>60461828.0</td>\n",
       "      <td>23.021</td>\n",
       "      <td>35220.084</td>\n",
       "      <td>3.18</td>\n",
       "      <td>12462</td>\n",
       "    </tr>\n",
       "    <tr>\n",
       "      <th>73</th>\n",
       "      <td>Germany</td>\n",
       "      <td>2020-03-13</td>\n",
       "      <td>802</td>\n",
       "      <td>2</td>\n",
       "      <td>83783945.0</td>\n",
       "      <td>21.453</td>\n",
       "      <td>45229.245</td>\n",
       "      <td>8.0</td>\n",
       "      <td>2369</td>\n",
       "      <td>Italy</td>\n",
       "      <td>2651</td>\n",
       "      <td>189</td>\n",
       "      <td>60461828.0</td>\n",
       "      <td>23.021</td>\n",
       "      <td>35220.084</td>\n",
       "      <td>3.18</td>\n",
       "      <td>15113</td>\n",
       "    </tr>\n",
       "    <tr>\n",
       "      <th>74</th>\n",
       "      <td>Germany</td>\n",
       "      <td>2020-03-14</td>\n",
       "      <td>693</td>\n",
       "      <td>0</td>\n",
       "      <td>83783945.0</td>\n",
       "      <td>21.453</td>\n",
       "      <td>45229.245</td>\n",
       "      <td>8.0</td>\n",
       "      <td>3062</td>\n",
       "      <td>Italy</td>\n",
       "      <td>2547</td>\n",
       "      <td>252</td>\n",
       "      <td>60461828.0</td>\n",
       "      <td>23.021</td>\n",
       "      <td>35220.084</td>\n",
       "      <td>3.18</td>\n",
       "      <td>17660</td>\n",
       "    </tr>\n",
       "    <tr>\n",
       "      <th>75</th>\n",
       "      <td>Germany</td>\n",
       "      <td>2020-03-15</td>\n",
       "      <td>733</td>\n",
       "      <td>3</td>\n",
       "      <td>83783945.0</td>\n",
       "      <td>21.453</td>\n",
       "      <td>45229.245</td>\n",
       "      <td>8.0</td>\n",
       "      <td>3795</td>\n",
       "      <td>Italy</td>\n",
       "      <td>3497</td>\n",
       "      <td>173</td>\n",
       "      <td>60461828.0</td>\n",
       "      <td>23.021</td>\n",
       "      <td>35220.084</td>\n",
       "      <td>3.18</td>\n",
       "      <td>21157</td>\n",
       "    </tr>\n",
       "    <tr>\n",
       "      <th>76</th>\n",
       "      <td>Germany</td>\n",
       "      <td>2020-03-16</td>\n",
       "      <td>1043</td>\n",
       "      <td>4</td>\n",
       "      <td>83783945.0</td>\n",
       "      <td>21.453</td>\n",
       "      <td>45229.245</td>\n",
       "      <td>8.0</td>\n",
       "      <td>4838</td>\n",
       "      <td>Italy</td>\n",
       "      <td>2823</td>\n",
       "      <td>370</td>\n",
       "      <td>60461828.0</td>\n",
       "      <td>23.021</td>\n",
       "      <td>35220.084</td>\n",
       "      <td>3.18</td>\n",
       "      <td>23980</td>\n",
       "    </tr>\n",
       "    <tr>\n",
       "      <th>...</th>\n",
       "      <td>...</td>\n",
       "      <td>...</td>\n",
       "      <td>...</td>\n",
       "      <td>...</td>\n",
       "      <td>...</td>\n",
       "      <td>...</td>\n",
       "      <td>...</td>\n",
       "      <td>...</td>\n",
       "      <td>...</td>\n",
       "      <td>...</td>\n",
       "      <td>...</td>\n",
       "      <td>...</td>\n",
       "      <td>...</td>\n",
       "      <td>...</td>\n",
       "      <td>...</td>\n",
       "      <td>...</td>\n",
       "      <td>...</td>\n",
       "    </tr>\n",
       "    <tr>\n",
       "      <th>158</th>\n",
       "      <td>Germany</td>\n",
       "      <td>2020-06-06</td>\n",
       "      <td>407</td>\n",
       "      <td>33</td>\n",
       "      <td>83783945.0</td>\n",
       "      <td>21.453</td>\n",
       "      <td>45229.245</td>\n",
       "      <td>8.0</td>\n",
       "      <td>183678</td>\n",
       "      <td>Italy</td>\n",
       "      <td>518</td>\n",
       "      <td>85</td>\n",
       "      <td>60461828.0</td>\n",
       "      <td>23.021</td>\n",
       "      <td>35220.084</td>\n",
       "      <td>3.18</td>\n",
       "      <td>234531</td>\n",
       "    </tr>\n",
       "    <tr>\n",
       "      <th>159</th>\n",
       "      <td>Germany</td>\n",
       "      <td>2020-06-07</td>\n",
       "      <td>301</td>\n",
       "      <td>22</td>\n",
       "      <td>83783945.0</td>\n",
       "      <td>21.453</td>\n",
       "      <td>45229.245</td>\n",
       "      <td>8.0</td>\n",
       "      <td>183979</td>\n",
       "      <td>Italy</td>\n",
       "      <td>270</td>\n",
       "      <td>72</td>\n",
       "      <td>60461828.0</td>\n",
       "      <td>23.021</td>\n",
       "      <td>35220.084</td>\n",
       "      <td>3.18</td>\n",
       "      <td>234801</td>\n",
       "    </tr>\n",
       "    <tr>\n",
       "      <th>160</th>\n",
       "      <td>Germany</td>\n",
       "      <td>2020-06-08</td>\n",
       "      <td>214</td>\n",
       "      <td>6</td>\n",
       "      <td>83783945.0</td>\n",
       "      <td>21.453</td>\n",
       "      <td>45229.245</td>\n",
       "      <td>8.0</td>\n",
       "      <td>184193</td>\n",
       "      <td>Italy</td>\n",
       "      <td>197</td>\n",
       "      <td>53</td>\n",
       "      <td>60461828.0</td>\n",
       "      <td>23.021</td>\n",
       "      <td>35220.084</td>\n",
       "      <td>3.18</td>\n",
       "      <td>234998</td>\n",
       "    </tr>\n",
       "    <tr>\n",
       "      <th>161</th>\n",
       "      <td>Germany</td>\n",
       "      <td>2020-06-09</td>\n",
       "      <td>350</td>\n",
       "      <td>37</td>\n",
       "      <td>83783945.0</td>\n",
       "      <td>21.453</td>\n",
       "      <td>45229.245</td>\n",
       "      <td>8.0</td>\n",
       "      <td>184543</td>\n",
       "      <td>Italy</td>\n",
       "      <td>280</td>\n",
       "      <td>65</td>\n",
       "      <td>60461828.0</td>\n",
       "      <td>23.021</td>\n",
       "      <td>35220.084</td>\n",
       "      <td>3.18</td>\n",
       "      <td>235278</td>\n",
       "    </tr>\n",
       "    <tr>\n",
       "      <th>162</th>\n",
       "      <td>Germany</td>\n",
       "      <td>2020-06-10</td>\n",
       "      <td>318</td>\n",
       "      <td>18</td>\n",
       "      <td>83783945.0</td>\n",
       "      <td>21.453</td>\n",
       "      <td>45229.245</td>\n",
       "      <td>8.0</td>\n",
       "      <td>184861</td>\n",
       "      <td>Italy</td>\n",
       "      <td>283</td>\n",
       "      <td>79</td>\n",
       "      <td>60461828.0</td>\n",
       "      <td>23.021</td>\n",
       "      <td>35220.084</td>\n",
       "      <td>3.18</td>\n",
       "      <td>235561</td>\n",
       "    </tr>\n",
       "  </tbody>\n",
       "</table>\n",
       "<p>91 rows × 17 columns</p>\n",
       "</div>"
      ],
      "text/plain": [
       "    location_x       date  new_cases_x  new_deaths_x  population_x  \\\n",
       "72     Germany 2020-03-12          271             1    83783945.0   \n",
       "73     Germany 2020-03-13          802             2    83783945.0   \n",
       "74     Germany 2020-03-14          693             0    83783945.0   \n",
       "75     Germany 2020-03-15          733             3    83783945.0   \n",
       "76     Germany 2020-03-16         1043             4    83783945.0   \n",
       "..         ...        ...          ...           ...           ...   \n",
       "158    Germany 2020-06-06          407            33    83783945.0   \n",
       "159    Germany 2020-06-07          301            22    83783945.0   \n",
       "160    Germany 2020-06-08          214             6    83783945.0   \n",
       "161    Germany 2020-06-09          350            37    83783945.0   \n",
       "162    Germany 2020-06-10          318            18    83783945.0   \n",
       "\n",
       "     aged_65_older_percent_x  gdp_per_capita_x  hospital_beds_per_thousand_x  \\\n",
       "72                    21.453         45229.245                           8.0   \n",
       "73                    21.453         45229.245                           8.0   \n",
       "74                    21.453         45229.245                           8.0   \n",
       "75                    21.453         45229.245                           8.0   \n",
       "76                    21.453         45229.245                           8.0   \n",
       "..                       ...               ...                           ...   \n",
       "158                   21.453         45229.245                           8.0   \n",
       "159                   21.453         45229.245                           8.0   \n",
       "160                   21.453         45229.245                           8.0   \n",
       "161                   21.453         45229.245                           8.0   \n",
       "162                   21.453         45229.245                           8.0   \n",
       "\n",
       "     cumsum_x location_y  new_cases_y  new_deaths_y  population_y  \\\n",
       "72       1567      Italy         2313           196    60461828.0   \n",
       "73       2369      Italy         2651           189    60461828.0   \n",
       "74       3062      Italy         2547           252    60461828.0   \n",
       "75       3795      Italy         3497           173    60461828.0   \n",
       "76       4838      Italy         2823           370    60461828.0   \n",
       "..        ...        ...          ...           ...           ...   \n",
       "158    183678      Italy          518            85    60461828.0   \n",
       "159    183979      Italy          270            72    60461828.0   \n",
       "160    184193      Italy          197            53    60461828.0   \n",
       "161    184543      Italy          280            65    60461828.0   \n",
       "162    184861      Italy          283            79    60461828.0   \n",
       "\n",
       "     aged_65_older_percent_y  gdp_per_capita_y  hospital_beds_per_thousand_y  \\\n",
       "72                    23.021         35220.084                          3.18   \n",
       "73                    23.021         35220.084                          3.18   \n",
       "74                    23.021         35220.084                          3.18   \n",
       "75                    23.021         35220.084                          3.18   \n",
       "76                    23.021         35220.084                          3.18   \n",
       "..                       ...               ...                           ...   \n",
       "158                   23.021         35220.084                          3.18   \n",
       "159                   23.021         35220.084                          3.18   \n",
       "160                   23.021         35220.084                          3.18   \n",
       "161                   23.021         35220.084                          3.18   \n",
       "162                   23.021         35220.084                          3.18   \n",
       "\n",
       "     cumsum_y  \n",
       "72      12462  \n",
       "73      15113  \n",
       "74      17660  \n",
       "75      21157  \n",
       "76      23980  \n",
       "..        ...  \n",
       "158    234531  \n",
       "159    234801  \n",
       "160    234998  \n",
       "161    235278  \n",
       "162    235561  \n",
       "\n",
       "[91 rows x 17 columns]"
      ]
     },
     "execution_count": 36,
     "metadata": {},
     "output_type": "execute_result"
    }
   ],
   "source": [
    "gr_it[abs(gr_it.cumsum_x - gr_it.cumsum_y) > 10000]"
   ]
  },
  {
   "cell_type": "code",
   "execution_count": 37,
   "id": "6ce1cde2",
   "metadata": {
    "execution": {
     "iopub.execute_input": "2023-01-25T15:36:56.284872Z",
     "iopub.status.busy": "2023-01-25T15:36:56.284151Z",
     "iopub.status.idle": "2023-01-25T15:36:56.300015Z",
     "shell.execute_reply": "2023-01-25T15:36:56.298981Z"
    },
    "papermill": {
     "duration": 0.035087,
     "end_time": "2023-01-25T15:36:56.302188",
     "exception": false,
     "start_time": "2023-01-25T15:36:56.267101",
     "status": "completed"
    },
    "tags": []
   },
   "outputs": [
    {
     "data": {
      "text/html": [
       "<div>\n",
       "<style scoped>\n",
       "    .dataframe tbody tr th:only-of-type {\n",
       "        vertical-align: middle;\n",
       "    }\n",
       "\n",
       "    .dataframe tbody tr th {\n",
       "        vertical-align: top;\n",
       "    }\n",
       "\n",
       "    .dataframe thead th {\n",
       "        text-align: right;\n",
       "    }\n",
       "</style>\n",
       "<table border=\"1\" class=\"dataframe\">\n",
       "  <thead>\n",
       "    <tr style=\"text-align: right;\">\n",
       "      <th></th>\n",
       "      <th>location</th>\n",
       "      <th>date</th>\n",
       "      <th>new_cases</th>\n",
       "      <th>new_deaths</th>\n",
       "      <th>population</th>\n",
       "      <th>aged_65_older_percent</th>\n",
       "      <th>gdp_per_capita</th>\n",
       "      <th>hospital_beds_per_thousand</th>\n",
       "      <th>cumsum</th>\n",
       "    </tr>\n",
       "  </thead>\n",
       "  <tbody>\n",
       "    <tr>\n",
       "      <th>10688</th>\n",
       "      <td>Italy</td>\n",
       "      <td>2019-12-31</td>\n",
       "      <td>0</td>\n",
       "      <td>0</td>\n",
       "      <td>60461828.0</td>\n",
       "      <td>23.021</td>\n",
       "      <td>35220.084</td>\n",
       "      <td>3.18</td>\n",
       "      <td>0</td>\n",
       "    </tr>\n",
       "    <tr>\n",
       "      <th>10689</th>\n",
       "      <td>Italy</td>\n",
       "      <td>2020-01-01</td>\n",
       "      <td>0</td>\n",
       "      <td>0</td>\n",
       "      <td>60461828.0</td>\n",
       "      <td>23.021</td>\n",
       "      <td>35220.084</td>\n",
       "      <td>3.18</td>\n",
       "      <td>0</td>\n",
       "    </tr>\n",
       "    <tr>\n",
       "      <th>10690</th>\n",
       "      <td>Italy</td>\n",
       "      <td>2020-01-02</td>\n",
       "      <td>0</td>\n",
       "      <td>0</td>\n",
       "      <td>60461828.0</td>\n",
       "      <td>23.021</td>\n",
       "      <td>35220.084</td>\n",
       "      <td>3.18</td>\n",
       "      <td>0</td>\n",
       "    </tr>\n",
       "    <tr>\n",
       "      <th>10691</th>\n",
       "      <td>Italy</td>\n",
       "      <td>2020-01-03</td>\n",
       "      <td>0</td>\n",
       "      <td>0</td>\n",
       "      <td>60461828.0</td>\n",
       "      <td>23.021</td>\n",
       "      <td>35220.084</td>\n",
       "      <td>3.18</td>\n",
       "      <td>0</td>\n",
       "    </tr>\n",
       "    <tr>\n",
       "      <th>10692</th>\n",
       "      <td>Italy</td>\n",
       "      <td>2020-01-04</td>\n",
       "      <td>0</td>\n",
       "      <td>0</td>\n",
       "      <td>60461828.0</td>\n",
       "      <td>23.021</td>\n",
       "      <td>35220.084</td>\n",
       "      <td>3.18</td>\n",
       "      <td>0</td>\n",
       "    </tr>\n",
       "  </tbody>\n",
       "</table>\n",
       "</div>"
      ],
      "text/plain": [
       "      location       date  new_cases  new_deaths  population  \\\n",
       "10688    Italy 2019-12-31          0           0  60461828.0   \n",
       "10689    Italy 2020-01-01          0           0  60461828.0   \n",
       "10690    Italy 2020-01-02          0           0  60461828.0   \n",
       "10691    Italy 2020-01-03          0           0  60461828.0   \n",
       "10692    Italy 2020-01-04          0           0  60461828.0   \n",
       "\n",
       "       aged_65_older_percent  gdp_per_capita  hospital_beds_per_thousand  \\\n",
       "10688                 23.021       35220.084                        3.18   \n",
       "10689                 23.021       35220.084                        3.18   \n",
       "10690                 23.021       35220.084                        3.18   \n",
       "10691                 23.021       35220.084                        3.18   \n",
       "10692                 23.021       35220.084                        3.18   \n",
       "\n",
       "       cumsum  \n",
       "10688       0  \n",
       "10689       0  \n",
       "10690       0  \n",
       "10691       0  \n",
       "10692       0  "
      ]
     },
     "execution_count": 37,
     "metadata": {},
     "output_type": "execute_result"
    }
   ],
   "source": [
    "italy.head()"
   ]
  },
  {
   "cell_type": "code",
   "execution_count": 38,
   "id": "69ea89f8",
   "metadata": {
    "execution": {
     "iopub.execute_input": "2023-01-25T15:36:56.335870Z",
     "iopub.status.busy": "2023-01-25T15:36:56.335225Z",
     "iopub.status.idle": "2023-01-25T15:36:56.575274Z",
     "shell.execute_reply": "2023-01-25T15:36:56.574275Z"
    },
    "papermill": {
     "duration": 0.259623,
     "end_time": "2023-01-25T15:36:56.577714",
     "exception": false,
     "start_time": "2023-01-25T15:36:56.318091",
     "status": "completed"
    },
    "tags": []
   },
   "outputs": [
    {
     "data": {
      "text/plain": [
       "<AxesSubplot:xlabel='date', ylabel='cumsum'>"
      ]
     },
     "execution_count": 38,
     "metadata": {},
     "output_type": "execute_result"
    },
    {
     "data": {
      "image/png": "[encoded data removed]",
      "text/plain": [
       "<Figure size 432x288 with 1 Axes>"
      ]
     },
     "metadata": {
      "needs_background": "light"
     },
     "output_type": "display_data"
    }
   ],
   "source": [
    "sns.lineplot(data=italy[(italy.date >= \"2020-02-28\") & (italy.date <= \"2020-03-20\")], x = 'date', y='cumsum')"
   ]
  },
  {
   "cell_type": "code",
   "execution_count": 39,
   "id": "0848e956",
   "metadata": {
    "execution": {
     "iopub.execute_input": "2023-01-25T15:36:56.612049Z",
     "iopub.status.busy": "2023-01-25T15:36:56.610649Z",
     "iopub.status.idle": "2023-01-25T15:36:56.620858Z",
     "shell.execute_reply": "2023-01-25T15:36:56.619862Z"
    },
    "papermill": {
     "duration": 0.029509,
     "end_time": "2023-01-25T15:36:56.623051",
     "exception": false,
     "start_time": "2023-01-25T15:36:56.593542",
     "status": "completed"
    },
    "tags": []
   },
   "outputs": [
    {
     "data": {
      "text/plain": [
       "10768    35713\n",
       "dtype: int64"
      ]
     },
     "execution_count": 39,
     "metadata": {},
     "output_type": "execute_result"
    }
   ],
   "source": [
    "italy[italy.date == \"2020-03-20\"][\"cumsum\"] - italy[italy.date == \"2020-03-20\"].new_cases"
   ]
  },
  {
   "cell_type": "code",
   "execution_count": 40,
   "id": "2d878a61",
   "metadata": {
    "execution": {
     "iopub.execute_input": "2023-01-25T15:36:56.655858Z",
     "iopub.status.busy": "2023-01-25T15:36:56.655491Z",
     "iopub.status.idle": "2023-01-25T15:36:56.667470Z",
     "shell.execute_reply": "2023-01-25T15:36:56.665946Z"
    },
    "jupyter": {
     "source_hidden": true
    },
    "papermill": {
     "duration": 0.031158,
     "end_time": "2023-01-25T15:36:56.670080",
     "exception": false,
     "start_time": "2023-01-25T15:36:56.638922",
     "status": "completed"
    },
    "tags": []
   },
   "outputs": [
    {
     "data": {
      "text/plain": [
       "location\n",
       "World                              411195\n",
       "United States                      112006\n",
       "United Kingdom                      40883\n",
       "Brazil                              38406\n",
       "Italy                               34043\n",
       "                                    ...  \n",
       "Bonaire Sint Eustatius and Saba         0\n",
       "Seychelles                              0\n",
       "Bhutan                                  0\n",
       "Saint Kitts and Nevis                   0\n",
       "Dominica                                0\n",
       "Name: new_deaths, Length: 212, dtype: int64"
      ]
     },
     "execution_count": 40,
     "metadata": {},
     "output_type": "execute_result"
    }
   ],
   "source": [
    "covid_df.groupby('location').new_deaths.sum().sort_values(ascending=False)"
   ]
  },
  {
   "cell_type": "code",
   "execution_count": 41,
   "id": "580f59a2",
   "metadata": {
    "execution": {
     "iopub.execute_input": "2023-01-25T15:36:56.705012Z",
     "iopub.status.busy": "2023-01-25T15:36:56.704109Z",
     "iopub.status.idle": "2023-01-25T15:36:56.712487Z",
     "shell.execute_reply": "2023-01-25T15:36:56.711779Z"
    },
    "papermill": {
     "duration": 0.028007,
     "end_time": "2023-01-25T15:36:56.714670",
     "exception": false,
     "start_time": "2023-01-25T15:36:56.686663",
     "status": "completed"
    },
    "tags": []
   },
   "outputs": [],
   "source": [
    "l_beds = covid_df[covid_df.hospital_beds_per_thousand >= 5]\n",
    "h_gdp = l_beds[l_beds.gdp_per_capita > 10000]"
   ]
  },
  {
   "cell_type": "code",
   "execution_count": 42,
   "id": "59d1dc02",
   "metadata": {
    "execution": {
     "iopub.execute_input": "2023-01-25T15:36:56.747937Z",
     "iopub.status.busy": "2023-01-25T15:36:56.747569Z",
     "iopub.status.idle": "2023-01-25T15:36:56.753657Z",
     "shell.execute_reply": "2023-01-25T15:36:56.752784Z"
    },
    "papermill": {
     "duration": 0.024928,
     "end_time": "2023-01-25T15:36:56.755551",
     "exception": false,
     "start_time": "2023-01-25T15:36:56.730623",
     "status": "completed"
    },
    "tags": []
   },
   "outputs": [
    {
     "data": {
      "text/plain": [
       "0.8350463775382301"
      ]
     },
     "execution_count": 42,
     "metadata": {},
     "output_type": "execute_result"
    }
   ],
   "source": [
    "len(h_gdp)/len(l_beds)"
   ]
  }
 ],
 "metadata": {
  "kernelspec": {
   "display_name": "Python 3",
   "language": "python",
   "name": "python3"
  },
  "language_info": {
   "codemirror_mode": {
    "name": "ipython",
    "version": 3
   },
   "file_extension": ".py",
   "mimetype": "text/x-python",
   "name": "python",
   "nbconvert_exporter": "python",
   "pygments_lexer": "ipython3",
   "version": "3.7.12"
  },
  "papermill": {
   "default_parameters": {},
   "duration": 13.218144,
   "end_time": "2023-01-25T15:36:57.492044",
   "environment_variables": {},
   "exception": null,
   "input_path": "__notebook__.ipynb",
   "output_path": "__notebook__.ipynb",
   "parameters": {},
   "start_time": "2023-01-25T15:36:44.273900",
   "version": "2.3.4"
  }
 },
 "nbformat": 4,
 "nbformat_minor": 5
}

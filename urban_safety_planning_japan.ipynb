{
 "cells": [
  {
   "cell_type": "markdown",
   "id": "41499451",
   "metadata": {
    "papermill": {
     "duration": 0.005523,
     "end_time": "2024-11-27T14:44:12.424889",
     "exception": false,
     "start_time": "2024-11-27T14:44:12.419366",
     "status": "completed"
    },
    "tags": []
   },
   "source": [
    "# Introduction\n",
    "\n",
    "We are an urban safety planner in Japan, and we are analyzing which areas of Japan need extra earthquake reinforcement.  Which areas are both high in population density and prone to earthquakes?\n",
    "\n",
    "<center>\n",
    "<img src=\"https://i.imgur.com/Kuh9gPj.png\" width=\"450\"><br/>\n",
    "</center>"
   ]
  },
  {
   "cell_type": "code",
   "execution_count": 1,
   "id": "ebf91f04",
   "metadata": {
    "execution": {
     "iopub.execute_input": "2024-11-27T14:44:12.436512Z",
     "iopub.status.busy": "2024-11-27T14:44:12.436134Z",
     "iopub.status.idle": "2024-11-27T14:44:14.175088Z",
     "shell.execute_reply": "2024-11-27T14:44:14.173878Z"
    },
    "papermill": {
     "duration": 1.748347,
     "end_time": "2024-11-27T14:44:14.178377",
     "exception": false,
     "start_time": "2024-11-27T14:44:12.430030",
     "status": "completed"
    },
    "tags": []
   },
   "outputs": [],
   "source": [
    "import pandas as pd\n",
    "import geopandas as gpd\n",
    "\n",
    "import folium\n",
    "from folium import Choropleth\n",
    "from folium.plugins import HeatMap\n",
    "\n",
    "from learntools.core import binder\n",
    "binder.bind(globals())\n",
    "from learntools.geospatial.ex3 import *"
   ]
  },
  {
   "cell_type": "markdown",
   "id": "2cfdb302",
   "metadata": {
    "papermill": {
     "duration": 0.005033,
     "end_time": "2024-11-27T14:44:14.188758",
     "exception": false,
     "start_time": "2024-11-27T14:44:14.183725",
     "status": "completed"
    },
    "tags": []
   },
   "source": [
    "We define a function `embed_map()` for displaying interactive maps. It accepts two arguments: the variable containing the map, and the name of the HTML file where the map will be saved.\n",
    "\n",
    "This function ensures that the maps are visible [in all web browsers](https://github.com/python-visualization/folium/issues/812)."
   ]
  },
  {
   "cell_type": "code",
   "execution_count": 2,
   "id": "75345635",
   "metadata": {
    "execution": {
     "iopub.execute_input": "2024-11-27T14:44:14.201015Z",
     "iopub.status.busy": "2024-11-27T14:44:14.200439Z",
     "iopub.status.idle": "2024-11-27T14:44:14.206228Z",
     "shell.execute_reply": "2024-11-27T14:44:14.205088Z"
    },
    "papermill": {
     "duration": 0.014911,
     "end_time": "2024-11-27T14:44:14.208791",
     "exception": false,
     "start_time": "2024-11-27T14:44:14.193880",
     "status": "completed"
    },
    "tags": []
   },
   "outputs": [],
   "source": [
    "def embed_map(m, file_name):\n",
    "    from IPython.display import IFrame\n",
    "    m.save(file_name)\n",
    "    return IFrame(file_name, width='100%', height='500px')"
   ]
  },
  {
   "cell_type": "markdown",
   "id": "df11430b",
   "metadata": {
    "papermill": {
     "duration": 0.004631,
     "end_time": "2024-11-27T14:44:14.218723",
     "exception": false,
     "start_time": "2024-11-27T14:44:14.214092",
     "status": "completed"
    },
    "tags": []
   },
   "source": [
    "# Exercises\n",
    "\n",
    "### 1) Do earthquakes coincide with plate boundaries?\n",
    "\n",
    "To answer this question, we create a DataFrame `plate_boundaries` that shows global plate boundaries.  The \"coordinates\" column is a list of (latitude, longitude) locations along the boundaries."
   ]
  },
  {
   "cell_type": "code",
   "execution_count": 3,
   "id": "1027d041",
   "metadata": {
    "execution": {
     "iopub.execute_input": "2024-11-27T14:44:14.232456Z",
     "iopub.status.busy": "2024-11-27T14:44:14.231993Z",
     "iopub.status.idle": "2024-11-27T14:44:15.053430Z",
     "shell.execute_reply": "2024-11-27T14:44:15.052253Z"
    },
    "papermill": {
     "duration": 0.832,
     "end_time": "2024-11-27T14:44:15.056061",
     "exception": false,
     "start_time": "2024-11-27T14:44:14.224061",
     "status": "completed"
    },
    "tags": []
   },
   "outputs": [
    {
     "data": {
      "text/html": [
       "<div>\n",
       "<style scoped>\n",
       "    .dataframe tbody tr th:only-of-type {\n",
       "        vertical-align: middle;\n",
       "    }\n",
       "\n",
       "    .dataframe tbody tr th {\n",
       "        vertical-align: top;\n",
       "    }\n",
       "\n",
       "    .dataframe thead th {\n",
       "        text-align: right;\n",
       "    }\n",
       "</style>\n",
       "<table border=\"1\" class=\"dataframe\">\n",
       "  <thead>\n",
       "    <tr style=\"text-align: right;\">\n",
       "      <th></th>\n",
       "      <th>HAZ_PLATES</th>\n",
       "      <th>HAZ_PLAT_1</th>\n",
       "      <th>HAZ_PLAT_2</th>\n",
       "      <th>Shape_Leng</th>\n",
       "      <th>coordinates</th>\n",
       "    </tr>\n",
       "  </thead>\n",
       "  <tbody>\n",
       "    <tr>\n",
       "      <th>0</th>\n",
       "      <td>TRENCH</td>\n",
       "      <td>SERAM TROUGH (ACTIVE)</td>\n",
       "      <td>6722</td>\n",
       "      <td>5.843467</td>\n",
       "      <td>[(-5.444200361999947, 133.6808931800001), (-5....</td>\n",
       "    </tr>\n",
       "    <tr>\n",
       "      <th>1</th>\n",
       "      <td>TRENCH</td>\n",
       "      <td>WETAR THRUST</td>\n",
       "      <td>6722</td>\n",
       "      <td>1.829013</td>\n",
       "      <td>[(-7.760600482999962, 125.47879802900002), (-7...</td>\n",
       "    </tr>\n",
       "    <tr>\n",
       "      <th>2</th>\n",
       "      <td>TRENCH</td>\n",
       "      <td>TRENCH WEST OF LUZON (MANILA TRENCH) NORTHERN ...</td>\n",
       "      <td>6621</td>\n",
       "      <td>6.743604</td>\n",
       "      <td>[(19.817899819000047, 120.09999798800004), (19...</td>\n",
       "    </tr>\n",
       "    <tr>\n",
       "      <th>3</th>\n",
       "      <td>TRENCH</td>\n",
       "      <td>BONIN TRENCH</td>\n",
       "      <td>9821</td>\n",
       "      <td>8.329381</td>\n",
       "      <td>[(26.175899215000072, 143.20620700100005), (26...</td>\n",
       "    </tr>\n",
       "    <tr>\n",
       "      <th>4</th>\n",
       "      <td>TRENCH</td>\n",
       "      <td>NEW GUINEA TRENCH</td>\n",
       "      <td>8001</td>\n",
       "      <td>11.998145</td>\n",
       "      <td>[(0.41880004000006466, 132.8273013480001), (0....</td>\n",
       "    </tr>\n",
       "  </tbody>\n",
       "</table>\n",
       "</div>"
      ],
      "text/plain": [
       "  HAZ_PLATES                                         HAZ_PLAT_1  HAZ_PLAT_2  \\\n",
       "0     TRENCH                              SERAM TROUGH (ACTIVE)        6722   \n",
       "1     TRENCH                                       WETAR THRUST        6722   \n",
       "2     TRENCH  TRENCH WEST OF LUZON (MANILA TRENCH) NORTHERN ...        6621   \n",
       "3     TRENCH                                       BONIN TRENCH        9821   \n",
       "4     TRENCH                                  NEW GUINEA TRENCH        8001   \n",
       "\n",
       "   Shape_Leng                                        coordinates  \n",
       "0    5.843467  [(-5.444200361999947, 133.6808931800001), (-5....  \n",
       "1    1.829013  [(-7.760600482999962, 125.47879802900002), (-7...  \n",
       "2    6.743604  [(19.817899819000047, 120.09999798800004), (19...  \n",
       "3    8.329381  [(26.175899215000072, 143.20620700100005), (26...  \n",
       "4   11.998145  [(0.41880004000006466, 132.8273013480001), (0....  "
      ]
     },
     "execution_count": 3,
     "metadata": {},
     "output_type": "execute_result"
    }
   ],
   "source": [
    "plate_boundaries = gpd.read_file(\"../input/geospatial-learn-course-data/Plate_Boundaries/Plate_Boundaries/Plate_Boundaries.shp\")\n",
    "plate_boundaries['coordinates'] = plate_boundaries.apply(lambda x: [(b,a) for (a,b) in list(x.geometry.coords)], axis='columns')\n",
    "plate_boundaries.drop('geometry', axis=1, inplace=True)\n",
    "\n",
    "plate_boundaries.head()\n"
   ]
  },
  {
   "cell_type": "markdown",
   "id": "f1223600",
   "metadata": {
    "papermill": {
     "duration": 0.004935,
     "end_time": "2024-11-27T14:44:15.066652",
     "exception": false,
     "start_time": "2024-11-27T14:44:15.061717",
     "status": "completed"
    },
    "tags": []
   },
   "source": [
    "Next, we load the historical earthquake data into a DataFrame `earthquakes`."
   ]
  },
  {
   "cell_type": "code",
   "execution_count": 4,
   "id": "b45517fe",
   "metadata": {
    "execution": {
     "iopub.execute_input": "2024-11-27T14:44:15.078607Z",
     "iopub.status.busy": "2024-11-27T14:44:15.078022Z",
     "iopub.status.idle": "2024-11-27T14:44:15.142893Z",
     "shell.execute_reply": "2024-11-27T14:44:15.141703Z"
    },
    "papermill": {
     "duration": 0.073757,
     "end_time": "2024-11-27T14:44:15.145422",
     "exception": false,
     "start_time": "2024-11-27T14:44:15.071665",
     "status": "completed"
    },
    "tags": []
   },
   "outputs": [
    {
     "data": {
      "text/html": [
       "<div>\n",
       "<style scoped>\n",
       "    .dataframe tbody tr th:only-of-type {\n",
       "        vertical-align: middle;\n",
       "    }\n",
       "\n",
       "    .dataframe tbody tr th {\n",
       "        vertical-align: top;\n",
       "    }\n",
       "\n",
       "    .dataframe thead th {\n",
       "        text-align: right;\n",
       "    }\n",
       "</style>\n",
       "<table border=\"1\" class=\"dataframe\">\n",
       "  <thead>\n",
       "    <tr style=\"text-align: right;\">\n",
       "      <th></th>\n",
       "      <th>DateTime</th>\n",
       "      <th>Latitude</th>\n",
       "      <th>Longitude</th>\n",
       "      <th>Depth</th>\n",
       "      <th>Magnitude</th>\n",
       "      <th>MagType</th>\n",
       "      <th>NbStations</th>\n",
       "      <th>Gap</th>\n",
       "      <th>Distance</th>\n",
       "      <th>RMS</th>\n",
       "      <th>Source</th>\n",
       "      <th>EventID</th>\n",
       "    </tr>\n",
       "  </thead>\n",
       "  <tbody>\n",
       "    <tr>\n",
       "      <th>4</th>\n",
       "      <td>1970-01-16 08:05:39.000</td>\n",
       "      <td>60.2800</td>\n",
       "      <td>-152.6600</td>\n",
       "      <td>85.00</td>\n",
       "      <td>6.0</td>\n",
       "      <td>ML</td>\n",
       "      <td>0.0</td>\n",
       "      <td>NaN</td>\n",
       "      <td>NaN</td>\n",
       "      <td>NaN</td>\n",
       "      <td>AK</td>\n",
       "      <td>NaN</td>\n",
       "    </tr>\n",
       "    <tr>\n",
       "      <th>12</th>\n",
       "      <td>1970-02-24 02:07:36.800</td>\n",
       "      <td>30.5760</td>\n",
       "      <td>103.0310</td>\n",
       "      <td>33.00</td>\n",
       "      <td>6.0</td>\n",
       "      <td>Ms</td>\n",
       "      <td>94.0</td>\n",
       "      <td>NaN</td>\n",
       "      <td>NaN</td>\n",
       "      <td>0.00</td>\n",
       "      <td>NEI</td>\n",
       "      <td>1.970022e+09</td>\n",
       "    </tr>\n",
       "    <tr>\n",
       "      <th>13</th>\n",
       "      <td>1970-02-27 07:07:56.500</td>\n",
       "      <td>50.1300</td>\n",
       "      <td>-179.5898</td>\n",
       "      <td>7.00</td>\n",
       "      <td>6.0</td>\n",
       "      <td>ML</td>\n",
       "      <td>0.0</td>\n",
       "      <td>NaN</td>\n",
       "      <td>NaN</td>\n",
       "      <td>NaN</td>\n",
       "      <td>AK</td>\n",
       "      <td>NaN</td>\n",
       "    </tr>\n",
       "    <tr>\n",
       "      <th>17</th>\n",
       "      <td>1970-03-10 04:58:26.200</td>\n",
       "      <td>44.7980</td>\n",
       "      <td>148.8700</td>\n",
       "      <td>40.00</td>\n",
       "      <td>6.0</td>\n",
       "      <td>Mb</td>\n",
       "      <td>65.0</td>\n",
       "      <td>NaN</td>\n",
       "      <td>NaN</td>\n",
       "      <td>0.00</td>\n",
       "      <td>NEI</td>\n",
       "      <td>1.970031e+09</td>\n",
       "    </tr>\n",
       "    <tr>\n",
       "      <th>19</th>\n",
       "      <td>1970-03-15 12:39:17.800</td>\n",
       "      <td>-29.6530</td>\n",
       "      <td>-69.4990</td>\n",
       "      <td>119.00</td>\n",
       "      <td>6.0</td>\n",
       "      <td>Mb</td>\n",
       "      <td>118.0</td>\n",
       "      <td>NaN</td>\n",
       "      <td>NaN</td>\n",
       "      <td>0.00</td>\n",
       "      <td>NEI</td>\n",
       "      <td>1.970032e+09</td>\n",
       "    </tr>\n",
       "    <tr>\n",
       "      <th>...</th>\n",
       "      <td>...</td>\n",
       "      <td>...</td>\n",
       "      <td>...</td>\n",
       "      <td>...</td>\n",
       "      <td>...</td>\n",
       "      <td>...</td>\n",
       "      <td>...</td>\n",
       "      <td>...</td>\n",
       "      <td>...</td>\n",
       "      <td>...</td>\n",
       "      <td>...</td>\n",
       "      <td>...</td>\n",
       "    </tr>\n",
       "    <tr>\n",
       "      <th>5284</th>\n",
       "      <td>2013-10-29 10:37:55.930</td>\n",
       "      <td>-61.6945</td>\n",
       "      <td>154.7302</td>\n",
       "      <td>9.97</td>\n",
       "      <td>6.0</td>\n",
       "      <td>Mw</td>\n",
       "      <td>NaN</td>\n",
       "      <td>96.0</td>\n",
       "      <td>8.0</td>\n",
       "      <td>0.94</td>\n",
       "      <td>us</td>\n",
       "      <td>2.013103e+09</td>\n",
       "    </tr>\n",
       "    <tr>\n",
       "      <th>5288</th>\n",
       "      <td>2013-11-02 15:52:46.140</td>\n",
       "      <td>-23.6305</td>\n",
       "      <td>-112.5912</td>\n",
       "      <td>9.96</td>\n",
       "      <td>6.0</td>\n",
       "      <td>Mw</td>\n",
       "      <td>NaN</td>\n",
       "      <td>35.0</td>\n",
       "      <td>5.0</td>\n",
       "      <td>0.82</td>\n",
       "      <td>us</td>\n",
       "      <td>2.013110e+09</td>\n",
       "    </tr>\n",
       "    <tr>\n",
       "      <th>5294</th>\n",
       "      <td>2013-11-19 13:32:53.730</td>\n",
       "      <td>2.6250</td>\n",
       "      <td>128.4462</td>\n",
       "      <td>59.77</td>\n",
       "      <td>6.0</td>\n",
       "      <td>Mw</td>\n",
       "      <td>NaN</td>\n",
       "      <td>18.0</td>\n",
       "      <td>2.0</td>\n",
       "      <td>0.86</td>\n",
       "      <td>us</td>\n",
       "      <td>2.013112e+09</td>\n",
       "    </tr>\n",
       "    <tr>\n",
       "      <th>5295</th>\n",
       "      <td>2013-11-19 17:00:44.160</td>\n",
       "      <td>18.4753</td>\n",
       "      <td>145.2041</td>\n",
       "      <td>511.00</td>\n",
       "      <td>6.0</td>\n",
       "      <td>Mw</td>\n",
       "      <td>NaN</td>\n",
       "      <td>10.0</td>\n",
       "      <td>2.0</td>\n",
       "      <td>1.05</td>\n",
       "      <td>us</td>\n",
       "      <td>2.013112e+09</td>\n",
       "    </tr>\n",
       "    <tr>\n",
       "      <th>5299</th>\n",
       "      <td>2013-12-01 06:29:57.800</td>\n",
       "      <td>2.0440</td>\n",
       "      <td>96.8261</td>\n",
       "      <td>20.00</td>\n",
       "      <td>6.0</td>\n",
       "      <td>Mw</td>\n",
       "      <td>NaN</td>\n",
       "      <td>27.0</td>\n",
       "      <td>1.0</td>\n",
       "      <td>0.89</td>\n",
       "      <td>us</td>\n",
       "      <td>2.013120e+09</td>\n",
       "    </tr>\n",
       "  </tbody>\n",
       "</table>\n",
       "<p>1174 rows × 12 columns</p>\n",
       "</div>"
      ],
      "text/plain": [
       "                    DateTime  Latitude  Longitude   Depth  Magnitude MagType  \\\n",
       "4    1970-01-16 08:05:39.000   60.2800  -152.6600   85.00        6.0      ML   \n",
       "12   1970-02-24 02:07:36.800   30.5760   103.0310   33.00        6.0      Ms   \n",
       "13   1970-02-27 07:07:56.500   50.1300  -179.5898    7.00        6.0      ML   \n",
       "17   1970-03-10 04:58:26.200   44.7980   148.8700   40.00        6.0      Mb   \n",
       "19   1970-03-15 12:39:17.800  -29.6530   -69.4990  119.00        6.0      Mb   \n",
       "...                      ...       ...        ...     ...        ...     ...   \n",
       "5284 2013-10-29 10:37:55.930  -61.6945   154.7302    9.97        6.0      Mw   \n",
       "5288 2013-11-02 15:52:46.140  -23.6305  -112.5912    9.96        6.0      Mw   \n",
       "5294 2013-11-19 13:32:53.730    2.6250   128.4462   59.77        6.0      Mw   \n",
       "5295 2013-11-19 17:00:44.160   18.4753   145.2041  511.00        6.0      Mw   \n",
       "5299 2013-12-01 06:29:57.800    2.0440    96.8261   20.00        6.0      Mw   \n",
       "\n",
       "      NbStations   Gap  Distance   RMS Source       EventID  \n",
       "4            0.0   NaN       NaN   NaN     AK           NaN  \n",
       "12          94.0   NaN       NaN  0.00    NEI  1.970022e+09  \n",
       "13           0.0   NaN       NaN   NaN     AK           NaN  \n",
       "17          65.0   NaN       NaN  0.00    NEI  1.970031e+09  \n",
       "19         118.0   NaN       NaN  0.00    NEI  1.970032e+09  \n",
       "...          ...   ...       ...   ...    ...           ...  \n",
       "5284         NaN  96.0       8.0  0.94     us  2.013103e+09  \n",
       "5288         NaN  35.0       5.0  0.82     us  2.013110e+09  \n",
       "5294         NaN  18.0       2.0  0.86     us  2.013112e+09  \n",
       "5295         NaN  10.0       2.0  1.05     us  2.013112e+09  \n",
       "5299         NaN  27.0       1.0  0.89     us  2.013120e+09  \n",
       "\n",
       "[1174 rows x 12 columns]"
      ]
     },
     "execution_count": 4,
     "metadata": {},
     "output_type": "execute_result"
    }
   ],
   "source": [
    "# Load the data and print the first 5 rows\n",
    "earthquakes = pd.read_csv(\"../input/geospatial-learn-course-data/earthquakes1970-2014.csv\", parse_dates=[\"DateTime\"])\n",
    "min_mag = earthquakes['Magnitude'].min()\n",
    "min_mag\n",
    "min_seism = earthquakes[earthquakes['Magnitude'] == 6.0]\n",
    "min_seism\n",
    "\n"
   ]
  },
  {
   "cell_type": "markdown",
   "id": "7a057195",
   "metadata": {
    "papermill": {
     "duration": 0.005746,
     "end_time": "2024-11-27T14:44:15.157234",
     "exception": false,
     "start_time": "2024-11-27T14:44:15.151488",
     "status": "completed"
    },
    "tags": []
   },
   "source": [
    "The code cell below visualizes the plate boundaries on a map. We use all of the earthquake data to add a heatmap to the same map, to determine whether earthquakes coincide with plate boundaries.  "
   ]
  },
  {
   "cell_type": "code",
   "execution_count": 5,
   "id": "3e9da99c",
   "metadata": {
    "execution": {
     "iopub.execute_input": "2024-11-27T14:44:15.170793Z",
     "iopub.status.busy": "2024-11-27T14:44:15.170427Z",
     "iopub.status.idle": "2024-11-27T14:44:15.546156Z",
     "shell.execute_reply": "2024-11-27T14:44:15.544869Z"
    },
    "papermill": {
     "duration": 0.385465,
     "end_time": "2024-11-27T14:44:15.548618",
     "exception": false,
     "start_time": "2024-11-27T14:44:15.163153",
     "status": "completed"
    },
    "tags": []
   },
   "outputs": [
    {
     "data": {
      "text/html": [
       "\n",
       "        <iframe\n",
       "            width=\"100%\"\n",
       "            height=\"500px\"\n",
       "            src=\"q_1.html\"\n",
       "            frameborder=\"0\"\n",
       "            allowfullscreen\n",
       "            \n",
       "        ></iframe>\n",
       "        "
      ],
      "text/plain": [
       "<IPython.lib.display.IFrame at 0x796bdfaadd80>"
      ]
     },
     "execution_count": 5,
     "metadata": {},
     "output_type": "execute_result"
    }
   ],
   "source": [
    "# Create a base map with plate boundaries\n",
    "m_1 = folium.Map(location=[35,136], tiles='cartodbpositron', zoom_start=5)\n",
    "for i in range(len(plate_boundaries)):\n",
    "    folium.PolyLine(locations=plate_boundaries.coordinates.iloc[i], weight=2, color='black').add_to(m_1)\n",
    "HeatMap(data = earthquakes[['Latitude', 'Longitude']], radius=15).add_to(m_1)\n",
    "# Show the map\n",
    "embed_map(m_1, 'q_1.html')"
   ]
  },
  {
   "cell_type": "markdown",
   "id": "dfcdc93f",
   "metadata": {
    "papermill": {
     "duration": 0.005464,
     "end_time": "2024-11-27T14:44:15.560042",
     "exception": false,
     "start_time": "2024-11-27T14:44:15.554578",
     "status": "completed"
    },
    "tags": []
   },
   "source": [
    "So, given the map above, do earthquakes coincide with plate boundaries?\n",
    "\n",
    "Yes, eathquakes coincide with plate boundaries"
   ]
  },
  {
   "cell_type": "markdown",
   "id": "5245f567",
   "metadata": {
    "papermill": {
     "duration": 0.005327,
     "end_time": "2024-11-27T14:44:15.571084",
     "exception": false,
     "start_time": "2024-11-27T14:44:15.565757",
     "status": "completed"
    },
    "tags": []
   },
   "source": [
    "### 2) Is there a relationship between earthquake depth and proximity to a plate boundary in Japan?\n",
    "\n",
    "We recently read that the depth of earthquakes tells us [important information](https://www.usgs.gov/faqs/what-depth-do-earthquakes-occur-what-significance-depth?qt-news_science_products=0#qt-news_science_products) about the structure of the earth.  We are interested in seeing if there are any intereresting global patterns, and we'd also like to understand how depth varies in Japan.\n",
    "\n"
   ]
  },
  {
   "cell_type": "code",
   "execution_count": 6,
   "id": "5f9f8272",
   "metadata": {
    "execution": {
     "iopub.execute_input": "2024-11-27T14:44:15.583843Z",
     "iopub.status.busy": "2024-11-27T14:44:15.583506Z",
     "iopub.status.idle": "2024-11-27T14:44:20.560847Z",
     "shell.execute_reply": "2024-11-27T14:44:20.559351Z"
    },
    "papermill": {
     "duration": 4.986719,
     "end_time": "2024-11-27T14:44:20.563348",
     "exception": false,
     "start_time": "2024-11-27T14:44:15.576629",
     "status": "completed"
    },
    "tags": []
   },
   "outputs": [
    {
     "data": {
      "text/html": [
       "\n",
       "        <iframe\n",
       "            width=\"100%\"\n",
       "            height=\"500px\"\n",
       "            src=\"q_2.html\"\n",
       "            frameborder=\"0\"\n",
       "            allowfullscreen\n",
       "            \n",
       "        ></iframe>\n",
       "        "
      ],
      "text/plain": [
       "<IPython.lib.display.IFrame at 0x796bde7fb2b0>"
      ]
     },
     "execution_count": 6,
     "metadata": {},
     "output_type": "execute_result"
    }
   ],
   "source": [
    "# we Create a base map with plate boundaries\n",
    "m_2 = folium.Map(location=[35,136], tiles='cartodbpositron', zoom_start=5)\n",
    "for i in range(len(plate_boundaries)):\n",
    "    folium.PolyLine(locations=plate_boundaries.coordinates.iloc[i], weight=2, color='black').add_to(m_2)\n",
    "    \n",
    "# We add a map to visualize earthquake depth\n",
    "def color_producer(val):\n",
    "    if val < 50:\n",
    "        return 'forestgreen'\n",
    "    elif val < 100:\n",
    "        return 'darkorange'\n",
    "    else:\n",
    "        return 'darkred'\n",
    "\n",
    "#  we Add a bubble map to the base map\n",
    "for i in range(0,len(earthquakes)):\n",
    "    folium.Circle(\n",
    "        location=[earthquakes.iloc[i]['Latitude'], earthquakes.iloc[i]['Longitude']],\n",
    "        radius=2000,\n",
    "        color=color_producer(earthquakes.iloc[i]['Depth'])).add_to(m_2)\n",
    "\n",
    "# View the map\n",
    "embed_map(m_2, 'q_2.html')"
   ]
  },
  {
   "cell_type": "markdown",
   "id": "06f93b8d",
   "metadata": {
    "papermill": {
     "duration": 0.00588,
     "end_time": "2024-11-27T14:44:20.575112",
     "exception": false,
     "start_time": "2024-11-27T14:44:20.569232",
     "status": "completed"
    },
    "tags": []
   },
   "source": [
    "Can we detect a relationship between proximity to a plate boundary and earthquake depth?  Does this pattern hold globally? In Japan?"
   ]
  },
  {
   "cell_type": "markdown",
   "id": "ec9b338c",
   "metadata": {
    "papermill": {
     "duration": 0.006866,
     "end_time": "2024-11-27T14:44:20.588153",
     "exception": false,
     "start_time": "2024-11-27T14:44:20.581287",
     "status": "completed"
    },
    "tags": []
   },
   "source": [
    "In the northern half of Japan, it does appear that earthquakes closer to plate boundaries tend to be shallower (and earthquakes farther from plate boundaries are deeper). This pattern is repeated in other locations, such as the western coast of South America. But, it does not hold everywhere (for instance, in China, Mongolia, and Russia)."
   ]
  },
  {
   "cell_type": "markdown",
   "id": "78fd9fe0",
   "metadata": {
    "papermill": {
     "duration": 0.00659,
     "end_time": "2024-11-27T14:44:20.601219",
     "exception": false,
     "start_time": "2024-11-27T14:44:20.594629",
     "status": "completed"
    },
    "tags": []
   },
   "source": [
    "### 3) Which prefectures have high population density?\n",
    "\n",
    "We run the next code cell (without changes) to create a GeoDataFrame `prefectures` that contains the geographical boundaries of Japanese prefectures."
   ]
  },
  {
   "cell_type": "code",
   "execution_count": 7,
   "id": "1a4a0bf7",
   "metadata": {
    "execution": {
     "iopub.execute_input": "2024-11-27T14:44:20.616286Z",
     "iopub.status.busy": "2024-11-27T14:44:20.615900Z",
     "iopub.status.idle": "2024-11-27T14:44:21.684157Z",
     "shell.execute_reply": "2024-11-27T14:44:21.682980Z"
    },
    "papermill": {
     "duration": 1.077642,
     "end_time": "2024-11-27T14:44:21.686380",
     "exception": false,
     "start_time": "2024-11-27T14:44:20.608738",
     "status": "completed"
    },
    "tags": []
   },
   "outputs": [
    {
     "data": {
      "text/html": [
       "<div>\n",
       "<style scoped>\n",
       "    .dataframe tbody tr th:only-of-type {\n",
       "        vertical-align: middle;\n",
       "    }\n",
       "\n",
       "    .dataframe tbody tr th {\n",
       "        vertical-align: top;\n",
       "    }\n",
       "\n",
       "    .dataframe thead th {\n",
       "        text-align: right;\n",
       "    }\n",
       "</style>\n",
       "<table border=\"1\" class=\"dataframe\">\n",
       "  <thead>\n",
       "    <tr style=\"text-align: right;\">\n",
       "      <th></th>\n",
       "      <th>geometry</th>\n",
       "    </tr>\n",
       "    <tr>\n",
       "      <th>prefecture</th>\n",
       "      <th></th>\n",
       "    </tr>\n",
       "  </thead>\n",
       "  <tbody>\n",
       "    <tr>\n",
       "      <th>Aichi</th>\n",
       "      <td>MULTIPOLYGON (((137.09523 34.65330, 137.09546 ...</td>\n",
       "    </tr>\n",
       "    <tr>\n",
       "      <th>Akita</th>\n",
       "      <td>MULTIPOLYGON (((139.55725 39.20330, 139.55765 ...</td>\n",
       "    </tr>\n",
       "    <tr>\n",
       "      <th>Aomori</th>\n",
       "      <td>MULTIPOLYGON (((141.39860 40.92472, 141.39806 ...</td>\n",
       "    </tr>\n",
       "    <tr>\n",
       "      <th>Chiba</th>\n",
       "      <td>MULTIPOLYGON (((139.82488 34.98967, 139.82434 ...</td>\n",
       "    </tr>\n",
       "    <tr>\n",
       "      <th>Ehime</th>\n",
       "      <td>MULTIPOLYGON (((132.55859 32.91224, 132.55904 ...</td>\n",
       "    </tr>\n",
       "  </tbody>\n",
       "</table>\n",
       "</div>"
      ],
      "text/plain": [
       "                                                     geometry\n",
       "prefecture                                                   \n",
       "Aichi       MULTIPOLYGON (((137.09523 34.65330, 137.09546 ...\n",
       "Akita       MULTIPOLYGON (((139.55725 39.20330, 139.55765 ...\n",
       "Aomori      MULTIPOLYGON (((141.39860 40.92472, 141.39806 ...\n",
       "Chiba       MULTIPOLYGON (((139.82488 34.98967, 139.82434 ...\n",
       "Ehime       MULTIPOLYGON (((132.55859 32.91224, 132.55904 ..."
      ]
     },
     "execution_count": 7,
     "metadata": {},
     "output_type": "execute_result"
    }
   ],
   "source": [
    "# GeoDataFrame with prefecture boundaries\n",
    "prefectures = gpd.read_file(\"../input/geospatial-learn-course-data/japan-prefecture-boundaries/japan-prefecture-boundaries/japan-prefecture-boundaries.shp\")\n",
    "prefectures.set_index('prefecture', inplace=True)\n",
    "prefectures.head()"
   ]
  },
  {
   "cell_type": "markdown",
   "id": "581682c0",
   "metadata": {
    "papermill": {
     "duration": 0.005566,
     "end_time": "2024-11-27T14:44:21.698262",
     "exception": false,
     "start_time": "2024-11-27T14:44:21.692696",
     "status": "completed"
    },
    "tags": []
   },
   "source": [
    "The next code cell creates a DataFrame `stats` containing the population, area (in square kilometers), and population density (per square kilometer) for each Japanese prefecture.  Run the code cell without changes."
   ]
  },
  {
   "cell_type": "code",
   "execution_count": 8,
   "id": "af470433",
   "metadata": {
    "execution": {
     "iopub.execute_input": "2024-11-27T14:44:21.712845Z",
     "iopub.status.busy": "2024-11-27T14:44:21.712468Z",
     "iopub.status.idle": "2024-11-27T14:44:22.835388Z",
     "shell.execute_reply": "2024-11-27T14:44:22.834304Z"
    },
    "papermill": {
     "duration": 1.133012,
     "end_time": "2024-11-27T14:44:22.837658",
     "exception": false,
     "start_time": "2024-11-27T14:44:21.704646",
     "status": "completed"
    },
    "tags": []
   },
   "outputs": [
    {
     "data": {
      "text/html": [
       "<div>\n",
       "<style scoped>\n",
       "    .dataframe tbody tr th:only-of-type {\n",
       "        vertical-align: middle;\n",
       "    }\n",
       "\n",
       "    .dataframe tbody tr th {\n",
       "        vertical-align: top;\n",
       "    }\n",
       "\n",
       "    .dataframe thead th {\n",
       "        text-align: right;\n",
       "    }\n",
       "</style>\n",
       "<table border=\"1\" class=\"dataframe\">\n",
       "  <thead>\n",
       "    <tr style=\"text-align: right;\">\n",
       "      <th></th>\n",
       "      <th>population</th>\n",
       "      <th>area_sqkm</th>\n",
       "      <th>density</th>\n",
       "    </tr>\n",
       "    <tr>\n",
       "      <th>prefecture</th>\n",
       "      <th></th>\n",
       "      <th></th>\n",
       "      <th></th>\n",
       "    </tr>\n",
       "  </thead>\n",
       "  <tbody>\n",
       "    <tr>\n",
       "      <th>Tokyo</th>\n",
       "      <td>12868000</td>\n",
       "      <td>1800.614782</td>\n",
       "      <td>7146.448049</td>\n",
       "    </tr>\n",
       "    <tr>\n",
       "      <th>Kanagawa</th>\n",
       "      <td>8943000</td>\n",
       "      <td>2383.038975</td>\n",
       "      <td>3752.771186</td>\n",
       "    </tr>\n",
       "    <tr>\n",
       "      <th>Osaka</th>\n",
       "      <td>8801000</td>\n",
       "      <td>1923.151529</td>\n",
       "      <td>4576.342460</td>\n",
       "    </tr>\n",
       "    <tr>\n",
       "      <th>Aichi</th>\n",
       "      <td>7418000</td>\n",
       "      <td>5164.400005</td>\n",
       "      <td>1436.372085</td>\n",
       "    </tr>\n",
       "    <tr>\n",
       "      <th>Saitama</th>\n",
       "      <td>7130000</td>\n",
       "      <td>3794.036890</td>\n",
       "      <td>1879.264806</td>\n",
       "    </tr>\n",
       "  </tbody>\n",
       "</table>\n",
       "</div>"
      ],
      "text/plain": [
       "            population    area_sqkm      density\n",
       "prefecture                                      \n",
       "Tokyo         12868000  1800.614782  7146.448049\n",
       "Kanagawa       8943000  2383.038975  3752.771186\n",
       "Osaka          8801000  1923.151529  4576.342460\n",
       "Aichi          7418000  5164.400005  1436.372085\n",
       "Saitama        7130000  3794.036890  1879.264806"
      ]
     },
     "execution_count": 8,
     "metadata": {},
     "output_type": "execute_result"
    }
   ],
   "source": [
    "# DataFrame containing population of each prefecture\n",
    "population = pd.read_csv(\"../input/geospatial-learn-course-data/japan-prefecture-population.csv\")\n",
    "population.set_index('prefecture', inplace=True)\n",
    "\n",
    "# We calculate area (in square kilometers) of each prefecture and add density (per square km) of each prefecture\n",
    "area_sqkm = pd.Series(prefectures.geometry.to_crs(epsg=32654).area / 10**6, name='area_sqkm')\n",
    "stats = population.join(area_sqkm)\n",
    "\n",
    "stats['density'] = stats[\"population\"] / stats[\"area_sqkm\"]\n",
    "stats.head()"
   ]
  },
  {
   "cell_type": "markdown",
   "id": "c5ac85c3",
   "metadata": {
    "papermill": {
     "duration": 0.005745,
     "end_time": "2024-11-27T14:44:22.849371",
     "exception": false,
     "start_time": "2024-11-27T14:44:22.843626",
     "status": "completed"
    },
    "tags": []
   },
   "source": [
    "Use the next code cell to create a choropleth map to visualize population density."
   ]
  },
  {
   "cell_type": "code",
   "execution_count": 9,
   "id": "3ea1d2ee",
   "metadata": {
    "execution": {
     "iopub.execute_input": "2024-11-27T14:44:22.863597Z",
     "iopub.status.busy": "2024-11-27T14:44:22.863251Z",
     "iopub.status.idle": "2024-11-27T14:44:27.376137Z",
     "shell.execute_reply": "2024-11-27T14:44:27.374988Z"
    },
    "papermill": {
     "duration": 4.522876,
     "end_time": "2024-11-27T14:44:27.378760",
     "exception": false,
     "start_time": "2024-11-27T14:44:22.855884",
     "status": "completed"
    },
    "tags": []
   },
   "outputs": [
    {
     "data": {
      "text/html": [
       "\n",
       "        <iframe\n",
       "            width=\"100%\"\n",
       "            height=\"500px\"\n",
       "            src=\"q_3.html\"\n",
       "            frameborder=\"0\"\n",
       "            allowfullscreen\n",
       "            \n",
       "        ></iframe>\n",
       "        "
      ],
      "text/plain": [
       "<IPython.lib.display.IFrame at 0x796bda4e7e50>"
      ]
     },
     "execution_count": 9,
     "metadata": {},
     "output_type": "execute_result"
    }
   ],
   "source": [
    "# We Create a base map\n",
    "m_3 = folium.Map(location=[35,136], tiles='cartodbpositron', zoom_start=5)\n",
    "\n",
    "# We create a choropleth map to visualize population density\n",
    "Choropleth(geo_data=prefectures['geometry'].__geo_interface__, \n",
    "           data= stats['density'], \n",
    "           key_on= \"feature.id\", \n",
    "           fill_color='YlGnBu', \n",
    "           legend_name='Population density in Japan (per square kilometer)',\n",
    "          ).add_to(m_3)\n",
    "\n",
    "# View the map\n",
    "embed_map(m_3, 'q_3.html')"
   ]
  },
  {
   "cell_type": "markdown",
   "id": "e0c263c8",
   "metadata": {
    "papermill": {
     "duration": 0.007121,
     "end_time": "2024-11-27T14:44:27.392597",
     "exception": false,
     "start_time": "2024-11-27T14:44:27.385476",
     "status": "completed"
    },
    "tags": []
   },
   "source": [
    "Which three prefectures have relatively higher density than the others?  Are they spread throughout the country, or all located in roughly the same geographical region?  (*In case we are unfamiliar with Japanese geography, we might find [this map](https://en.wikipedia.org/wiki/Prefectures_of_Japan) useful to answer the questions.)*"
   ]
  },
  {
   "cell_type": "markdown",
   "id": "6f0ad8ef",
   "metadata": {
    "papermill": {
     "duration": 0.005776,
     "end_time": "2024-11-27T14:44:27.404663",
     "exception": false,
     "start_time": "2024-11-27T14:44:27.398887",
     "status": "completed"
    },
    "tags": []
   },
   "source": [
    "Tokyo, Kanagawa, and Osaka have the highest population density. All of these prefectures are located in central Japan, and Tokyo and Kanagawa are adjacent."
   ]
  },
  {
   "cell_type": "markdown",
   "id": "605d3b6d",
   "metadata": {
    "papermill": {
     "duration": 0.006336,
     "end_time": "2024-11-27T14:44:27.416995",
     "exception": false,
     "start_time": "2024-11-27T14:44:27.410659",
     "status": "completed"
    },
    "tags": []
   },
   "source": [
    "### 4) Which high-density prefecture is prone to high-magnitude earthquakes?\n",
    "\n",
    "We create a map to suggest one prefecture that might benefit from earthquake reinforcement.  The map should visualize both density and earthquake magnitude."
   ]
  },
  {
   "cell_type": "code",
   "execution_count": 10,
   "id": "8f5e055a",
   "metadata": {
    "execution": {
     "iopub.execute_input": "2024-11-27T14:44:27.430809Z",
     "iopub.status.busy": "2024-11-27T14:44:27.430443Z",
     "iopub.status.idle": "2024-11-27T14:44:41.449132Z",
     "shell.execute_reply": "2024-11-27T14:44:41.447915Z"
    },
    "papermill": {
     "duration": 14.028974,
     "end_time": "2024-11-27T14:44:41.452169",
     "exception": false,
     "start_time": "2024-11-27T14:44:27.423195",
     "status": "completed"
    },
    "tags": []
   },
   "outputs": [
    {
     "data": {
      "text/html": [
       "\n",
       "        <iframe\n",
       "            width=\"100%\"\n",
       "            height=\"500px\"\n",
       "            src=\"q_4.html\"\n",
       "            frameborder=\"0\"\n",
       "            allowfullscreen\n",
       "            \n",
       "        ></iframe>\n",
       "        "
      ],
      "text/plain": [
       "<IPython.lib.display.IFrame at 0x796bd1546050>"
      ]
     },
     "execution_count": 10,
     "metadata": {},
     "output_type": "execute_result"
    }
   ],
   "source": [
    "# Create a base map\n",
    "m_4 = folium.Map(location=[35,136], tiles='cartodbpositron', zoom_start=5)\n",
    "\n",
    "# map creation using choropleth\n",
    "Choropleth(geo_data=prefectures['geometry'].__geo_interface__, \n",
    "           data= stats['density'], \n",
    "           key_on= \"feature.id\", \n",
    "           fill_color='YlGnBu', \n",
    "           legend_name = \"Population density per square kilometer\"\n",
    "          ).add_to(m_4)\n",
    "\n",
    "def color_producer(magnitude):\n",
    "    if magnitude > 6.5:\n",
    "        return 'red'\n",
    "    else:\n",
    "        return 'green'\n",
    "\n",
    "# Add a bubble map to the base map\n",
    "for i in range(0,len(earthquakes)):\n",
    "    folium.Circle(\n",
    "        location=[earthquakes.iloc[i]['Latitude'], earthquakes.iloc[i]['Longitude']],\n",
    "        popup=(\"{} ({})\").format(\n",
    "            earthquakes.iloc[i]['Magnitude'],\n",
    "            earthquakes.iloc[i]['DateTime'].year),\n",
    "        radius=earthquakes.iloc[i]['Magnitude']**5.5,\n",
    "        color=color_producer(earthquakes.iloc[i]['Magnitude'])).add_to(m_4)\n",
    "\n",
    "\n",
    "# View the map\n",
    "embed_map(m_4, 'q_4.html')"
   ]
  },
  {
   "cell_type": "markdown",
   "id": "8c2a9fd4",
   "metadata": {
    "papermill": {
     "duration": 0.006295,
     "end_time": "2024-11-27T14:44:41.464803",
     "exception": false,
     "start_time": "2024-11-27T14:44:41.458508",
     "status": "completed"
    },
    "tags": []
   },
   "source": [
    "Which prefecture do you recommend for extra earthquake reinforcement?"
   ]
  },
  {
   "cell_type": "markdown",
   "id": "dbea2b93",
   "metadata": {
    "papermill": {
     "duration": 0.00583,
     "end_time": "2024-11-27T14:44:41.477403",
     "exception": false,
     "start_time": "2024-11-27T14:44:41.471573",
     "status": "completed"
    },
    "tags": []
   },
   "source": [
    "While there's no clear, single answer to this question, there are a few reasonable options. Tokyo is by far the most densely populated prefecture and has also experienced a number of earthquakes. Osaka is relatively less densely populated, but experienced an earthquake that was relatively stronger than those near Tokyo. And, the long coast of Kanagawa (in addition to its high density and the historical proximity of strong earthquakes) might lead us to worry about the added potential tsunami risk."
   ]
  }
 ],
 "metadata": {
  "kaggle": {
   "accelerator": "none",
   "dataSources": [
    {
     "datasetId": 348259,
     "sourceId": 695175,
     "sourceType": "datasetVersion"
    },
    {
     "datasetId": 116573,
     "sourceId": 3551030,
     "sourceType": "datasetVersion"
    }
   ],
   "isGpuEnabled": false,
   "isInternetEnabled": false,
   "language": "python",
   "sourceType": "notebook"
  },
  "kernelspec": {
   "display_name": "Python 3",
   "language": "python",
   "name": "python3"
  },
  "language_info": {
   "codemirror_mode": {
    "name": "ipython",
    "version": 3
   },
   "file_extension": ".py",
   "mimetype": "text/x-python",
   "name": "python",
   "nbconvert_exporter": "python",
   "pygments_lexer": "ipython3",
   "version": "3.10.14"
  },
  "papermill": {
   "default_parameters": {},
   "duration": 33.133956,
   "end_time": "2024-11-27T14:44:42.808021",
   "environment_variables": {},
   "exception": null,
   "input_path": "__notebook__.ipynb",
   "output_path": "__notebook__.ipynb",
   "parameters": {},
   "start_time": "2024-11-27T14:44:09.674065",
   "version": "2.6.0"
  }
 },
 "nbformat": 4,
 "nbformat_minor": 5
}

{
  "cells": [
    {
      "cell_type": "markdown",
      "metadata": {
        "id": "SkHzlvNaEm6B"
      },
      "source": [
        "# Resource optimisation using genetic algorithms\n",
        "\n",
        "This notebook illustrates the use of [genetic algorithms](https://en.wikipedia.org/wiki/Genetic_algorithm) (GA) to optimise the use of resources. The ECMWF [Autumn 2022 ECMWF newsletter No. 173](https://www.ecmwf.int/sites/default/files/elibrary/2022/20502-newsletter-no-173-autumn-2022.pdf) (on page 32) describes how they are used to optimise the placement of virtual machines in a cloud environment.\n",
        "\n",
        "As it is not possible for everyone to play with the example given in the newsletter, this notebook  considers an alternate resource optimisation problem using GA: the [Nurse Scheduling Problem](https://en.wikipedia.org/wiki/Nurse_scheduling_problem) (NSP). The NSP consists in organising the working shifts of a team of nurses in a hospital, according to a series of constraints such as _\"nurses must not do three shifts in the same day\"_, _\"nurses must not work a morning shift after a night shift\"_ or _\"these two nurses should not work on the same shift\"_.\n",
        "\n",
        "The notebook make use of the excellent [PyGAD](https://pygad.readthedocs.io/en/latest/) python package."
      ]
    },
    {
      "cell_type": "markdown",
      "metadata": {
        "id": "o_PxLUomEm6V"
      },
      "source": [
        "\n",
        "# Introduction\n",
        "\n",
        "Genetic algorithms are used to search for optimal solutions by simulating natural selection. The principle is to start with a *population* of possible solutions (*individuals*). Each solution is represented by a vector (*chromosome*) of symbols or numbers (*genes*). The steps are as follows:\n",
        "\n",
        "1. Initialisation: a population of several individuals is randomly generated. The more individuals, the more genetic diversity and the more likely that a solution is present in the population. \n",
        "\n",
        "1. Fitness Evaluation: in the case of natural selection, the fitest individuals will survive. In this step, we will compute a fitness for each individual in the population, using a fitness function. \n",
        "\n",
        "1. Selection: In this step, the fitest individuals are identified and selected. \n",
        "\n",
        "1. Crossover: the individuals selected in the previous step will \"mate\", this means that the genes of the fitest individuals used to create new individuals, that will therefore inherit a mix of genes from their parents.\n",
        "\n",
        "1. Mutation: because the optimum solution may not be present in the initial population, even by mixing genes, it is necessary to introduce some additional genetic diversity. This is achieved by randomly changing the genes of some individuals.\n",
        "\n",
        "1. Replacement: in order to keep the size of the population constant, the individuals with the lowest fitness will are replaced with the new offspring created during the crossover step.\n",
        "\n",
        "1. Termination: steps 2 to 7 are repeated until the maximum fitness in the population reaches a desired level. In this case, the algorithm stops and return the fitest individal as the best solution to the problem.\n",
        "\n",
        "## Crossover\n",
        "\n",
        "<pre>\n",
        "             +-----+-----+-----+-----+-----+-----+-----+\n",
        "Parent 1:    |  <span style=\"color:blue\"><b>a</b></span>  |  <span style=\"color:blue\"><b>b</b></span>  |  <span style=\"color:blue\"><b>c</b></span>  |  <span style=\"color:blue\"><b>b</b></span>  |  <span style=\"color:blue\"><b>d</b></span>  |  <span style=\"color:blue\"><b>c</b></span>  |  <span style=\"color:blue\"><b>a</b></span>  |\n",
        "             +-----+-----+-----+-----+-----+-----+-----+\n",
        "                                                             Generation N\n",
        "             +-----+-----+-----+-----+-----+-----+-----+\n",
        "Parent 2:    |  <span style=\"color:red\"><b>a</b></span>  |  <span style=\"color:red\"><b>c</b></span>  |  <span style=\"color:red\"><b>c</b></span>  |  <span style=\"color:red\"><b>b</b></span>  |  <span style=\"color:red\"><b>d</b></span>  |  <span style=\"color:red\"><b>a</b></span>  |  <span style=\"color:red\"><b>d</b></span>  |\n",
        "             +-----+-----+-----+-----+-----+-----+-----+\n",
        "\n",
        "                                  |\n",
        "                                  |\n",
        "                                  V\n",
        "\n",
        "             +-----+-----+-----+-----+-----+-----+-----+\n",
        "Offspring 1: |  <span style=\"color:blue\"><b>a</b></span>  |  <span style=\"color:blue\"><b>b</b></span>  |  <span style=\"color:blue\"><b>c</b></span>  |  <span style=\"color:blue\"><b>b</b></span>  |  <span style=\"color:red\"><b>d</b></span>  |  <span style=\"color:red\"><b>a</b></span>  |  <span style=\"color:red\"><b>d</b></span>  |\n",
        "             +-----+-----+-----+-----+-----+-----+-----+\n",
        "                                                             Generation N + 1\n",
        "             +-----+-----+-----+-----+-----+-----+-----+\n",
        "Offspring 2: |  <span style=\"color:red\"><b>a</b></span>  |  <span style=\"color:red\"><b>c</b></span>  |  <span style=\"color:red\"><b>c</b></span>  |  <span style=\"color:red\"><b>b</b></span>  |  <span style=\"color:blue\"><b>d</b></span>  |  <span style=\"color:blue\"><b>c</b></span>  |  <span style=\"color:blue\"><b>a</b></span>  |\n",
        "             +-----+-----+-----+-----+-----+-----+-----+\n",
        "\n",
        "</pre>\n",
        "\n",
        "## Mutation\n",
        "\n",
        "<pre>\n",
        "             +-----+-----+-----+-----+-----+-----+-----+\n",
        "Gene 1:      |  <span style=\"color:blue\"><b>a</b></span>  |  <span style=\"color:blue\"><b>b</b></span>  |  <span style=\"color:blue\"><b>c</b></span>  |  <span style=\"color:blue\"><b>b</b></span>  |  <span style=\"color:blue\"><b>d</b></span>  |  <span style=\"color:blue\"><b>c</b></span>  |  <span style=\"color:blue\"><b>a</b></span>  |     Generation N\n",
        "             +-----+-----+-----+-----+-----+-----+-----+\n",
        "\n",
        "\n",
        "                                  |\n",
        "                                  |\n",
        "                                  V\n",
        "\n",
        "             +-----+-----+-----+-----+-----+-----+-----+\n",
        "Gene 1:      |  <span style=\"color:blue\"><b>a</b></span>  |  <span style=\"color:blue\"><b>b</b></span>  |  <span style=\"color:blue\"><b>c</b></span>  |  <span style=\"color:red\"><b>x</b></span>  |  <span style=\"color:blue\"><b>d</b></span>  |  <span style=\"color:blue\"><b>c</b></span>  |  <span style=\"color:blue\"><b>a</b></span>  |     Generation N + 1\n",
        "             +-----+-----+-----+-----+-----+-----+-----+\n",
        "\n",
        "\n",
        "</pre>"
      ]
    },
    {
      "cell_type": "markdown",
      "metadata": {
        "id": "oR_UpgcnEm6a"
      },
      "source": [
        "# Problem\n",
        "\n",
        "In this notebook we will try to solve the _nurse scheduling problem_ with the following constraints:\n",
        "\n",
        "1. Make sure that a nurse is not allocated two or more shifts at the same time\n",
        "1. Make sure that a nurse is not given three shifts in the same day\n",
        "1. Make sure that a nurse does not work a morning shift after a night shift\n",
        "1. Nurses that dislike each other should not be on the same shift\n",
        "1. All nurses must have an equilateral number of shifts"
      ]
    },
    {
      "cell_type": "markdown",
      "metadata": {
        "id": "6poATqzSEm6c"
      },
      "source": [
        "## Setup"
      ]
    },
    {
      "cell_type": "markdown",
      "metadata": {
        "id": "mMDXLIeYEm6e"
      },
      "source": [
        "This link enables you to run the tutorial in Colab [![Open in Colab](https://colab.research.google.com/assets/colab-badge.svg)](https://colab.research.google.com/github/ecmwf-projects/mooc-machine-learning-weather-climate/blob/main/tier_3/operational_meteorology/resource_optimisation_genetic_algorithms.ipynb)"
      ]
    },
    {
      "cell_type": "markdown",
      "metadata": {
        "id": "TeH4eQp5Em6f"
      },
      "source": [
        "### Control Jupyter\n",
        "\n",
        "The code below will tell Jupyter not to create scrolling areas for long outputs. This is optional."
      ]
    },
    {
      "cell_type": "code",
      "execution_count": 25,
      "metadata": {
        "id": "F32PNnn6Em6h",
        "outputId": "1303b7c3-f7a7-4437-8603-033018eabbb6",
        "colab": {
          "base_uri": "https://localhost:8080/",
          "height": 17
        }
      },
      "outputs": [
        {
          "output_type": "display_data",
          "data": {
            "text/plain": [
              "<IPython.core.display.Javascript object>"
            ],
            "application/javascript": [
              "IPython.OutputArea.prototype._should_scroll = function(lines) {\n",
              "    return false;\n",
              "}\n"
            ]
          },
          "metadata": {}
        }
      ],
      "source": [
        "%%javascript\n",
        "IPython.OutputArea.prototype._should_scroll = function(lines) {\n",
        "    return false;\n",
        "}"
      ]
    },
    {
      "cell_type": "markdown",
      "metadata": {
        "id": "tpuKC8kmEm6m"
      },
      "source": [
        "### Import packages\n",
        "\n",
        "Next, we import the necessary Python packages. Please make sure they are installed on your computer by running:\n",
        "\n",
        "```bash\n",
        "pip3 install numpy pygad tqdm\n",
        "```"
      ]
    },
    {
      "cell_type": "code",
      "execution_count": 26,
      "metadata": {
        "id": "SUBm-DHLEm6n",
        "outputId": "a9977b47-a407-41c1-b941-0f58dacd8757",
        "colab": {
          "base_uri": "https://localhost:8080/"
        }
      },
      "outputs": [
        {
          "output_type": "stream",
          "name": "stdout",
          "text": [
            "Looking in indexes: https://pypi.org/simple, https://us-python.pkg.dev/colab-wheels/public/simple/\n",
            "Requirement already satisfied: numpy in /usr/local/lib/python3.9/dist-packages (1.22.4)\n",
            "Requirement already satisfied: pygad in /usr/local/lib/python3.9/dist-packages (3.0.0)\n",
            "Requirement already satisfied: tqdm in /usr/local/lib/python3.9/dist-packages (4.65.0)\n",
            "Requirement already satisfied: matplotlib in /usr/local/lib/python3.9/dist-packages (from pygad) (3.7.1)\n",
            "Requirement already satisfied: cloudpickle in /usr/local/lib/python3.9/dist-packages (from pygad) (2.2.1)\n",
            "Requirement already satisfied: fonttools>=4.22.0 in /usr/local/lib/python3.9/dist-packages (from matplotlib->pygad) (4.39.3)\n",
            "Requirement already satisfied: kiwisolver>=1.0.1 in /usr/local/lib/python3.9/dist-packages (from matplotlib->pygad) (1.4.4)\n",
            "Requirement already satisfied: contourpy>=1.0.1 in /usr/local/lib/python3.9/dist-packages (from matplotlib->pygad) (1.0.7)\n",
            "Requirement already satisfied: pillow>=6.2.0 in /usr/local/lib/python3.9/dist-packages (from matplotlib->pygad) (8.4.0)\n",
            "Requirement already satisfied: pyparsing>=2.3.1 in /usr/local/lib/python3.9/dist-packages (from matplotlib->pygad) (3.0.9)\n",
            "Requirement already satisfied: packaging>=20.0 in /usr/local/lib/python3.9/dist-packages (from matplotlib->pygad) (23.1)\n",
            "Requirement already satisfied: importlib-resources>=3.2.0 in /usr/local/lib/python3.9/dist-packages (from matplotlib->pygad) (5.12.0)\n",
            "Requirement already satisfied: cycler>=0.10 in /usr/local/lib/python3.9/dist-packages (from matplotlib->pygad) (0.11.0)\n",
            "Requirement already satisfied: python-dateutil>=2.7 in /usr/local/lib/python3.9/dist-packages (from matplotlib->pygad) (2.8.2)\n",
            "Requirement already satisfied: zipp>=3.1.0 in /usr/local/lib/python3.9/dist-packages (from importlib-resources>=3.2.0->matplotlib->pygad) (3.15.0)\n",
            "Requirement already satisfied: six>=1.5 in /usr/local/lib/python3.9/dist-packages (from python-dateutil>=2.7->matplotlib->pygad) (1.16.0)\n"
          ]
        }
      ],
      "source": [
        "!pip3 install numpy pygad tqdm"
      ]
    },
    {
      "cell_type": "code",
      "execution_count": 27,
      "metadata": {
        "id": "Tr8dA94bEm6p"
      },
      "outputs": [],
      "source": [
        "import random\n",
        "from collections import defaultdict\n",
        "\n",
        "import numpy as np\n",
        "import pygad\n",
        "from tqdm import tqdm\n"
      ]
    },
    {
      "cell_type": "markdown",
      "metadata": {
        "id": "2WSlGKn0Em6q"
      },
      "source": [
        "### Initialise\n",
        "\n",
        "The code below ensures that all successive runs of this notebook produce the same results by seeding Numpy's random generator. This cell can be deleted."
      ]
    },
    {
      "cell_type": "code",
      "execution_count": 28,
      "metadata": {
        "id": "FRkWqMLjEm6r"
      },
      "outputs": [],
      "source": [
        "np.random.seed(42)\n"
      ]
    },
    {
      "cell_type": "markdown",
      "metadata": {
        "id": "0N7UmdLLEm6s"
      },
      "source": [
        "### Settings"
      ]
    },
    {
      "cell_type": "code",
      "execution_count": 29,
      "metadata": {
        "id": "WA-mcRf1Em6t"
      },
      "outputs": [],
      "source": [
        "# Constants representing the problem\n",
        "\n",
        "SHIFTS = [\"morning\", \"afternoon\", \"night\"]\n",
        "\n",
        "number_of_nurses = 24\n",
        "number_of_nurses_per_room = 2\n",
        "number_of_bedrooms = 5\n",
        "number_of_days = 7\n",
        "number_of_shifts = len(SHIFTS)\n",
        "\n",
        "\n",
        "# We create a set of pairs of nurses that do not want to work together\n",
        "# To make things simple, we assume that 'odd' nurses do not want to work \n",
        "# with 'even' nurses. This will also allow us to easily check the solutions\n",
        "\n",
        "dislike_working_together = set()\n",
        "for n1 in range(number_of_nurses):\n",
        "    for n2 in range(n1,number_of_nurses):\n",
        "        if (n1 % 2) != (n2 % 2):\n",
        "            dislike_working_together.add((n1, n2))\n"
      ]
    },
    {
      "cell_type": "markdown",
      "metadata": {
        "id": "nlT8d4e9Em6u"
      },
      "source": [
        "### Structure of a chromosome\n",
        "\n",
        "We need to find a chromosome that can represent the problem we are trying to solve. As explained above, a _chromosome_ is a vector of _genes_, that represents a posible solution. To solve the NSP, we design the chromosoms as follows:\n",
        "\n",
        "* Each `gene` represents a nurse. \n",
        "* The length of a chromosome is  \n",
        "`number_of_days * number_of_shifts * number_of_bedrooms * number_of_nurses_per_room` and can be seen as a flattened four-dimensions structure:\n",
        "\n",
        "\n",
        "```\n",
        "1 <-------------------------------- Day 0 ------------------------------> <------- Day 1...\n",
        "2 <------------- morning ------------> <---------- afternoon -----------> <----- night ...\n",
        "3 <----R0---> <----R1---> <----R2---> <----R3---> <----R4---> <----R5---> <----R6 ...\n",
        "4 <-a-> <-b-> <-a-> <-b-> <-a-> <-b-> <-a-> <-b-> <-a-> <-b-> <-a-> <-b-> <-a-> ...\n",
        "\n",
        " +-----+-----+-----+-----+-----+-----+-----+-----+-----+-----+-----+-----+-----+---\n",
        " |  2  |  0  |  9  |  6  |  1  |  1  |  6  |  0  |  8  |  6  |  5  |  9  |  3  | ...\n",
        " +-----+-----+-----+-----+-----+-----+-----+-----+-----+-----+-----+-----+-----+---\n",
        "\n",
        "```\n",
        "\n",
        "* The first dimension represents the calendar days.\n",
        "* The second dimension represents the three possible shifts: _morning_, _afternoon_ and _night_.\n",
        "* The third dimension represents the hospital bedrooms.\n",
        "* The fourth dimension represents the two nurses _a_ and _b_ in each bedrooms.\n",
        "\n",
        "There are many ways to encode solutions into chromosomes, for example having the nurse as a dimension and the bedrooms as genes. We select that particular one as it does not require a special gene encoding for nurses not working. Is is also simpler to check for valid solutions: the same nurse cannot be allocated to the same room during a given shift.\n",
        "\n"
      ]
    },
    {
      "cell_type": "code",
      "execution_count": 30,
      "metadata": {
        "id": "dxcVpkHlEm6v"
      },
      "outputs": [],
      "source": [
        "num_genes = (\n",
        "    number_of_days* number_of_shifts* number_of_bedrooms* number_of_nurses_per_room\n",
        ")\n"
      ]
    },
    {
      "cell_type": "markdown",
      "metadata": {
        "id": "Xeox84xpEm6w"
      },
      "source": [
        "## Cost function\n",
        "\n",
        "This function establish the \"cost\" of a solution.\n",
        "\n",
        "As described in the introduction, we need to define a _fitness_ functionm, to assess which are the best solution. In the case of the NSP, tt is actually easier to compute a _cost_ function, which has a higher value if the solution is worse. Then, we simply defined `fiteness(x) = -cost(x)`\n",
        "\n",
        "Hard constraints are:\n",
        "\n",
        "* H1 - Make sure that a nurse is not allocated two or more shifts at the same time\n",
        "* H2 - Make sure that a nurse is not given three shifts in the same day\n",
        "* H3 - Make sure that a nurse does not work a morning shift after a night shift\n",
        "\n",
        "Soft constraints are:\n",
        "\n",
        "* S1 - Nurses that dislike each other should not be on the same shift\n",
        "* S2 - All nurses must have an equilateral number of shifts\n",
        "\n",
        "\n",
        "When writing this function, emphasis has been put on readability over performance."
      ]
    },
    {
      "cell_type": "code",
      "execution_count": 31,
      "metadata": {
        "id": "c-1JH3dmEm6x"
      },
      "outputs": [],
      "source": [
        "def cost(solution, report=False):\n",
        "\n",
        "    # PyGAD represents chromosoms as  1D vectors\n",
        "    # So we reshape them do recover our structure\n",
        "    solution = solution.reshape(\n",
        "        (\n",
        "            number_of_days,\n",
        "            number_of_shifts,\n",
        "            number_of_bedrooms,\n",
        "            number_of_nurses_per_room,\n",
        "        )\n",
        "    )\n",
        "\n",
        "    # Counters for eacj constrainsf\n",
        "\n",
        "    double_bookings = 0\n",
        "    all_day_shifts = 0\n",
        "    morning_after_night_shift = 0\n",
        "    dislike = 0\n",
        "    work_spread = 0\n",
        "\n",
        "    nurse_shifts = defaultdict(list) # Collect all shifts/rooms per nurse\n",
        "    work_together = set() # Collect information about who has a shift with whom\n",
        "\n",
        "    \n",
        "    for day in range(number_of_days):\n",
        "        for shift in range(number_of_shifts):\n",
        "            nurses = set() # Keep track of nurses  seen for that shift\n",
        "            for bedroom in range(number_of_bedrooms):\n",
        "                together = [] # Keep track of nurses working in that room\n",
        "                for n in range(number_of_nurses_per_room):\n",
        "                    nurse = solution[day, shift, bedroom, n]\n",
        "                    if nurse in nurses:\n",
        "                        double_bookings += 1 # Count double bookings\n",
        "                    nurses.add(nurse) # Mark this nurse as busy\n",
        "                    together.append(nurse) # Collect who works in that room for that shift\n",
        "\n",
        "                    nurse_shifts[nurse].append((day, shift)) # Collect all shifts per nurse\n",
        "\n",
        "                work_together.add(tuple(sorted(together))) # Collect information about who has a shift with whom\n",
        "\n",
        "    # For each nurse, check for consecutive shifts\n",
        "    shifts_per_nurse = []\n",
        "    for nurse, shifts in nurse_shifts.items():\n",
        "        for (day1, shift1), (day2, shift2), (day3, shift3) in zip(\n",
        "            shifts, shifts[1:], shifts[2:]\n",
        "        ):\n",
        "            # Two shifts in a raw on the same day\n",
        "            if day1 == day2 and day2 == day3:\n",
        "                all_day_shifts += 1\n",
        "\n",
        "            # A morning shift following a night shift\n",
        "            if day1 + 1 == day2 and shift1 == 2 and shift2 == 0:\n",
        "                morning_after_night_shift += 1\n",
        "\n",
        "        shifts_per_nurse.append(len(shifts)) # Count total number of shifts per nurse\n",
        "        \n",
        "    # If difference bewteen the nurse doing the most shifts and \n",
        "    # the  nurse doing the least shifts is more than 1\n",
        "    if max(shifts_per_nurse) - min(shifts_per_nurse) > 1:\n",
        "        # We compute by how much each nurse's number of shifts\n",
        "        # is different from the average. \n",
        "        average_shifts = sum(shifts_per_nurse) / len(shifts_per_nurse)\n",
        "        for w in shifts_per_nurse:\n",
        "            work_spread += abs(w - average_shifts)\n",
        "\n",
        "\n",
        "    # Then we count how many pairs of nurses that do not like each\n",
        "    # other are sharing the same shift\n",
        "    for n1, n2 in work_together:\n",
        "        if (n1, n2) in dislike_working_together:\n",
        "            dislike += 1\n",
        "            \n",
        "    if report:\n",
        "        print(\"Double bookings:\", double_bookings)\n",
        "        print(\"All-day shifts:\", all_day_shifts)\n",
        "        print(\"Morning shift after night shift:\", morning_after_night_shift)\n",
        "        print(\"Dislike:\", dislike)\n",
        "        print(\"Work spread:\", work_spread)\n",
        "        print(\"Shifts per nurse:\", shifts_per_nurse)\n",
        "\n",
        "    # We compute the cost\n",
        "    hard_constraints = double_bookings + all_day_shifts + morning_after_night_shift\n",
        "    soft_constraints = dislike * 100 + work_spread\n",
        "\n",
        "    return hard_constraints * 10000 + soft_constraints\n"
      ]
    },
    {
      "cell_type": "code",
      "execution_count": 32,
      "metadata": {
        "id": "pv42yhfCEm6y"
      },
      "outputs": [],
      "source": [
        "# Our fitness function is simply the opposite of the cost function\n",
        "\n",
        "def fitness_func(ga_instance, solution, index):\n",
        "    return -cost(solution)\n"
      ]
    },
    {
      "cell_type": "code",
      "execution_count": 33,
      "metadata": {
        "id": "oOjPBLAcEm6z"
      },
      "outputs": [],
      "source": [
        "num_generations = 3000\n",
        "pop_size = 100\n"
      ]
    },
    {
      "cell_type": "markdown",
      "metadata": {
        "id": "ccASWdhBEm61"
      },
      "source": [
        "### Main loop\n",
        "\n",
        "Depending on the computer you are running "
      ]
    },
    {
      "cell_type": "code",
      "execution_count": 34,
      "metadata": {
        "id": "aX526ThnEm62",
        "outputId": "1c25c73e-8a60-468f-ebe2-6ff11ff5d770",
        "colab": {
          "base_uri": "https://localhost:8080/"
        }
      },
      "outputs": [
        {
          "output_type": "stream",
          "name": "stderr",
          "text": [
            "100%|██████████| 3000/3000 [02:07<00:00, 23.60it/s]"
          ]
        },
        {
          "output_type": "stream",
          "name": "stdout",
          "text": [
            "Fitness of best solution: 0.0\n"
          ]
        },
        {
          "output_type": "stream",
          "name": "stderr",
          "text": [
            "\n"
          ]
        }
      ],
      "source": [
        "with tqdm(total=num_generations) as pbar:\n",
        "    ga_instance = pygad.GA(\n",
        "        num_generations=num_generations, # Number of generations to run the algorithm for\n",
        "        fitness_func=fitness_func, # The fitness function\n",
        "        num_genes=num_genes, # The number of genes\n",
        "        num_parents_mating=6, # The number of parents that will create offsprings in the next generation\n",
        "        sol_per_pop=pop_size, # The size of the population\n",
        "        gene_type=int, # Our genes are all integers\n",
        "        gene_space=list(range(number_of_nurses)), # Possible values for each gene\n",
        "        mutation_percent_genes=0.05, # Mutation rate\n",
        "        mutation_num_genes=2, # Number of gene to mutate\n",
        "        mutation_by_replacement=True,\n",
        "        on_generation=lambda _: pbar.update(1),\n",
        "    )\n",
        "    ga_instance.run()\n",
        "\n",
        "solution, fitness, _ = ga_instance.best_solution()\n",
        "print(f'Fitness of best solution: {fitness}')\n"
      ]
    },
    {
      "cell_type": "markdown",
      "metadata": {
        "id": "3rGoQZDqEm63"
      },
      "source": [
        "## Reports"
      ]
    },
    {
      "cell_type": "code",
      "execution_count": 35,
      "metadata": {
        "id": "sPOH3VQMEm64",
        "outputId": "685c9ecb-a1ef-4683-bb42-46e9f2524604",
        "colab": {
          "base_uri": "https://localhost:8080/"
        }
      },
      "outputs": [
        {
          "output_type": "stream",
          "name": "stdout",
          "text": [
            "Double bookings: 0\n",
            "All-day shifts: 0\n",
            "Morning shift after night shift: 0\n",
            "Dislike: 0\n",
            "Work spread: 0\n",
            "Shifts per nurse: [9, 8, 9, 8, 9, 9, 9, 9, 9, 9, 9, 9, 9, 9, 8, 9, 9, 9, 8, 9, 9, 8, 9, 8]\n"
          ]
        },
        {
          "output_type": "execute_result",
          "data": {
            "text/plain": [
              "0"
            ]
          },
          "metadata": {},
          "execution_count": 35
        }
      ],
      "source": [
        "cost(solution, report=True)"
      ]
    },
    {
      "cell_type": "code",
      "execution_count": 36,
      "metadata": {
        "id": "E7UlWNWJEm65"
      },
      "outputs": [],
      "source": [
        "solution = solution = solution.reshape(\n",
        "    (\n",
        "        number_of_days,\n",
        "        number_of_shifts,\n",
        "        number_of_bedrooms,\n",
        "        number_of_nurses_per_room,\n",
        "    )\n",
        ")\n"
      ]
    },
    {
      "cell_type": "markdown",
      "metadata": {
        "id": "aGLGhJEtEm65"
      },
      "source": [
        "### Daily Schedule"
      ]
    },
    {
      "cell_type": "code",
      "execution_count": 37,
      "metadata": {
        "id": "b6K-tju0Em66",
        "outputId": "833933f1-0491-446a-e6c7-4f74e19542fe",
        "colab": {
          "base_uri": "https://localhost:8080/"
        }
      },
      "outputs": [
        {
          "output_type": "stream",
          "name": "stdout",
          "text": [
            "Day 0\n",
            "  morning   bedroom 0 nurses: 16  8\n",
            "  morning   bedroom 1 nurses:  4 18\n",
            "  morning   bedroom 2 nurses:  3  5\n",
            "  morning   bedroom 3 nurses: 23  7\n",
            "  morning   bedroom 4 nurses: 21 15\n",
            "  afternoon bedroom 0 nurses:  0  8\n",
            "  afternoon bedroom 1 nurses:  3 23\n",
            "  afternoon bedroom 2 nurses: 21 17\n",
            "  afternoon bedroom 3 nurses: 20  4\n",
            "  afternoon bedroom 4 nurses: 10 22\n",
            "  night     bedroom 0 nurses:  1 13\n",
            "  night     bedroom 1 nurses:  6 14\n",
            "  night     bedroom 2 nurses:  2 10\n",
            "  night     bedroom 3 nurses: 19 17\n",
            "  night     bedroom 4 nurses: 20  0\n",
            "\n",
            "Day 1\n",
            "  morning   bedroom 0 nurses: 15  9\n",
            "  morning   bedroom 1 nurses: 12  4\n",
            "  morning   bedroom 2 nurses:  3  5\n",
            "  morning   bedroom 3 nurses: 16  8\n",
            "  morning   bedroom 4 nurses: 22 18\n",
            "  afternoon bedroom 0 nurses: 21 15\n",
            "  afternoon bedroom 1 nurses: 23  7\n",
            "  afternoon bedroom 2 nurses: 11 19\n",
            "  afternoon bedroom 3 nurses:  6 16\n",
            "  afternoon bedroom 4 nurses:  2 18\n",
            "  night     bedroom 0 nurses: 17  5\n",
            "  night     bedroom 1 nurses:  6  2\n",
            "  night     bedroom 2 nurses: 14  0\n",
            "  night     bedroom 3 nurses: 11 13\n",
            "  night     bedroom 4 nurses: 21  1\n",
            "\n",
            "Day 2\n",
            "  morning   bedroom 0 nurses: 22 12\n",
            "  morning   bedroom 1 nurses:  4 20\n",
            "  morning   bedroom 2 nurses:  3 15\n",
            "  morning   bedroom 3 nurses: 19  7\n",
            "  morning   bedroom 4 nurses: 23  9\n",
            "  afternoon bedroom 0 nurses:  5 21\n",
            "  afternoon bedroom 1 nurses:  8 22\n",
            "  afternoon bedroom 2 nurses:  0 14\n",
            "  afternoon bedroom 3 nurses: 10 20\n",
            "  afternoon bedroom 4 nurses: 12  2\n",
            "  night     bedroom 0 nurses:  6 10\n",
            "  night     bedroom 1 nurses: 15  9\n",
            "  night     bedroom 2 nurses:  5  7\n",
            "  night     bedroom 3 nurses: 11 23\n",
            "  night     bedroom 4 nurses: 19  3\n",
            "\n",
            "Day 3\n",
            "  morning   bedroom 0 nurses: 18  0\n",
            "  morning   bedroom 1 nurses: 22  4\n",
            "  morning   bedroom 2 nurses:  1 13\n",
            "  morning   bedroom 3 nurses: 20 14\n",
            "  morning   bedroom 4 nurses: 12  8\n",
            "  afternoon bedroom 0 nurses: 15  3\n",
            "  afternoon bedroom 1 nurses: 17 11\n",
            "  afternoon bedroom 2 nurses:  1 19\n",
            "  afternoon bedroom 3 nurses: 12 14\n",
            "  afternoon bedroom 4 nurses: 10 22\n",
            "  night     bedroom 0 nurses:  2 18\n",
            "  night     bedroom 1 nurses:  9  5\n",
            "  night     bedroom 2 nurses: 13  7\n",
            "  night     bedroom 3 nurses:  4  6\n",
            "  night     bedroom 4 nurses: 15  3\n",
            "\n",
            "Day 4\n",
            "  morning   bedroom 0 nurses: 21 17\n",
            "  morning   bedroom 1 nurses: 11  1\n",
            "  morning   bedroom 2 nurses: 16 10\n",
            "  morning   bedroom 3 nurses: 23 19\n",
            "  morning   bedroom 4 nurses: 12  8\n",
            "  afternoon bedroom 0 nurses: 16  6\n",
            "  afternoon bedroom 1 nurses: 20 14\n",
            "  afternoon bedroom 2 nurses:  7 11\n",
            "  afternoon bedroom 3 nurses: 17 13\n",
            "  afternoon bedroom 4 nurses: 19  5\n",
            "  night     bedroom 0 nurses: 22 14\n",
            "  night     bedroom 1 nurses:  3 13\n",
            "  night     bedroom 2 nurses:  7  9\n",
            "  night     bedroom 3 nurses:  1 21\n",
            "  night     bedroom 4 nurses:  4 20\n",
            "\n",
            "Day 5\n",
            "  morning   bedroom 0 nurses: 17 23\n",
            "  morning   bedroom 1 nurses:  6 12\n",
            "  morning   bedroom 2 nurses:  8 14\n",
            "  morning   bedroom 3 nurses: 16 18\n",
            "  morning   bedroom 4 nurses: 10  2\n",
            "  afternoon bedroom 0 nurses:  5 13\n",
            "  afternoon bedroom 1 nurses: 17  1\n",
            "  afternoon bedroom 2 nurses:  4  6\n",
            "  afternoon bedroom 3 nurses: 10  0\n",
            "  afternoon bedroom 4 nurses:  9  7\n",
            "  night     bedroom 0 nurses:  8 20\n",
            "  night     bedroom 1 nurses:  1 21\n",
            "  night     bedroom 2 nurses: 18  2\n",
            "  night     bedroom 3 nurses: 13  9\n",
            "  night     bedroom 4 nurses:  0 16\n",
            "\n",
            "Day 6\n",
            "  morning   bedroom 0 nurses: 20 22\n",
            "  morning   bedroom 1 nurses: 11 23\n",
            "  morning   bedroom 2 nurses: 17  5\n",
            "  morning   bedroom 3 nurses:  9  7\n",
            "  morning   bedroom 4 nurses: 19 15\n",
            "  afternoon bedroom 0 nurses:  4 16\n",
            "  afternoon bedroom 1 nurses:  0 10\n",
            "  afternoon bedroom 2 nurses: 12  2\n",
            "  afternoon bedroom 3 nurses:  3 13\n",
            "  afternoon bedroom 4 nurses:  1 15\n",
            "  night     bedroom 0 nurses: 12 16\n",
            "  night     bedroom 1 nurses:  6 18\n",
            "  night     bedroom 2 nurses: 19 21\n",
            "  night     bedroom 3 nurses: 23 11\n",
            "  night     bedroom 4 nurses:  0  2\n",
            "\n"
          ]
        }
      ],
      "source": [
        "# Output a schedule for each day\n",
        "\n",
        "for day in range(number_of_days):\n",
        "    print(\"Day\", day)\n",
        "    for shift in range(number_of_shifts):\n",
        "        for bedroom in range(number_of_bedrooms):\n",
        "            print(\n",
        "                \" \", \"{:9}\".format(SHIFTS[shift]), \"bedroom\", bedroom, \"nurses:\", end=\"\"\n",
        "            )\n",
        "            for n in range(number_of_nurses_per_room):\n",
        "                nurse = solution[day, shift, bedroom, n]\n",
        "                print(f\" {nurse:-2}\", end=\"\")\n",
        "            print()\n",
        "    print()\n"
      ]
    },
    {
      "cell_type": "markdown",
      "metadata": {
        "id": "TKiZkc-jEm67"
      },
      "source": [
        "### Per-nurse schedule\n",
        "\n",
        "The code below prints the solution from the point of view of each nurse."
      ]
    },
    {
      "cell_type": "code",
      "execution_count": 38,
      "metadata": {
        "id": "Kb2o7pnOEm67",
        "outputId": "6148c3f1-b318-4b2e-bee2-5ead2da2bc8b",
        "colab": {
          "base_uri": "https://localhost:8080/"
        }
      },
      "outputs": [
        {
          "output_type": "stream",
          "name": "stdout",
          "text": [
            "Nurse 0\n",
            " Day 0: morning . afternoon 0 night 4\n",
            " Day 1: morning . afternoon . night 2\n",
            " Day 2: morning . afternoon 2 night .\n",
            " Day 3: morning 0 afternoon . night .\n",
            " Day 4: morning . afternoon . night .\n",
            " Day 5: morning . afternoon 3 night 4\n",
            " Day 6: morning . afternoon 1 night 4\n",
            "\n",
            "Nurse 1\n",
            " Day 0: morning . afternoon . night 0\n",
            " Day 1: morning . afternoon . night 4\n",
            " Day 2: morning . afternoon . night .\n",
            " Day 3: morning 2 afternoon 2 night .\n",
            " Day 4: morning 1 afternoon . night 3\n",
            " Day 5: morning . afternoon 1 night 1\n",
            " Day 6: morning . afternoon 4 night .\n",
            "\n",
            "Nurse 2\n",
            " Day 0: morning . afternoon . night 2\n",
            " Day 1: morning . afternoon 4 night 1\n",
            " Day 2: morning . afternoon 4 night .\n",
            " Day 3: morning . afternoon . night 0\n",
            " Day 4: morning . afternoon . night .\n",
            " Day 5: morning 4 afternoon . night 2\n",
            " Day 6: morning . afternoon 2 night 4\n",
            "\n",
            "Nurse 3\n",
            " Day 0: morning 2 afternoon 1 night .\n",
            " Day 1: morning 2 afternoon . night .\n",
            " Day 2: morning 2 afternoon . night 4\n",
            " Day 3: morning . afternoon 0 night 4\n",
            " Day 4: morning . afternoon . night 1\n",
            " Day 5: morning . afternoon . night .\n",
            " Day 6: morning . afternoon 3 night .\n",
            "\n",
            "Nurse 4\n",
            " Day 0: morning 1 afternoon 3 night .\n",
            " Day 1: morning 1 afternoon . night .\n",
            " Day 2: morning 1 afternoon . night .\n",
            " Day 3: morning 1 afternoon . night 3\n",
            " Day 4: morning . afternoon . night 4\n",
            " Day 5: morning . afternoon 2 night .\n",
            " Day 6: morning . afternoon 0 night .\n",
            "\n",
            "Nurse 5\n",
            " Day 0: morning 2 afternoon . night .\n",
            " Day 1: morning 2 afternoon . night 0\n",
            " Day 2: morning . afternoon 0 night 2\n",
            " Day 3: morning . afternoon . night 1\n",
            " Day 4: morning . afternoon 4 night .\n",
            " Day 5: morning . afternoon 0 night .\n",
            " Day 6: morning 2 afternoon . night .\n",
            "\n",
            "Nurse 6\n",
            " Day 0: morning . afternoon . night 1\n",
            " Day 1: morning . afternoon 3 night 1\n",
            " Day 2: morning . afternoon . night 0\n",
            " Day 3: morning . afternoon . night 3\n",
            " Day 4: morning . afternoon 0 night .\n",
            " Day 5: morning 1 afternoon 2 night .\n",
            " Day 6: morning . afternoon . night 1\n",
            "\n",
            "Nurse 7\n",
            " Day 0: morning 3 afternoon . night .\n",
            " Day 1: morning . afternoon 1 night .\n",
            " Day 2: morning 3 afternoon . night 2\n",
            " Day 3: morning . afternoon . night 2\n",
            " Day 4: morning . afternoon 2 night 2\n",
            " Day 5: morning . afternoon 4 night .\n",
            " Day 6: morning 3 afternoon . night .\n",
            "\n",
            "Nurse 8\n",
            " Day 0: morning 0 afternoon 0 night .\n",
            " Day 1: morning 3 afternoon . night .\n",
            " Day 2: morning . afternoon 1 night .\n",
            " Day 3: morning 4 afternoon . night .\n",
            " Day 4: morning 4 afternoon . night .\n",
            " Day 5: morning 2 afternoon . night 0\n",
            " Day 6: morning . afternoon . night .\n",
            "\n",
            "Nurse 9\n",
            " Day 0: morning . afternoon . night .\n",
            " Day 1: morning 0 afternoon . night .\n",
            " Day 2: morning 4 afternoon . night 1\n",
            " Day 3: morning . afternoon . night 1\n",
            " Day 4: morning . afternoon . night 2\n",
            " Day 5: morning . afternoon 4 night 3\n",
            " Day 6: morning 3 afternoon . night .\n",
            "\n",
            "Nurse 10\n",
            " Day 0: morning . afternoon 4 night 2\n",
            " Day 1: morning . afternoon . night .\n",
            " Day 2: morning . afternoon 3 night 0\n",
            " Day 3: morning . afternoon 4 night .\n",
            " Day 4: morning 2 afternoon . night .\n",
            " Day 5: morning 4 afternoon 3 night .\n",
            " Day 6: morning . afternoon 1 night .\n",
            "\n",
            "Nurse 11\n",
            " Day 0: morning . afternoon . night .\n",
            " Day 1: morning . afternoon 2 night 3\n",
            " Day 2: morning . afternoon . night 3\n",
            " Day 3: morning . afternoon 1 night .\n",
            " Day 4: morning 1 afternoon 2 night .\n",
            " Day 5: morning . afternoon . night .\n",
            " Day 6: morning 1 afternoon . night 3\n",
            "\n",
            "Nurse 12\n",
            " Day 0: morning . afternoon . night .\n",
            " Day 1: morning 1 afternoon . night .\n",
            " Day 2: morning 0 afternoon 4 night .\n",
            " Day 3: morning 4 afternoon 3 night .\n",
            " Day 4: morning 4 afternoon . night .\n",
            " Day 5: morning 1 afternoon . night .\n",
            " Day 6: morning . afternoon 2 night 0\n",
            "\n",
            "Nurse 13\n",
            " Day 0: morning . afternoon . night 0\n",
            " Day 1: morning . afternoon . night 3\n",
            " Day 2: morning . afternoon . night .\n",
            " Day 3: morning 2 afternoon . night 2\n",
            " Day 4: morning . afternoon 3 night 1\n",
            " Day 5: morning . afternoon 0 night 3\n",
            " Day 6: morning . afternoon 3 night .\n",
            "\n",
            "Nurse 14\n",
            " Day 0: morning . afternoon . night 1\n",
            " Day 1: morning . afternoon . night 2\n",
            " Day 2: morning . afternoon 2 night .\n",
            " Day 3: morning 3 afternoon 3 night .\n",
            " Day 4: morning . afternoon 1 night 0\n",
            " Day 5: morning 2 afternoon . night .\n",
            " Day 6: morning . afternoon . night .\n",
            "\n",
            "Nurse 15\n",
            " Day 0: morning 4 afternoon . night .\n",
            " Day 1: morning 0 afternoon 0 night .\n",
            " Day 2: morning 2 afternoon . night 1\n",
            " Day 3: morning . afternoon 0 night 4\n",
            " Day 4: morning . afternoon . night .\n",
            " Day 5: morning . afternoon . night .\n",
            " Day 6: morning 4 afternoon 4 night .\n",
            "\n",
            "Nurse 16\n",
            " Day 0: morning 0 afternoon . night .\n",
            " Day 1: morning 3 afternoon 3 night .\n",
            " Day 2: morning . afternoon . night .\n",
            " Day 3: morning . afternoon . night .\n",
            " Day 4: morning 2 afternoon 0 night .\n",
            " Day 5: morning 3 afternoon . night 4\n",
            " Day 6: morning . afternoon 0 night 0\n",
            "\n",
            "Nurse 17\n",
            " Day 0: morning . afternoon 2 night 3\n",
            " Day 1: morning . afternoon . night 0\n",
            " Day 2: morning . afternoon . night .\n",
            " Day 3: morning . afternoon 1 night .\n",
            " Day 4: morning 0 afternoon 3 night .\n",
            " Day 5: morning 0 afternoon 1 night .\n",
            " Day 6: morning 2 afternoon . night .\n",
            "\n",
            "Nurse 18\n",
            " Day 0: morning 1 afternoon . night .\n",
            " Day 1: morning 4 afternoon 4 night .\n",
            " Day 2: morning . afternoon . night .\n",
            " Day 3: morning 0 afternoon . night 0\n",
            " Day 4: morning . afternoon . night .\n",
            " Day 5: morning 3 afternoon . night 2\n",
            " Day 6: morning . afternoon . night 1\n",
            "\n",
            "Nurse 19\n",
            " Day 0: morning . afternoon . night 3\n",
            " Day 1: morning . afternoon 2 night .\n",
            " Day 2: morning 3 afternoon . night 4\n",
            " Day 3: morning . afternoon 2 night .\n",
            " Day 4: morning 3 afternoon 4 night .\n",
            " Day 5: morning . afternoon . night .\n",
            " Day 6: morning 4 afternoon . night 2\n",
            "\n",
            "Nurse 20\n",
            " Day 0: morning . afternoon 3 night 4\n",
            " Day 1: morning . afternoon . night .\n",
            " Day 2: morning 1 afternoon 3 night .\n",
            " Day 3: morning 3 afternoon . night .\n",
            " Day 4: morning . afternoon 1 night 4\n",
            " Day 5: morning . afternoon . night 0\n",
            " Day 6: morning 0 afternoon . night .\n",
            "\n",
            "Nurse 21\n",
            " Day 0: morning 4 afternoon 2 night .\n",
            " Day 1: morning . afternoon 0 night 4\n",
            " Day 2: morning . afternoon 0 night .\n",
            " Day 3: morning . afternoon . night .\n",
            " Day 4: morning 0 afternoon . night 3\n",
            " Day 5: morning . afternoon . night 1\n",
            " Day 6: morning . afternoon . night 2\n",
            "\n",
            "Nurse 22\n",
            " Day 0: morning . afternoon 4 night .\n",
            " Day 1: morning 4 afternoon . night .\n",
            " Day 2: morning 0 afternoon 1 night .\n",
            " Day 3: morning 1 afternoon 4 night .\n",
            " Day 4: morning . afternoon . night 0\n",
            " Day 5: morning . afternoon . night .\n",
            " Day 6: morning 0 afternoon . night .\n",
            "\n",
            "Nurse 23\n",
            " Day 0: morning 3 afternoon 1 night .\n",
            " Day 1: morning . afternoon 1 night .\n",
            " Day 2: morning 4 afternoon . night 3\n",
            " Day 3: morning . afternoon . night .\n",
            " Day 4: morning 3 afternoon . night .\n",
            " Day 5: morning 0 afternoon . night .\n",
            " Day 6: morning 1 afternoon . night 3\n",
            "\n"
          ]
        }
      ],
      "source": [
        "# Output a schedule for each nurse\n",
        "\n",
        "# Reorganise the solution per nurse\n",
        "# `nurse_shifts` will contain a tuple (`day`, `shift`, `bedroom`)\n",
        "# for each nurse\n",
        "\n",
        "nurse_shifts = defaultdict(list)  \n",
        "for day in range(number_of_days):\n",
        "    for shift in range(number_of_shifts):\n",
        "        for bedroom in range(number_of_bedrooms):\n",
        "            for n in range(number_of_nurses_per_room):\n",
        "                nurse = solution[day, shift, bedroom, n]\n",
        "                nurse_shifts[nurse].append((day, shift, bedroom))\n",
        "\n",
        "# Output the results\n",
        "\n",
        "for nurse, shifts in sorted(nurse_shifts.items()):\n",
        "    print(\"Nurse\", nurse)\n",
        "    bedrooms = {}\n",
        "    for (day, shift, bedroom) in shifts:\n",
        "        bedrooms[(day, shift)] = bedroom\n",
        "\n",
        "    for day in range(number_of_days):\n",
        "        print(f\" Day {day}:\", end=\"\")\n",
        "        for shift in range(number_of_shifts):\n",
        "            bedroom = bedrooms.get((day, shift), \".\")\n",
        "            print(f\" {SHIFTS[shift]} {bedroom}\", end=\"\")\n",
        "        print()\n",
        "    print()\n"
      ]
    }
  ],
  "metadata": {
    "kernelspec": {
      "display_name": "Python 3 (ipykernel)",
      "language": "python",
      "name": "python3"
    },
    "language_info": {
      "codemirror_mode": {
        "name": "ipython",
        "version": 3
      },
      "file_extension": ".py",
      "mimetype": "text/x-python",
      "name": "python",
      "nbconvert_exporter": "python",
      "pygments_lexer": "ipython3",
      "version": "3.9.7"
    },
    "vscode": {
      "interpreter": {
        "hash": "b0fa6594d8f4cbf19f97940f81e996739fb7646882a419484c72d19e05852a7e"
      }
    },
    "colab": {
      "provenance": []
    }
  },
  "nbformat": 4,
  "nbformat_minor": 0
}